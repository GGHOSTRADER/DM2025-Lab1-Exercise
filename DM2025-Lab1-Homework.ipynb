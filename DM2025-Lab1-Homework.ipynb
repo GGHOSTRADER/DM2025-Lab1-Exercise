{
 "cells": [
  {
   "cell_type": "markdown",
   "metadata": {},
   "source": [
    "### Student Information\n",
    "Name: Guillermo Alfonso Medrano Sanchez\n",
    "\n",
    "Student ID: 114065425\n",
    "\n",
    "GitHub ID: GGHOSTRADER"
   ]
  },
  {
   "cell_type": "markdown",
   "metadata": {},
   "source": [
    "---"
   ]
  },
  {
   "cell_type": "markdown",
   "metadata": {},
   "source": [
    "### Instructions"
   ]
  },
  {
   "cell_type": "markdown",
   "metadata": {},
   "source": [
    "### First Phase Submission"
   ]
  },
  {
   "cell_type": "markdown",
   "metadata": {},
   "source": [
    "1. First: do the **take home** exercises in the [DM2025-Lab1-Master](https://github.com/leoson-wu/DM2025-Lab1-Exercise/blob/main/DM2025-Lab1-Master.ipynb) that considered as **phase 1 (from exercise 1 to exercise 15)**. You can answer in the master file. __This part is worth 10% of your grade.__\n",
    "\n",
    "\n",
    "2. Second: follow the same process from the [DM2025-Lab1-Master](https://github.com/leoson-wu/DM2025-Lab1-Exercise/blob/main/DM2025-Lab1-Master.ipynb) on **the new dataset** up **until phase 1**. You can skip some exercises if you think some steps are not necessary. However main exercises should be completed. You don't need to explain all details as we did (some **minimal comments** explaining your code are useful though).  __This part is worth 15% of your grade.__\n",
    "    -  Use [the new dataset](https://github.com/leoson-wu/DM2025-Lab1-Exercise/blob/main/newdataset/Reddit-stock-sentiment.csv). The dataset contains a 16 columns including 'text' and 'label', with the sentiment labels being: 1.0 is positive, 0.0 is neutral and -1.0 is negative. You can simplify the dataset and use only the columns that you think are necessary. \n",
    "    \n",
    "    - You are allowed to use and modify the `helper` functions in the folder of the first lab session (notice they may need modification) or create your own.\n",
    "    - Use this file to complete the homework from the second part. Make sure the code can be run from the beginning till the end and has all the needed output.\n",
    "\n",
    "\n",
    "3. Third: please attempt the following tasks on **the new dataset**. __This part is worth 10% of your grade.__\n",
    "    - Generate meaningful **new data visualizations**. Refer to online resources and the Data Mining textbook for inspiration and ideas. \n",
    "    \n",
    "\n",
    "\n",
    "4. Fourth: It's hard for us to follow if your code is messy, so please **tidy up your notebook** and **add minimal comments where needed**. __This part is worth 5% of your grade.__\n",
    "\n",
    "You can submit your homework following these guidelines: [DM2025-Lab1-announcement](https://github.com/leoson-wu/DM2025-Lab1-Announcement/blob/main/README.md). Make sure to commit and save your changes to your repository __BEFORE the deadline (September 28th 11:59 pm, Sunday)__. "
   ]
  },
  {
   "cell_type": "markdown",
   "metadata": {},
   "source": [
    "### Second Phase Submission "
   ]
  },
  {
   "cell_type": "markdown",
   "metadata": {},
   "source": [
    "**You can keep the answer for phase 1 for easier running and update the phase 2 on the same page.**\n",
    "\n",
    "1. First: Continue doing the **take home** exercises in the [DM2025-Lab1-Master](https://github.com/leoson-wu/DM2025-Lab1-Exercise/blob/main/DM2025-Lab1-Master.ipynb) for **phase 2, starting from Finding frequent patterns**. Use the same master(.ipynb) file. Answer from phase 1 will not be considered at this stage. You can answer in the master file. __This part is worth 10% of your grade.__\n",
    "\n",
    "\n",
    "2. Second: Continue from first phase and do the same process from the [DM2025-Lab1-Master](https://github.com/leoson-wu/DM2025-Lab1-Exercise/blob/main/DM2025-Lab1-Master.ipynb) on **the new dataset** for phase 2, starting from Finding frequent pattern. You can skip some exercises if you think some steps are not necessary. However main exercises should be completed. You don't need to explain all details as we did (some **minimal comments** explaining your code are useful though).  __This part is worth 15% of your grade.__\n",
    "    - Continue using this file to complete the homework from the second part. Make sure the code can be run from the beginning till the end and has all the needed output. Use the same new dataset as in phase 1.\n",
    "    \n",
    "    - You are allowed to use and modify the `helper` functions in the folder of the first lab session (notice they may need modification) or create your own.\n",
    "\n",
    "3. Third: please attempt the following tasks on **the new dataset**. __This part is worth 20% of your grade.__\n",
    "    - Use this file to answer.\n",
    "    - Generate **TF-IDF features** from the tokens of each text. This will generating a document matrix, however, the weights will be computed differently (using the TF-IDF value of each word per document as opposed to the word frequency).  Refer to this Scikit-learn [guide](http://scikit-learn.org/stable/modules/generated/sklearn.feature_extraction.text.TfidfVectorizer.html) .\n",
    "    - Implement a simple **Naive Bayes classifier** that automatically classifies the records into their categories. Use both the TF-IDF features and word frequency features to build two seperate classifiers. Note that for the TF-IDF features you might need to use other type of NB classifier different than the one in the Master Notebook. Comment on the differences and when using augmentation with feature pattern.  Refer to this [article](https://hub.packtpub.com/implementing-3-naive-bayes-classifiers-in-scikit-learn/).\n",
    "\n",
    "\n",
    "4. Fourth: In the lab, we applied each step really quickly just to illustrate how to work with your dataset. There are somethings that are not ideal or the most efficient/meaningful. Each dataset can be handled differently as well. What are those inefficent parts you noticed? How can you improve the Data preprocessing for these specific datasets? __This part is worth 10% of your grade.__\n",
    "\n",
    "\n",
    "5. Fifth: It's hard for us to follow if your code is messy, so please **tidy up your notebook** and **add minimal comments where needed**. __This part is worth 5% of your grade.__\n",
    "\n",
    "\n",
    "You can submit your homework following these guidelines: [DM2025-Lab1-announcement](https://github.com/leoson-wu/DM2025-Lab1-Announcement/blob/main/README.md). Make sure to commit and save your changes to your repository __BEFORE the deadline (October 19th 11:59 pm, Sunday)__. "
   ]
  },
  {
   "cell_type": "markdown",
   "metadata": {},
   "source": [
    "# Phase 1"
   ]
  },
  {
   "cell_type": "markdown",
   "metadata": {},
   "source": [
    "# - EXTRA Libraries or imports needed for this script <---------------\n",
    "1) from pathlib import Path\n",
    "2) from wordcloud import WordCloud, STOPWORDS\n",
    "3) import plotly.express as px\n"
   ]
  },
  {
   "cell_type": "markdown",
   "metadata": {},
   "source": [
    "#### Additional Information\n",
    "I used very explicit variable names to avoid unnecessary comments, so must variable names, should explain what they are doing.\n"
   ]
  },
  {
   "cell_type": "code",
   "execution_count": 1,
   "metadata": {},
   "outputs": [
    {
     "name": "stderr",
     "output_type": "stream",
     "text": [
      "[nltk_data] Downloading package punkt to\n",
      "[nltk_data]     C:\\Users\\g_med\\AppData\\Roaming\\nltk_data...\n",
      "[nltk_data]   Package punkt is already up-to-date!\n",
      "[nltk_data] Downloading package punkt_tab to\n",
      "[nltk_data]     C:\\Users\\g_med\\AppData\\Roaming\\nltk_data...\n",
      "[nltk_data]   Package punkt_tab is already up-to-date!\n"
     ]
    }
   ],
   "source": [
    "### Begin Assignment Here\n",
    "#---------------------------------- LOAD LIBRARIES -------------------------------------------------\n",
    "%load_ext autoreload\n",
    "%autoreload 2\n",
    "import helpers.data_mining_helpers as dmh\n",
    "import pandas as pd\n",
    "import nltk\n",
    "nltk.download(\"punkt\")\n",
    "nltk.download(\"punkt_tab\")\n",
    "from sklearn.feature_extraction.text import CountVectorizer\n",
    "import seaborn as sns\n",
    "import matplotlib.pyplot as plt\n",
    "import numpy as np\n",
    "import plotly.express as px\n",
    "import math\n",
    "from pathlib import Path\n",
    "\n",
    "\n",
    "\n",
    "# Avoiding a full crash here but must install\n",
    "wordcloud_toggle = 0\n",
    "try: \n",
    "    from wordcloud import WordCloud, STOPWORDS\n",
    "    wordcloud_toggle = 1\n",
    "except ImportError:\n",
    "    print(\"\\n\\n\\n\\n\\n ATTENTION \\n----> No wordcloud Library installed to import WordCloud, STOPWORDS, must install to run <-----------------------\\n\\n\")\n",
    "    wordcloud_toggle = 0\n"
   ]
  },
  {
   "cell_type": "markdown",
   "metadata": {},
   "source": [
    "## Data Preparation & DataFrame creation"
   ]
  },
  {
   "cell_type": "code",
   "execution_count": 2,
   "metadata": {},
   "outputs": [],
   "source": [
    "# Use PATH to find full path on dir of repo and not on local machine\n",
    "csv_path = Path(\"newdataset\") / \"Reddit-stock-sentiment.csv\"\n",
    "new_data_set_df = pd.read_csv(csv_path)"
   ]
  },
  {
   "cell_type": "markdown",
   "metadata": {},
   "source": [
    "## Familiarizing with Data"
   ]
  },
  {
   "cell_type": "code",
   "execution_count": 3,
   "metadata": {},
   "outputs": [
    {
     "name": "stdout",
     "output_type": "stream",
     "text": [
      "1) ----Quick DF Inspection---- \n",
      "\n",
      "       type             datetime  post_id       subreddit  \\\n",
      "0  comment  2025-04-11 17:29:56  mmli62w  wallstreetbets   \n",
      "1  comment   2025-04-12 1:12:19  mmnu7v9  wallstreetbets   \n",
      "2  comment  2025-04-10 15:09:41  mmeevio     StockMarket   \n",
      "\n",
      "                                               title                author  \\\n",
      "0    Retardation is on the menu boys! WSB is so back          StickyTip420   \n",
      "1  Retail giant TARGET has now declined for 10 co...  Comfortable-Dog-8437   \n",
      "2  How do you feel about a sitting president maki...          Btankersly66   \n",
      "\n",
      "                                                 url  upvotes  downvotes  \\\n",
      "0               https://i.redd.it/0yq2ftren8ue1.jpeg        0        NaN   \n",
      "1               https://i.redd.it/7tl6puv9waue1.jpeg      -15        NaN   \n",
      "2  https://apnews.com/article/trump-truth-social-...        1        NaN   \n",
      "\n",
      "   upvote_ratio                                               text  \\\n",
      "0           NaN                                   Calls on retards   \n",
      "1           NaN  Stunt as in like why did they even make a big ...   \n",
      "2           NaN                  Seeing lots of red in the ticker.   \n",
      "\n",
      "   subjectivity  polarity  sentiment                               entities  \\\n",
      "0      1.000000 -0.900000       -1.0                                     []   \n",
      "1      0.177778  0.083333        1.0  ['Stunt', 'company', 'deal', 'place']   \n",
      "2      0.000000  0.000000        0.0                             ['ticker']   \n",
      "\n",
      "   label  \n",
      "0   -1.0  \n",
      "1    0.0  \n",
      "2    0.0  \n"
     ]
    }
   ],
   "source": [
    "print(\"1) ----Quick DF Inspection---- \\n\\n\",new_data_set_df.head(3))"
   ]
  },
  {
   "cell_type": "code",
   "execution_count": 4,
   "metadata": {},
   "outputs": [
    {
     "name": "stdout",
     "output_type": "stream",
     "text": [
      "\n",
      "\n",
      "2) ----SHAPE of DF----\n",
      "\n",
      " (847, 16)\n",
      "\n",
      "\n",
      "3) ----Cols of DF----\n",
      "\n",
      " Index(['type', 'datetime', 'post_id', 'subreddit', 'title', 'author', 'url',\n",
      "       'upvotes', 'downvotes', 'upvote_ratio', 'text', 'subjectivity',\n",
      "       'polarity', 'sentiment', 'entities', 'label'],\n",
      "      dtype='object')\n"
     ]
    }
   ],
   "source": [
    "print(\"\\n\\n2) ----SHAPE of DF----\\n\\n\",new_data_set_df.shape)\n",
    "print(\"\\n\\n3) ----Cols of DF----\\n\\n\",new_data_set_df.columns)"
   ]
  },
  {
   "cell_type": "code",
   "execution_count": 5,
   "metadata": {},
   "outputs": [
    {
     "name": "stdout",
     "output_type": "stream",
     "text": [
      "4) ---- INFO ----\n",
      "\n",
      "<class 'pandas.core.frame.DataFrame'>\n",
      "RangeIndex: 847 entries, 0 to 846\n",
      "Data columns (total 16 columns):\n",
      " #   Column        Non-Null Count  Dtype  \n",
      "---  ------        --------------  -----  \n",
      " 0   type          847 non-null    object \n",
      " 1   datetime      847 non-null    object \n",
      " 2   post_id       847 non-null    object \n",
      " 3   subreddit     847 non-null    object \n",
      " 4   title         847 non-null    object \n",
      " 5   author        847 non-null    object \n",
      " 6   url           847 non-null    object \n",
      " 7   upvotes       847 non-null    int64  \n",
      " 8   downvotes     64 non-null     float64\n",
      " 9   upvote_ratio  64 non-null     float64\n",
      " 10  text          847 non-null    object \n",
      " 11  subjectivity  847 non-null    float64\n",
      " 12  polarity      847 non-null    float64\n",
      " 13  sentiment     847 non-null    float64\n",
      " 14  entities      847 non-null    object \n",
      " 15  label         847 non-null    float64\n",
      "dtypes: float64(6), int64(1), object(9)\n",
      "memory usage: 106.0+ KB\n"
     ]
    }
   ],
   "source": [
    "# Checking the type of data of the Df\n",
    "\n",
    "print(\"4) ---- INFO ----\\n\")\n",
    "(new_data_set_df).info()"
   ]
  },
  {
   "cell_type": "markdown",
   "metadata": {},
   "source": [
    "## Data Mining using Pandas"
   ]
  },
  {
   "cell_type": "markdown",
   "metadata": {},
   "source": [
    "### Missing Values"
   ]
  },
  {
   "cell_type": "code",
   "execution_count": 6,
   "metadata": {},
   "outputs": [
    {
     "name": "stdout",
     "output_type": "stream",
     "text": [
      "type              0\n",
      "datetime          0\n",
      "post_id           0\n",
      "subreddit         0\n",
      "title             0\n",
      "author            0\n",
      "url               0\n",
      "upvotes           0\n",
      "downvotes       783\n",
      "upvote_ratio    783\n",
      "text              0\n",
      "subjectivity      0\n",
      "polarity          0\n",
      "sentiment         0\n",
      "entities          0\n",
      "label             0\n",
      "dtype: int64\n"
     ]
    }
   ],
   "source": [
    "print(new_data_set_df.isnull().sum())\n",
    "# Downvotes and upvote_ratio are missing a approximately 93% of the values\n",
    "# Accordinng to what I read, downvotes is not always shown, so instead of filling them, I will drop the column and upvote_ratio\n",
    "\n",
    "# I am assuming that missing values on downvote were due to non existent or negave\n",
    "new_data_set_df = new_data_set_df.drop(columns=[\"downvotes\",\"upvote_ratio\"])\n"
   ]
  },
  {
   "cell_type": "markdown",
   "metadata": {},
   "source": [
    "### Dealing with Duplicate Data"
   ]
  },
  {
   "cell_type": "code",
   "execution_count": 7,
   "metadata": {},
   "outputs": [
    {
     "name": "stdout",
     "output_type": "stream",
     "text": [
      "-Duplicated Values per Column\n",
      "0) Column: |type|------> has 845 Duplicated values\n",
      "1) Column: |datetime|------> has 5 Duplicated values\n",
      "2) Column: |post_id|------> has 0 Duplicated values\n",
      "3) Column: |subreddit|------> has 843 Duplicated values\n",
      "4) Column: |title|------> has 720 Duplicated values\n",
      "5) Column: |author|------> has 116 Duplicated values\n",
      "6) Column: |url|------> has 696 Duplicated values\n",
      "7) Column: |upvotes|------> has 778 Duplicated values\n",
      "8) Column: |text|------> has 23 Duplicated values\n",
      "9) Column: |subjectivity|------> has 600 Duplicated values\n",
      "10) Column: |polarity|------> has 583 Duplicated values\n",
      "11) Column: |sentiment|------> has 844 Duplicated values\n",
      "12) Column: |entities|------> has 87 Duplicated values\n",
      "13) Column: |label|------> has 844 Duplicated values\n",
      "\n",
      "-Duplicated Rows\n",
      "Entire new_data_set------> has 0 Duplicated values\n"
     ]
    }
   ],
   "source": [
    "print(\"-Duplicated Values per Column\")\n",
    "for num,col in enumerate(new_data_set_df.columns):\n",
    "    print(f\"{num}) Column: |{col}|------> has {new_data_set_df.duplicated(col).sum()} Duplicated values\")\n",
    "\n",
    "print(\"\\n-Duplicated Rows\")\n",
    "print(f\"Entire new_data_set------> has {new_data_set_df.duplicated().sum()} Duplicated values\")\n",
    "\n",
    "# There are no duplicated rows while some columns have duplicated values,\n",
    "# the nature of this information makes sense to have duplicated for example, subreddit\n",
    "# The column that need further analysis of duplicates should be Text"
   ]
  },
  {
   "cell_type": "markdown",
   "metadata": {},
   "source": [
    "## Data Preprocessing"
   ]
  },
  {
   "cell_type": "markdown",
   "metadata": {},
   "source": [
    "### Sampling"
   ]
  },
  {
   "cell_type": "code",
   "execution_count": 8,
   "metadata": {},
   "outputs": [
    {
     "name": "stdout",
     "output_type": "stream",
     "text": [
      "1) ---- New len ----\n",
      " 400\n",
      "2) ---- Sample HEAD ---- \n",
      "         type             datetime  post_id         subreddit\n",
      "537  comment   2025-04-11 9:32:41  mmjadzu            stocks\n",
      "268  comment   2025-04-11 8:22:32  mmj3vb6       StockMarket\n",
      "402  comment  2025-04-11 23:03:14  mmn9dnv    wallstreetbets\n",
      "448  comment   2021-07-22 5:01:42  h63dufn  stockstobuytoday\n",
      "699  comment   2025-04-11 4:07:10  mmicyat            stocks\n"
     ]
    }
   ],
   "source": [
    "new_data_set_df_sample = new_data_set_df.sample(n=400)\n",
    "# Checking new length\n",
    "print(\"1) ---- New len ----\\n\",len(new_data_set_df_sample))\n",
    "# Checking index of sample and data\n",
    "print(\"2) ---- Sample HEAD ---- \\n\",new_data_set_df_sample.iloc[:,:4].head(5))"
   ]
  },
  {
   "cell_type": "code",
   "execution_count": 9,
   "metadata": {},
   "outputs": [
    {
     "data": {
      "text/plain": [
       "<Axes: title={'center': 'subreddit distribution'}, xlabel='subreddit'>"
      ]
     },
     "execution_count": 9,
     "metadata": {},
     "output_type": "execute_result"
    },
    {
     "data": {
      "image/png": "[encoded data removed]",
      "text/plain": [
       "<Figure size 800x300 with 1 Axes>"
      ]
     },
     "metadata": {},
     "output_type": "display_data"
    }
   ],
   "source": [
    "# plot barchart for rebreddit \n",
    "new_data_set_df.subreddit.value_counts().plot(kind = 'bar',\n",
    "                                    title = 'subreddit distribution',        \n",
    "                                    rot = 0, fontsize = 11, figsize = (8,3))"
   ]
  },
  {
   "cell_type": "code",
   "execution_count": 10,
   "metadata": {},
   "outputs": [
    {
     "data": {
      "text/plain": [
       "<Axes: title={'center': 'subreddit distribution sample'}, xlabel='subreddit'>"
      ]
     },
     "execution_count": 10,
     "metadata": {},
     "output_type": "execute_result"
    },
    {
     "data": {
      "image/png": "[encoded data removed]",
      "text/plain": [
       "<Figure size 800x300 with 1 Axes>"
      ]
     },
     "metadata": {},
     "output_type": "display_data"
    }
   ],
   "source": [
    "# plot barchart for rebreddit of Sample\n",
    "new_data_set_df_sample.subreddit.value_counts().plot(kind = 'bar',\n",
    "                                    title = 'subreddit distribution sample',        \n",
    "                                    rot = 0, fontsize = 11, figsize = (8,3))"
   ]
  },
  {
   "cell_type": "code",
   "execution_count": 11,
   "metadata": {},
   "outputs": [
    {
     "data": {
      "image/png": "[encoded data removed]",
      "text/plain": [
       "<Figure size 640x480 with 1 Axes>"
      ]
     },
     "metadata": {},
     "output_type": "display_data"
    }
   ],
   "source": [
    "# Plot both sample and full set together\n",
    "same_labels = (len(new_data_set_df_sample.subreddit.value_counts().index.union(new_data_set_df.subreddit.value_counts().index)) == len(new_data_set_df_sample.subreddit.value_counts().index) \n",
    "        == len(new_data_set_df.subreddit.value_counts().index))\n",
    "\n",
    "if same_labels : # want to plot same labels\n",
    "    # Creating x for spacing the bars\n",
    "    bar_width = 0.25\n",
    "    x_space = np.arange(len(new_data_set_df_sample.subreddit.value_counts().index.union(new_data_set_df_sample.subreddit.value_counts().index)))    \n",
    "    labels = new_data_set_df_sample.subreddit.value_counts().index.union(new_data_set_df_sample.subreddit.value_counts().index)\n",
    "    \n",
    "    # Need to Reindex so the positions do align correctly\n",
    "    X_sample_reindex = new_data_set_df_sample.subreddit.value_counts().reindex(labels, fill_value=0)\n",
    "    X_reindex = new_data_set_df.subreddit.value_counts().reindex(labels, fill_value=0)\n",
    "\n",
    "    # Plotting\n",
    "    fig,ax = plt.subplots() #Creating subplot to grab several plots in one figure\n",
    "    ax.bar( x_space+(bar_width/2) ,X_sample_reindex,bar_width, label=\"Sample\")\n",
    "    ax.bar( x_space-(bar_width/2) ,X_reindex, bar_width, label= \"Full\")\n",
    "    plt.xticks(x_space,labels)\n",
    "    ax.legend()\n",
    "    plt.title(\"subreddit Distribution\")\n",
    "    plt.show()\n",
    "else:\n",
    "    print(\"----------- The indexes are different, cannot plot together -----------\")"
   ]
  },
  {
   "cell_type": "markdown",
   "metadata": {},
   "source": [
    "### Feature Creation"
   ]
  },
  {
   "cell_type": "code",
   "execution_count": 12,
   "metadata": {},
   "outputs": [
    {
     "name": "stdout",
     "output_type": "stream",
     "text": [
      "0                                 [Calls, on, retards]\n",
      "1    [Stunt, as, in, like, why, did, they, even, ma...\n",
      "2          [Seeing, lots, of, red, in, the, ticker, .]\n",
      "3    [Vision, Marine, Technologies, Inc., is, rewri...\n",
      "Name: unigrams, dtype: object\n"
     ]
    }
   ],
   "source": [
    "new_data_set_df['unigrams'] = new_data_set_df['text'].apply(lambda x: dmh.tokenize_text(x))\n",
    "print(new_data_set_df[\"unigrams\"][0:4])"
   ]
  },
  {
   "cell_type": "markdown",
   "metadata": {},
   "source": [
    "### Feature Selection"
   ]
  },
  {
   "cell_type": "code",
   "execution_count": 13,
   "metadata": {},
   "outputs": [
    {
     "name": "stdout",
     "output_type": "stream",
     "text": [
      "<Compressed Sparse Row sparse matrix of dtype 'int64'\n",
      "\twith 17193 stored elements and shape (847, 4346)>\n",
      "  Coords\tValues\n",
      "  (0, 692)\t1\n",
      "  (0, 2706)\t1\n",
      "  (0, 3248)\t1\n",
      "  (1, 3696)\t1\n",
      "  (1, 388)\t1\n",
      "  (1, 2024)\t2\n",
      "  (1, 2310)\t1\n",
      "  (1, 4244)\t1\n",
      "  (1, 1168)\t1\n",
      "  (1, 3858)\t1\n",
      "  (1, 1409)\t1\n",
      "  (1, 2402)\t1\n",
      "  (1, 538)\t1\n",
      "  (1, 1083)\t1\n",
      "  (1, 175)\t2\n",
      "  (1, 3628)\t1\n",
      "  (1, 2161)\t1\n",
      "  (1, 3848)\t1\n",
      "  (1, 1568)\t1\n",
      "  (1, 2878)\t1\n",
      "  (1, 2645)\t1\n",
      "  (1, 887)\t1\n",
      "  (1, 3477)\t1\n",
      "  (1, 1412)\t2\n",
      "  (1, 3795)\t1\n",
      "  :\t:\n",
      "  (843, 3866)\t1\n",
      "  (843, 697)\t1\n",
      "  (843, 4229)\t1\n",
      "  (843, 3113)\t1\n",
      "  (844, 3654)\t1\n",
      "  (844, 3144)\t1\n",
      "  (844, 4076)\t2\n",
      "  (844, 2590)\t1\n",
      "  (844, 1241)\t2\n",
      "  (844, 323)\t1\n",
      "  (845, 2706)\t1\n",
      "  (845, 3911)\t1\n",
      "  (845, 4175)\t1\n",
      "  (845, 2580)\t1\n",
      "  (845, 3544)\t1\n",
      "  (845, 1443)\t1\n",
      "  (845, 3049)\t1\n",
      "  (845, 3548)\t1\n",
      "  (845, 1098)\t1\n",
      "  (845, 784)\t1\n",
      "  (845, 1134)\t1\n",
      "  (846, 1999)\t1\n",
      "  (846, 1344)\t1\n",
      "  (846, 3776)\t1\n",
      "  (846, 94)\t1\n"
     ]
    }
   ],
   "source": [
    "# ------------------ SPARSE MATRIX CREATION  -------------------------------------------\n",
    "count_vect_new_data_set = CountVectorizer()\n",
    "new_data_set_counts = count_vect_new_data_set.fit_transform(new_data_set_df.text) #learn the vocabulary and return document-term matrix\n",
    "print((new_data_set_counts))\n",
    "\n",
    "\n"
   ]
  },
  {
   "cell_type": "code",
   "execution_count": 14,
   "metadata": {},
   "outputs": [
    {
     "name": "stdout",
     "output_type": "stream",
     "text": [
      "1) ---- Full List ----\n",
      " : ['00' '000' '01378' ... 'zgld' 'zone' 'zsil']\n",
      "2) ---- The token represents the vocabulary ----\n",
      " : he\n"
     ]
    }
   ],
   "source": [
    "# Full List of Features/Tokens\n",
    "print(f\"1) ---- Full List ----\\n : {count_vect_new_data_set.get_feature_names_out()}\")\n",
    "\n",
    "# Getting Particular Feature/Token\n",
    "print(f\"2) ---- The token represents the vocabulary ----\\n : {count_vect_new_data_set.get_feature_names_out()[new_data_set_counts.getrow(4).sorted_indices().indices[1]]}\")\n",
    "\n"
   ]
  },
  {
   "cell_type": "code",
   "execution_count": 15,
   "metadata": {},
   "outputs": [
    {
     "data": {
      "text/plain": [
       "['calls', 'on', 'retards']"
      ]
     },
     "execution_count": 15,
     "metadata": {},
     "output_type": "execute_result"
    }
   ],
   "source": [
    "analyze = count_vect_new_data_set.build_analyzer()\n",
    "# Toknization throught analyze of first row of text\n",
    "analyze(new_data_set_df.text[0])\n",
    "\n"
   ]
  },
  {
   "cell_type": "code",
   "execution_count": 16,
   "metadata": {},
   "outputs": [
    {
     "data": {
      "image/png": "[encoded data removed]",
      "text/plain": [
       "<Figure size 900x700 with 2 Axes>"
      ]
     },
     "metadata": {},
     "output_type": "display_data"
    }
   ],
   "source": [
    "# RAW SPARSE MATRIX HEAT MAP \n",
    "plot_x = [\"term_\"+str(i) for i in count_vect_new_data_set.get_feature_names_out()[0:20]]\n",
    "plot_y = [\"doc_\"+ str(i) for i in list(new_data_set_df.index)[0:20]]\n",
    "dense_matrix = new_data_set_counts[0:20, 0:20].toarray() \n",
    "\n",
    "\n",
    "df_todraw = pd.DataFrame(dense_matrix, columns = plot_x, index = plot_y)\n",
    "plt.subplots(figsize=(9, 7))\n",
    "ax = sns.heatmap(df_todraw,\n",
    "                 cmap=\"PuRd\",\n",
    "                 vmin=0, vmax=1, annot=True)"
   ]
  },
  {
   "cell_type": "code",
   "execution_count": 17,
   "metadata": {},
   "outputs": [
    {
     "data": {
      "image/png": "[encoded data removed]",
      "text/plain": [
       "<Figure size 900x700 with 2 Axes>"
      ]
     },
     "metadata": {},
     "output_type": "display_data"
    }
   ],
   "source": [
    "\n",
    "# Same process of creating axis with names\n",
    "plot_x_exercise = [\"term_\"+str(i) for i in count_vect_new_data_set.get_feature_names_out()]\n",
    "plot_y_exercise = [\"doc_\"+ str(i) for i in list(new_data_set_df.index)]\n",
    "plot_z_exercise = new_data_set_counts.toarray()\n",
    "# sum each col which will be used to sort the columns\n",
    "cols_sum =  plot_z_exercise.sum(axis=0) \n",
    "df_todraw_exercise = pd.DataFrame(plot_z_exercise, columns = plot_x_exercise, index = plot_y_exercise)\n",
    "# Add a row with the sum of each col\n",
    "df_todraw_exercise.loc[\"cols_sum\"] = cols_sum\n",
    "#Short the columns based on the sum of each col, so the most frequent tokens will appear first\n",
    "df_todraw_exercise = df_todraw_exercise.loc[:,(df_todraw_exercise.loc[\"cols_sum\"]).sort_values(ascending=False).index]\n",
    "# Create a new DF without the sum row\n",
    "df_dropped_sum = df_todraw_exercise.drop(\"cols_sum\", axis=0)\n",
    "#Plot, I plot only the top 20 tokens that are more frequent for the first 20 documents.\n",
    "plt.subplots(figsize=(9, 7))\n",
    "# I let seaborn determine the color scaling based on the data instead of hardcoding it wiht [0,1]\n",
    "ax = sns.heatmap(df_dropped_sum.iloc[:20,:20],\n",
    "                 cmap=\"PuRd\", annot=True)\n"
   ]
  },
  {
   "cell_type": "markdown",
   "metadata": {},
   "source": [
    "##### **Comment**:\n",
    "Stop words tominate the heat map in K importance"
   ]
  },
  {
   "cell_type": "markdown",
   "metadata": {},
   "source": [
    "## Attribute Transformation / Aggregation\n"
   ]
  },
  {
   "cell_type": "markdown",
   "metadata": {},
   "source": [
    "### Transform Text Data"
   ]
  },
  {
   "cell_type": "code",
   "execution_count": 18,
   "metadata": {},
   "outputs": [
    {
     "data": {
      "application/vnd.plotly.v1+json": {
       "config": {
        "plotlyServerURL": "https://plot.ly"
       },
       "data": [
        {
         "hovertemplate": "Tokens=%{x}<br>Frequencies=%{y}<extra></extra>",
         "legendgroup": "",
         "marker": {
          "color": "#636efa",
          "pattern": {
           "shape": ""
          }
         },
         "name": "",
         "orientation": "v",
         "showlegend": false,
         "textposition": "auto",
         "type": "bar",
         "x": [
          "00",
          "000",
          "01378",
          "02",
          "027",
          "03",
          "06",
          "08",
          "10",
          "100",
          "1000",
          "10000",
          "100k",
          "100x",
          "10k",
          "10ks",
          "10yr",
          "11",
          "116",
          "118",
          "12",
          "1242",
          "125",
          "12855584",
          "13",
          "14",
          "140",
          "145",
          "14th",
          "15",
          "150",
          "153",
          "15m",
          "16",
          "160",
          "17",
          "1700",
          "1728",
          "17th",
          "18",
          "186",
          "18630",
          "1870",
          "1934",
          "1945",
          "1947",
          "1953",
          "1961",
          "1969",
          "1973",
          "1974",
          "1981",
          "1992",
          "1999",
          "1k",
          "1m",
          "20",
          "200",
          "2007",
          "200k",
          "2011",
          "2012",
          "2017",
          "2021",
          "20211209",
          "2024",
          "2025",
          "2028",
          "2045",
          "208",
          "21",
          "22",
          "22rate",
          "23",
          "234",
          "235",
          "24",
          "25",
          "250",
          "25bps",
          "25k",
          "27",
          "28",
          "296895",
          "2c_books",
          "2c_wiki_recommendations",
          "2fapps",
          "2k",
          "2nd",
          "2s",
          "30",
          "300",
          "3000",
          "31",
          "31224",
          "31225",
          "31f",
          "33",
          "3306",
          "34",
          "35",
          "350",
          "36",
          "3a",
          "3d",
          "3f",
          "3k",
          "3oz8xzgfhartvh99yi",
          "40",
          "401k",
          "404",
          "41",
          "42",
          "4260",
          "4267",
          "4271",
          "4359",
          "45",
          "4500",
          "456",
          "46",
          "4675",
          "47",
          "4900",
          "4d",
          "4m",
          "4th",
          "4x",
          "50",
          "500",
          "5000",
          "50k",
          "50x",
          "52",
          "522",
          "540",
          "55",
          "58",
          "60",
          "600k",
          "6026762",
          "64",
          "65",
          "66",
          "6969",
          "6k",
          "6th",
          "70",
          "75",
          "7500",
          "77",
          "7k",
          "7s",
          "80",
          "81",
          "83",
          "87",
          "8882",
          "8883",
          "89",
          "90",
          "9000",
          "90k",
          "95",
          "97",
          "98",
          "98th",
          "99",
          "9k",
          "_are",
          "_so",
          "aapl",
          "ability",
          "able",
          "abolish",
          "about",
          "above",
          "absolute",
          "absolutely",
          "abuse",
          "abusing",
          "abysmal",
          "accelerate",
          "accept",
          "acceptable",
          "accepted",
          "access",
          "according",
          "account",
          "accretive",
          "acct",
          "accurate",
          "accurately",
          "aces",
          "acgl",
          "achieved",
          "achievement",
          "achieves",
          "achilles",
          "acn",
          "acquires",
          "acquisition",
          "acquisitions",
          "across",
          "act",
          "action",
          "actionable",
          "actions",
          "actively",
          "activity",
          "actors",
          "acts",
          "actual",
          "actually",
          "ad",
          "adausd",
          "add",
          "added",
          "addicted",
          "addicts",
          "adding",
          "addition",
          "additional",
          "addressed",
          "adjacent",
          "adjust",
          "admin",
          "administration",
          "administrations",
          "admins",
          "admit",
          "admitted",
          "adobe",
          "adp",
          "adult",
          "advanced",
          "advantage",
          "adversaries",
          "advertisements",
          "advice",
          "advise",
          "advised",
          "advisor",
          "advisors",
          "advocating",
          "aerc",
          "aerocontractors",
          "affect",
          "affected",
          "affects",
          "afford",
          "afraid",
          "africa",
          "after",
          "afternoon",
          "afterwards",
          "again",
          "against",
          "agane",
          "age",
          "aged",
          "agencies",
          "agenda",
          "agentnlp",
          "aggressively",
          "aggressor",
          "agnew",
          "ago",
          "agolf",
          "agree",
          "agreed",
          "agreement",
          "agriculture",
          "ahead",
          "ai",
          "aid",
          "aimed",
          "aiming",
          "ain",
          "air",
          "aircraft",
          "airline",
          "airlines",
          "airplane",
          "airplanes",
          "aka",
          "aladeen",
          "albeit",
          "alerts",
          "all",
          "allies",
          "allocating",
          "allocation",
          "allowed",
          "allowing",
          "allows",
          "ally",
          "almasria",
          "almost",
          "alone"
         ],
         "xaxis": "x",
         "y": {
          "bdata": "BAYBAQEBAQEVCwEBAQEBAQEFAwEIAQIBAgEBAQEIAgEBAQEBAQECAgEDAQECAQEBAQEBAQEBAQEHAgEBAQEBAgECBgEBAQIEAQMBAQIHAwECAQIBAQEBAQIBCQEBAQEBAQECAQMCAgECAQEBBAEBAQICAQcBAQEBAQEBAQEBAQEMBAQBAQEBAQEBAgEBAgIBAQEBAgIBAgEBAwEBAQECAQUBAQEBAgEBAQEBAwIGAUgEAQMBAQEBAQIBAQEBAQEFAQEBAQEBAQMBAwEDAgEDAQEEAQIFCwEBAQEBAQMCBAEBAwIKAQEBAQEBAQEBAQEHAQEBAwIBAwMCAQEBARsBAQ4HAQEBAQEBAQEBDAEEAQEBAgUBAQECAwIBBgEBAQEBAmEHAQYDAQMCAwYE",
          "dtype": "i1"
         },
         "yaxis": "y"
        }
       ],
       "layout": {
        "barmode": "relative",
        "legend": {
         "tracegroupgap": 0
        },
        "template": {
         "data": {
          "bar": [
           {
            "error_x": {
             "color": "#2a3f5f"
            },
            "error_y": {
             "color": "#2a3f5f"
            },
            "marker": {
             "line": {
              "color": "#E5ECF6",
              "width": 0.5
             },
             "pattern": {
              "fillmode": "overlay",
              "size": 10,
              "solidity": 0.2
             }
            },
            "type": "bar"
           }
          ],
          "barpolar": [
           {
            "marker": {
             "line": {
              "color": "#E5ECF6",
              "width": 0.5
             },
             "pattern": {
              "fillmode": "overlay",
              "size": 10,
              "solidity": 0.2
             }
            },
            "type": "barpolar"
           }
          ],
          "carpet": [
           {
            "aaxis": {
             "endlinecolor": "#2a3f5f",
             "gridcolor": "white",
             "linecolor": "white",
             "minorgridcolor": "white",
             "startlinecolor": "#2a3f5f"
            },
            "baxis": {
             "endlinecolor": "#2a3f5f",
             "gridcolor": "white",
             "linecolor": "white",
             "minorgridcolor": "white",
             "startlinecolor": "#2a3f5f"
            },
            "type": "carpet"
           }
          ],
          "choropleth": [
           {
            "colorbar": {
             "outlinewidth": 0,
             "ticks": ""
            },
            "type": "choropleth"
           }
          ],
          "contour": [
           {
            "colorbar": {
             "outlinewidth": 0,
             "ticks": ""
            },
            "colorscale": [
             [
              0,
              "#0d0887"
             ],
             [
              0.1111111111111111,
              "#46039f"
             ],
             [
              0.2222222222222222,
              "#7201a8"
             ],
             [
              0.3333333333333333,
              "#9c179e"
             ],
             [
              0.4444444444444444,
              "#bd3786"
             ],
             [
              0.5555555555555556,
              "#d8576b"
             ],
             [
              0.6666666666666666,
              "#ed7953"
             ],
             [
              0.7777777777777778,
              "#fb9f3a"
             ],
             [
              0.8888888888888888,
              "#fdca26"
             ],
             [
              1,
              "#f0f921"
             ]
            ],
            "type": "contour"
           }
          ],
          "contourcarpet": [
           {
            "colorbar": {
             "outlinewidth": 0,
             "ticks": ""
            },
            "type": "contourcarpet"
           }
          ],
          "heatmap": [
           {
            "colorbar": {
             "outlinewidth": 0,
             "ticks": ""
            },
            "colorscale": [
             [
              0,
              "#0d0887"
             ],
             [
              0.1111111111111111,
              "#46039f"
             ],
             [
              0.2222222222222222,
              "#7201a8"
             ],
             [
              0.3333333333333333,
              "#9c179e"
             ],
             [
              0.4444444444444444,
              "#bd3786"
             ],
             [
              0.5555555555555556,
              "#d8576b"
             ],
             [
              0.6666666666666666,
              "#ed7953"
             ],
             [
              0.7777777777777778,
              "#fb9f3a"
             ],
             [
              0.8888888888888888,
              "#fdca26"
             ],
             [
              1,
              "#f0f921"
             ]
            ],
            "type": "heatmap"
           }
          ],
          "histogram": [
           {
            "marker": {
             "pattern": {
              "fillmode": "overlay",
              "size": 10,
              "solidity": 0.2
             }
            },
            "type": "histogram"
           }
          ],
          "histogram2d": [
           {
            "colorbar": {
             "outlinewidth": 0,
             "ticks": ""
            },
            "colorscale": [
             [
              0,
              "#0d0887"
             ],
             [
              0.1111111111111111,
              "#46039f"
             ],
             [
              0.2222222222222222,
              "#7201a8"
             ],
             [
              0.3333333333333333,
              "#9c179e"
             ],
             [
              0.4444444444444444,
              "#bd3786"
             ],
             [
              0.5555555555555556,
              "#d8576b"
             ],
             [
              0.6666666666666666,
              "#ed7953"
             ],
             [
              0.7777777777777778,
              "#fb9f3a"
             ],
             [
              0.8888888888888888,
              "#fdca26"
             ],
             [
              1,
              "#f0f921"
             ]
            ],
            "type": "histogram2d"
           }
          ],
          "histogram2dcontour": [
           {
            "colorbar": {
             "outlinewidth": 0,
             "ticks": ""
            },
            "colorscale": [
             [
              0,
              "#0d0887"
             ],
             [
              0.1111111111111111,
              "#46039f"
             ],
             [
              0.2222222222222222,
              "#7201a8"
             ],
             [
              0.3333333333333333,
              "#9c179e"
             ],
             [
              0.4444444444444444,
              "#bd3786"
             ],
             [
              0.5555555555555556,
              "#d8576b"
             ],
             [
              0.6666666666666666,
              "#ed7953"
             ],
             [
              0.7777777777777778,
              "#fb9f3a"
             ],
             [
              0.8888888888888888,
              "#fdca26"
             ],
             [
              1,
              "#f0f921"
             ]
            ],
            "type": "histogram2dcontour"
           }
          ],
          "mesh3d": [
           {
            "colorbar": {
             "outlinewidth": 0,
             "ticks": ""
            },
            "type": "mesh3d"
           }
          ],
          "parcoords": [
           {
            "line": {
             "colorbar": {
              "outlinewidth": 0,
              "ticks": ""
             }
            },
            "type": "parcoords"
           }
          ],
          "pie": [
           {
            "automargin": true,
            "type": "pie"
           }
          ],
          "scatter": [
           {
            "fillpattern": {
             "fillmode": "overlay",
             "size": 10,
             "solidity": 0.2
            },
            "type": "scatter"
           }
          ],
          "scatter3d": [
           {
            "line": {
             "colorbar": {
              "outlinewidth": 0,
              "ticks": ""
             }
            },
            "marker": {
             "colorbar": {
              "outlinewidth": 0,
              "ticks": ""
             }
            },
            "type": "scatter3d"
           }
          ],
          "scattercarpet": [
           {
            "marker": {
             "colorbar": {
              "outlinewidth": 0,
              "ticks": ""
             }
            },
            "type": "scattercarpet"
           }
          ],
          "scattergeo": [
           {
            "marker": {
             "colorbar": {
              "outlinewidth": 0,
              "ticks": ""
             }
            },
            "type": "scattergeo"
           }
          ],
          "scattergl": [
           {
            "marker": {
             "colorbar": {
              "outlinewidth": 0,
              "ticks": ""
             }
            },
            "type": "scattergl"
           }
          ],
          "scattermap": [
           {
            "marker": {
             "colorbar": {
              "outlinewidth": 0,
              "ticks": ""
             }
            },
            "type": "scattermap"
           }
          ],
          "scattermapbox": [
           {
            "marker": {
             "colorbar": {
              "outlinewidth": 0,
              "ticks": ""
             }
            },
            "type": "scattermapbox"
           }
          ],
          "scatterpolar": [
           {
            "marker": {
             "colorbar": {
              "outlinewidth": 0,
              "ticks": ""
             }
            },
            "type": "scatterpolar"
           }
          ],
          "scatterpolargl": [
           {
            "marker": {
             "colorbar": {
              "outlinewidth": 0,
              "ticks": ""
             }
            },
            "type": "scatterpolargl"
           }
          ],
          "scatterternary": [
           {
            "marker": {
             "colorbar": {
              "outlinewidth": 0,
              "ticks": ""
             }
            },
            "type": "scatterternary"
           }
          ],
          "surface": [
           {
            "colorbar": {
             "outlinewidth": 0,
             "ticks": ""
            },
            "colorscale": [
             [
              0,
              "#0d0887"
             ],
             [
              0.1111111111111111,
              "#46039f"
             ],
             [
              0.2222222222222222,
              "#7201a8"
             ],
             [
              0.3333333333333333,
              "#9c179e"
             ],
             [
              0.4444444444444444,
              "#bd3786"
             ],
             [
              0.5555555555555556,
              "#d8576b"
             ],
             [
              0.6666666666666666,
              "#ed7953"
             ],
             [
              0.7777777777777778,
              "#fb9f3a"
             ],
             [
              0.8888888888888888,
              "#fdca26"
             ],
             [
              1,
              "#f0f921"
             ]
            ],
            "type": "surface"
           }
          ],
          "table": [
           {
            "cells": {
             "fill": {
              "color": "#EBF0F8"
             },
             "line": {
              "color": "white"
             }
            },
            "header": {
             "fill": {
              "color": "#C8D4E3"
             },
             "line": {
              "color": "white"
             }
            },
            "type": "table"
           }
          ]
         },
         "layout": {
          "annotationdefaults": {
           "arrowcolor": "#2a3f5f",
           "arrowhead": 0,
           "arrowwidth": 1
          },
          "autotypenumbers": "strict",
          "coloraxis": {
           "colorbar": {
            "outlinewidth": 0,
            "ticks": ""
           }
          },
          "colorscale": {
           "diverging": [
            [
             0,
             "#8e0152"
            ],
            [
             0.1,
             "#c51b7d"
            ],
            [
             0.2,
             "#de77ae"
            ],
            [
             0.3,
             "#f1b6da"
            ],
            [
             0.4,
             "#fde0ef"
            ],
            [
             0.5,
             "#f7f7f7"
            ],
            [
             0.6,
             "#e6f5d0"
            ],
            [
             0.7,
             "#b8e186"
            ],
            [
             0.8,
             "#7fbc41"
            ],
            [
             0.9,
             "#4d9221"
            ],
            [
             1,
             "#276419"
            ]
           ],
           "sequential": [
            [
             0,
             "#0d0887"
            ],
            [
             0.1111111111111111,
             "#46039f"
            ],
            [
             0.2222222222222222,
             "#7201a8"
            ],
            [
             0.3333333333333333,
             "#9c179e"
            ],
            [
             0.4444444444444444,
             "#bd3786"
            ],
            [
             0.5555555555555556,
             "#d8576b"
            ],
            [
             0.6666666666666666,
             "#ed7953"
            ],
            [
             0.7777777777777778,
             "#fb9f3a"
            ],
            [
             0.8888888888888888,
             "#fdca26"
            ],
            [
             1,
             "#f0f921"
            ]
           ],
           "sequentialminus": [
            [
             0,
             "#0d0887"
            ],
            [
             0.1111111111111111,
             "#46039f"
            ],
            [
             0.2222222222222222,
             "#7201a8"
            ],
            [
             0.3333333333333333,
             "#9c179e"
            ],
            [
             0.4444444444444444,
             "#bd3786"
            ],
            [
             0.5555555555555556,
             "#d8576b"
            ],
            [
             0.6666666666666666,
             "#ed7953"
            ],
            [
             0.7777777777777778,
             "#fb9f3a"
            ],
            [
             0.8888888888888888,
             "#fdca26"
            ],
            [
             1,
             "#f0f921"
            ]
           ]
          },
          "colorway": [
           "#636efa",
           "#EF553B",
           "#00cc96",
           "#ab63fa",
           "#FFA15A",
           "#19d3f3",
           "#FF6692",
           "#B6E880",
           "#FF97FF",
           "#FECB52"
          ],
          "font": {
           "color": "#2a3f5f"
          },
          "geo": {
           "bgcolor": "white",
           "lakecolor": "white",
           "landcolor": "#E5ECF6",
           "showlakes": true,
           "showland": true,
           "subunitcolor": "white"
          },
          "hoverlabel": {
           "align": "left"
          },
          "hovermode": "closest",
          "mapbox": {
           "style": "light"
          },
          "paper_bgcolor": "white",
          "plot_bgcolor": "#E5ECF6",
          "polar": {
           "angularaxis": {
            "gridcolor": "white",
            "linecolor": "white",
            "ticks": ""
           },
           "bgcolor": "#E5ECF6",
           "radialaxis": {
            "gridcolor": "white",
            "linecolor": "white",
            "ticks": ""
           }
          },
          "scene": {
           "xaxis": {
            "backgroundcolor": "#E5ECF6",
            "gridcolor": "white",
            "gridwidth": 2,
            "linecolor": "white",
            "showbackground": true,
            "ticks": "",
            "zerolinecolor": "white"
           },
           "yaxis": {
            "backgroundcolor": "#E5ECF6",
            "gridcolor": "white",
            "gridwidth": 2,
            "linecolor": "white",
            "showbackground": true,
            "ticks": "",
            "zerolinecolor": "white"
           },
           "zaxis": {
            "backgroundcolor": "#E5ECF6",
            "gridcolor": "white",
            "gridwidth": 2,
            "linecolor": "white",
            "showbackground": true,
            "ticks": "",
            "zerolinecolor": "white"
           }
          },
          "shapedefaults": {
           "line": {
            "color": "#2a3f5f"
           }
          },
          "ternary": {
           "aaxis": {
            "gridcolor": "white",
            "linecolor": "white",
            "ticks": ""
           },
           "baxis": {
            "gridcolor": "white",
            "linecolor": "white",
            "ticks": ""
           },
           "bgcolor": "#E5ECF6",
           "caxis": {
            "gridcolor": "white",
            "linecolor": "white",
            "ticks": ""
           }
          },
          "title": {
           "x": 0.05
          },
          "xaxis": {
           "automargin": true,
           "gridcolor": "white",
           "linecolor": "white",
           "ticks": "",
           "title": {
            "standoff": 15
           },
           "zerolinecolor": "white",
           "zerolinewidth": 2
          },
          "yaxis": {
           "automargin": true,
           "gridcolor": "white",
           "linecolor": "white",
           "ticks": "",
           "title": {
            "standoff": 15
           },
           "zerolinecolor": "white",
           "zerolinewidth": 2
          }
         }
        },
        "title": {
         "text": "Token Frequencies"
        },
        "xaxis": {
         "anchor": "y",
         "domain": [
          0,
          1
         ],
         "title": {
          "text": "Tokens"
         }
        },
        "yaxis": {
         "anchor": "x",
         "domain": [
          0,
          1
         ],
         "title": {
          "text": "Frequencies"
         }
        }
       }
      }
     },
     "metadata": {},
     "output_type": "display_data"
    }
   ],
   "source": [
    "new_data_set_term_frequencies = np.asarray(new_data_set_counts.sum(axis=0))[0]\n",
    "g = px.bar(x=count_vect_new_data_set.get_feature_names_out()[:300], \n",
    "            y=new_data_set_term_frequencies[:300],title=\"Token Frequencies\",labels = {\"x\":\"Tokens\",\"y\":\"Frequencies\"})\n",
    "g.show()"
   ]
  },
  {
   "cell_type": "markdown",
   "metadata": {},
   "source": [
    "##### **Comment**:\n",
    "Hard to analyse plot above"
   ]
  },
  {
   "cell_type": "code",
   "execution_count": 19,
   "metadata": {},
   "outputs": [
    {
     "name": "stdout",
     "output_type": "stream",
     "text": [
      "---------|The cleaned version has less features, as expected|---------\n"
     ]
    },
    {
     "data": {
      "application/vnd.plotly.v1+json": {
       "config": {
        "plotlyServerURL": "https://plot.ly"
       },
       "data": [
        {
         "hovertemplate": "Filtered Tokens=%{x}<br>Frequencies=%{y}<extra></extra>",
         "legendgroup": "",
         "marker": {
          "color": "#636efa",
          "pattern": {
           "shape": ""
          }
         },
         "name": "",
         "orientation": "v",
         "showlegend": false,
         "textposition": "auto",
         "type": "bar",
         "x": [
          "10",
          "50",
          "actually",
          "ago",
          "america",
          "american",
          "bad",
          "believe",
          "better",
          "big",
          "bond",
          "bonds",
          "buy",
          "buying",
          "called",
          "calls",
          "cash",
          "china",
          "chinese",
          "com",
          "come",
          "companies",
          "company",
          "countries",
          "country",
          "currently",
          "daily",
          "day",
          "days",
          "deal",
          "did",
          "didn",
          "does",
          "doesn",
          "doing",
          "dollar",
          "don",
          "economy",
          "emote",
          "end",
          "far",
          "fed",
          "feel",
          "free",
          "fuck",
          "getting",
          "going",
          "gold",
          "gonna",
          "good",
          "got",
          "great",
          "happen",
          "happening",
          "haven",
          "high",
          "higher",
          "hold",
          "img",
          "invest",
          "investment",
          "investors",
          "isn",
          "just",
          "know",
          "let",
          "life",
          "like",
          "literally",
          "ll",
          "long",
          "look",
          "looking",
          "lot",
          "love",
          "lower",
          "make",
          "making",
          "market",
          "markets",
          "maybe",
          "money",
          "moving",
          "need",
          "new",
          "news",
          "people",
          "plan",
          "point",
          "power",
          "president",
          "pretty",
          "price",
          "probably",
          "puts",
          "real",
          "really",
          "reason",
          "reddit",
          "rest",
          "right",
          "risk",
          "said",
          "say",
          "seen",
          "sell",
          "selling",
          "shit",
          "silver",
          "spy",
          "stock",
          "stockbuyvest",
          "stocks",
          "support",
          "sure",
          "t5_2th52",
          "target",
          "tariff",
          "tariffs",
          "term",
          "thanks",
          "thing",
          "things",
          "think",
          "time",
          "today",
          "trade",
          "trading",
          "trump",
          "updated",
          "usa",
          "usd",
          "ve",
          "want",
          "wants",
          "war",
          "way",
          "week",
          "went",
          "won",
          "work",
          "world",
          "worse",
          "x200b",
          "xi",
          "year",
          "years"
         ],
         "xaxis": "x",
         "y": {
          "bdata": "FQwLDBATFAsUEBAQGA0LDgtIDRYNFx0NDwwPGwoNGQ4WGCAYIhoSDwwLDwsSCzIOCy4QDAsMChIPDxIPCxARXxcRC1MQFBcTEwwKDCQLbwoKLgsSFhAzDBEMEA0kCwwMGA8NCx0LDBILFRAQHgwzFhkKDhIMDScSChESNCQaFRFcDQ8MFCMSDxgWDAwMGg0cExUb",
          "dtype": "i1"
         },
         "yaxis": "y"
        }
       ],
       "layout": {
        "barmode": "relative",
        "legend": {
         "tracegroupgap": 0
        },
        "template": {
         "data": {
          "bar": [
           {
            "error_x": {
             "color": "#2a3f5f"
            },
            "error_y": {
             "color": "#2a3f5f"
            },
            "marker": {
             "line": {
              "color": "#E5ECF6",
              "width": 0.5
             },
             "pattern": {
              "fillmode": "overlay",
              "size": 10,
              "solidity": 0.2
             }
            },
            "type": "bar"
           }
          ],
          "barpolar": [
           {
            "marker": {
             "line": {
              "color": "#E5ECF6",
              "width": 0.5
             },
             "pattern": {
              "fillmode": "overlay",
              "size": 10,
              "solidity": 0.2
             }
            },
            "type": "barpolar"
           }
          ],
          "carpet": [
           {
            "aaxis": {
             "endlinecolor": "#2a3f5f",
             "gridcolor": "white",
             "linecolor": "white",
             "minorgridcolor": "white",
             "startlinecolor": "#2a3f5f"
            },
            "baxis": {
             "endlinecolor": "#2a3f5f",
             "gridcolor": "white",
             "linecolor": "white",
             "minorgridcolor": "white",
             "startlinecolor": "#2a3f5f"
            },
            "type": "carpet"
           }
          ],
          "choropleth": [
           {
            "colorbar": {
             "outlinewidth": 0,
             "ticks": ""
            },
            "type": "choropleth"
           }
          ],
          "contour": [
           {
            "colorbar": {
             "outlinewidth": 0,
             "ticks": ""
            },
            "colorscale": [
             [
              0,
              "#0d0887"
             ],
             [
              0.1111111111111111,
              "#46039f"
             ],
             [
              0.2222222222222222,
              "#7201a8"
             ],
             [
              0.3333333333333333,
              "#9c179e"
             ],
             [
              0.4444444444444444,
              "#bd3786"
             ],
             [
              0.5555555555555556,
              "#d8576b"
             ],
             [
              0.6666666666666666,
              "#ed7953"
             ],
             [
              0.7777777777777778,
              "#fb9f3a"
             ],
             [
              0.8888888888888888,
              "#fdca26"
             ],
             [
              1,
              "#f0f921"
             ]
            ],
            "type": "contour"
           }
          ],
          "contourcarpet": [
           {
            "colorbar": {
             "outlinewidth": 0,
             "ticks": ""
            },
            "type": "contourcarpet"
           }
          ],
          "heatmap": [
           {
            "colorbar": {
             "outlinewidth": 0,
             "ticks": ""
            },
            "colorscale": [
             [
              0,
              "#0d0887"
             ],
             [
              0.1111111111111111,
              "#46039f"
             ],
             [
              0.2222222222222222,
              "#7201a8"
             ],
             [
              0.3333333333333333,
              "#9c179e"
             ],
             [
              0.4444444444444444,
              "#bd3786"
             ],
             [
              0.5555555555555556,
              "#d8576b"
             ],
             [
              0.6666666666666666,
              "#ed7953"
             ],
             [
              0.7777777777777778,
              "#fb9f3a"
             ],
             [
              0.8888888888888888,
              "#fdca26"
             ],
             [
              1,
              "#f0f921"
             ]
            ],
            "type": "heatmap"
           }
          ],
          "histogram": [
           {
            "marker": {
             "pattern": {
              "fillmode": "overlay",
              "size": 10,
              "solidity": 0.2
             }
            },
            "type": "histogram"
           }
          ],
          "histogram2d": [
           {
            "colorbar": {
             "outlinewidth": 0,
             "ticks": ""
            },
            "colorscale": [
             [
              0,
              "#0d0887"
             ],
             [
              0.1111111111111111,
              "#46039f"
             ],
             [
              0.2222222222222222,
              "#7201a8"
             ],
             [
              0.3333333333333333,
              "#9c179e"
             ],
             [
              0.4444444444444444,
              "#bd3786"
             ],
             [
              0.5555555555555556,
              "#d8576b"
             ],
             [
              0.6666666666666666,
              "#ed7953"
             ],
             [
              0.7777777777777778,
              "#fb9f3a"
             ],
             [
              0.8888888888888888,
              "#fdca26"
             ],
             [
              1,
              "#f0f921"
             ]
            ],
            "type": "histogram2d"
           }
          ],
          "histogram2dcontour": [
           {
            "colorbar": {
             "outlinewidth": 0,
             "ticks": ""
            },
            "colorscale": [
             [
              0,
              "#0d0887"
             ],
             [
              0.1111111111111111,
              "#46039f"
             ],
             [
              0.2222222222222222,
              "#7201a8"
             ],
             [
              0.3333333333333333,
              "#9c179e"
             ],
             [
              0.4444444444444444,
              "#bd3786"
             ],
             [
              0.5555555555555556,
              "#d8576b"
             ],
             [
              0.6666666666666666,
              "#ed7953"
             ],
             [
              0.7777777777777778,
              "#fb9f3a"
             ],
             [
              0.8888888888888888,
              "#fdca26"
             ],
             [
              1,
              "#f0f921"
             ]
            ],
            "type": "histogram2dcontour"
           }
          ],
          "mesh3d": [
           {
            "colorbar": {
             "outlinewidth": 0,
             "ticks": ""
            },
            "type": "mesh3d"
           }
          ],
          "parcoords": [
           {
            "line": {
             "colorbar": {
              "outlinewidth": 0,
              "ticks": ""
             }
            },
            "type": "parcoords"
           }
          ],
          "pie": [
           {
            "automargin": true,
            "type": "pie"
           }
          ],
          "scatter": [
           {
            "fillpattern": {
             "fillmode": "overlay",
             "size": 10,
             "solidity": 0.2
            },
            "type": "scatter"
           }
          ],
          "scatter3d": [
           {
            "line": {
             "colorbar": {
              "outlinewidth": 0,
              "ticks": ""
             }
            },
            "marker": {
             "colorbar": {
              "outlinewidth": 0,
              "ticks": ""
             }
            },
            "type": "scatter3d"
           }
          ],
          "scattercarpet": [
           {
            "marker": {
             "colorbar": {
              "outlinewidth": 0,
              "ticks": ""
             }
            },
            "type": "scattercarpet"
           }
          ],
          "scattergeo": [
           {
            "marker": {
             "colorbar": {
              "outlinewidth": 0,
              "ticks": ""
             }
            },
            "type": "scattergeo"
           }
          ],
          "scattergl": [
           {
            "marker": {
             "colorbar": {
              "outlinewidth": 0,
              "ticks": ""
             }
            },
            "type": "scattergl"
           }
          ],
          "scattermap": [
           {
            "marker": {
             "colorbar": {
              "outlinewidth": 0,
              "ticks": ""
             }
            },
            "type": "scattermap"
           }
          ],
          "scattermapbox": [
           {
            "marker": {
             "colorbar": {
              "outlinewidth": 0,
              "ticks": ""
             }
            },
            "type": "scattermapbox"
           }
          ],
          "scatterpolar": [
           {
            "marker": {
             "colorbar": {
              "outlinewidth": 0,
              "ticks": ""
             }
            },
            "type": "scatterpolar"
           }
          ],
          "scatterpolargl": [
           {
            "marker": {
             "colorbar": {
              "outlinewidth": 0,
              "ticks": ""
             }
            },
            "type": "scatterpolargl"
           }
          ],
          "scatterternary": [
           {
            "marker": {
             "colorbar": {
              "outlinewidth": 0,
              "ticks": ""
             }
            },
            "type": "scatterternary"
           }
          ],
          "surface": [
           {
            "colorbar": {
             "outlinewidth": 0,
             "ticks": ""
            },
            "colorscale": [
             [
              0,
              "#0d0887"
             ],
             [
              0.1111111111111111,
              "#46039f"
             ],
             [
              0.2222222222222222,
              "#7201a8"
             ],
             [
              0.3333333333333333,
              "#9c179e"
             ],
             [
              0.4444444444444444,
              "#bd3786"
             ],
             [
              0.5555555555555556,
              "#d8576b"
             ],
             [
              0.6666666666666666,
              "#ed7953"
             ],
             [
              0.7777777777777778,
              "#fb9f3a"
             ],
             [
              0.8888888888888888,
              "#fdca26"
             ],
             [
              1,
              "#f0f921"
             ]
            ],
            "type": "surface"
           }
          ],
          "table": [
           {
            "cells": {
             "fill": {
              "color": "#EBF0F8"
             },
             "line": {
              "color": "white"
             }
            },
            "header": {
             "fill": {
              "color": "#C8D4E3"
             },
             "line": {
              "color": "white"
             }
            },
            "type": "table"
           }
          ]
         },
         "layout": {
          "annotationdefaults": {
           "arrowcolor": "#2a3f5f",
           "arrowhead": 0,
           "arrowwidth": 1
          },
          "autotypenumbers": "strict",
          "coloraxis": {
           "colorbar": {
            "outlinewidth": 0,
            "ticks": ""
           }
          },
          "colorscale": {
           "diverging": [
            [
             0,
             "#8e0152"
            ],
            [
             0.1,
             "#c51b7d"
            ],
            [
             0.2,
             "#de77ae"
            ],
            [
             0.3,
             "#f1b6da"
            ],
            [
             0.4,
             "#fde0ef"
            ],
            [
             0.5,
             "#f7f7f7"
            ],
            [
             0.6,
             "#e6f5d0"
            ],
            [
             0.7,
             "#b8e186"
            ],
            [
             0.8,
             "#7fbc41"
            ],
            [
             0.9,
             "#4d9221"
            ],
            [
             1,
             "#276419"
            ]
           ],
           "sequential": [
            [
             0,
             "#0d0887"
            ],
            [
             0.1111111111111111,
             "#46039f"
            ],
            [
             0.2222222222222222,
             "#7201a8"
            ],
            [
             0.3333333333333333,
             "#9c179e"
            ],
            [
             0.4444444444444444,
             "#bd3786"
            ],
            [
             0.5555555555555556,
             "#d8576b"
            ],
            [
             0.6666666666666666,
             "#ed7953"
            ],
            [
             0.7777777777777778,
             "#fb9f3a"
            ],
            [
             0.8888888888888888,
             "#fdca26"
            ],
            [
             1,
             "#f0f921"
            ]
           ],
           "sequentialminus": [
            [
             0,
             "#0d0887"
            ],
            [
             0.1111111111111111,
             "#46039f"
            ],
            [
             0.2222222222222222,
             "#7201a8"
            ],
            [
             0.3333333333333333,
             "#9c179e"
            ],
            [
             0.4444444444444444,
             "#bd3786"
            ],
            [
             0.5555555555555556,
             "#d8576b"
            ],
            [
             0.6666666666666666,
             "#ed7953"
            ],
            [
             0.7777777777777778,
             "#fb9f3a"
            ],
            [
             0.8888888888888888,
             "#fdca26"
            ],
            [
             1,
             "#f0f921"
            ]
           ]
          },
          "colorway": [
           "#636efa",
           "#EF553B",
           "#00cc96",
           "#ab63fa",
           "#FFA15A",
           "#19d3f3",
           "#FF6692",
           "#B6E880",
           "#FF97FF",
           "#FECB52"
          ],
          "font": {
           "color": "#2a3f5f"
          },
          "geo": {
           "bgcolor": "white",
           "lakecolor": "white",
           "landcolor": "#E5ECF6",
           "showlakes": true,
           "showland": true,
           "subunitcolor": "white"
          },
          "hoverlabel": {
           "align": "left"
          },
          "hovermode": "closest",
          "mapbox": {
           "style": "light"
          },
          "paper_bgcolor": "white",
          "plot_bgcolor": "#E5ECF6",
          "polar": {
           "angularaxis": {
            "gridcolor": "white",
            "linecolor": "white",
            "ticks": ""
           },
           "bgcolor": "#E5ECF6",
           "radialaxis": {
            "gridcolor": "white",
            "linecolor": "white",
            "ticks": ""
           }
          },
          "scene": {
           "xaxis": {
            "backgroundcolor": "#E5ECF6",
            "gridcolor": "white",
            "gridwidth": 2,
            "linecolor": "white",
            "showbackground": true,
            "ticks": "",
            "zerolinecolor": "white"
           },
           "yaxis": {
            "backgroundcolor": "#E5ECF6",
            "gridcolor": "white",
            "gridwidth": 2,
            "linecolor": "white",
            "showbackground": true,
            "ticks": "",
            "zerolinecolor": "white"
           },
           "zaxis": {
            "backgroundcolor": "#E5ECF6",
            "gridcolor": "white",
            "gridwidth": 2,
            "linecolor": "white",
            "showbackground": true,
            "ticks": "",
            "zerolinecolor": "white"
           }
          },
          "shapedefaults": {
           "line": {
            "color": "#2a3f5f"
           }
          },
          "ternary": {
           "aaxis": {
            "gridcolor": "white",
            "linecolor": "white",
            "ticks": ""
           },
           "baxis": {
            "gridcolor": "white",
            "linecolor": "white",
            "ticks": ""
           },
           "bgcolor": "#E5ECF6",
           "caxis": {
            "gridcolor": "white",
            "linecolor": "white",
            "ticks": ""
           }
          },
          "title": {
           "x": 0.05
          },
          "xaxis": {
           "automargin": true,
           "gridcolor": "white",
           "linecolor": "white",
           "ticks": "",
           "title": {
            "standoff": 15
           },
           "zerolinecolor": "white",
           "zerolinewidth": 2
          },
          "yaxis": {
           "automargin": true,
           "gridcolor": "white",
           "linecolor": "white",
           "ticks": "",
           "title": {
            "standoff": 15
           },
           "zerolinecolor": "white",
           "zerolinewidth": 2
          }
         }
        },
        "title": {
         "text": "Clean Token Frequencies"
        },
        "xaxis": {
         "anchor": "y",
         "domain": [
          0,
          1
         ],
         "title": {
          "text": "Filtered Tokens"
         }
        },
        "yaxis": {
         "anchor": "x",
         "domain": [
          0,
          1
         ],
         "title": {
          "text": "Frequencies"
         }
        }
       }
      }
     },
     "metadata": {},
     "output_type": "display_data"
    }
   ],
   "source": [
    "# Remove Stop words, too frequent words and rare words with CountVectorizer\n",
    "count_vect_cleaned = CountVectorizer(stop_words=\"english\",  # remove built-in English stopwords\n",
    "    min_df=10,              # keep words in >=10 docs\n",
    "    max_df=0.90             # drop words that appear too often across docs\n",
    ")\n",
    "\n",
    "new_data_set_counts_clean = count_vect_cleaned.fit_transform(new_data_set_df.text) #learn the vocabulary and return document-term matrix\n",
    "\n",
    "if (new_data_set_counts_clean.shape)<(new_data_set_counts.shape):\n",
    "    print(\"---------|The cleaned version has less features, as expected|---------\")\n",
    "    term_frequencies_clean = np.asarray(new_data_set_counts_clean.sum(axis=0))[0]\n",
    "    g = px.bar(x=count_vect_cleaned.get_feature_names_out()[:300], \n",
    "                y=term_frequencies_clean[:300],title=\"Clean Token Frequencies\",labels = {\"x\":\"Filtered Tokens\",\"y\":\"Frequencies\"})\n",
    "    g.show()\n",
    "\n"
   ]
  },
  {
   "cell_type": "code",
   "execution_count": 20,
   "metadata": {},
   "outputs": [
    {
     "data": {
      "application/vnd.plotly.v1+json": {
       "config": {
        "plotlyServerURL": "https://plot.ly"
       },
       "data": [
        {
         "hovertemplate": "Cleaned Tokens=%{x}<br>Frequencies=%{y}<extra></extra>",
         "legendgroup": "",
         "marker": {
          "color": "#636efa",
          "pattern": {
           "shape": ""
          }
         },
         "name": "",
         "orientation": "v",
         "showlegend": false,
         "textposition": "auto",
         "type": "bar",
         "x": [
          "market",
          "just",
          "trump",
          "like",
          "china",
          "think",
          "people",
          "stock",
          "going",
          "good",
          "money",
          "tariffs",
          "time",
          "price",
          "make",
          "want",
          "don",
          "doing",
          "silver",
          "right",
          "company",
          "x200b",
          "years",
          "day",
          "economy",
          "world",
          "today",
          "did",
          "stocks",
          "really",
          "buy",
          "dollar",
          "doesn",
          "way",
          "know",
          "companies",
          "long",
          "new",
          "does",
          "week",
          "stockbuyvest",
          "com",
          "10",
          "sell",
          "trade",
          "year",
          "ve",
          "ll",
          "bad",
          "better",
          "american",
          "looking",
          "look",
          "xi",
          "high",
          "say",
          "t5_2th52",
          "term",
          "wants",
          "emote",
          "fuck",
          "things",
          "img",
          "need",
          "isn",
          "point",
          "let",
          "trading",
          "thing",
          "got",
          "news",
          "president",
          "literally",
          "selling",
          "investors",
          "big",
          "bond",
          "america",
          "bonds",
          "shit",
          "reason",
          "war",
          "usa",
          "feel",
          "end",
          "daily",
          "country",
          "higher",
          "invest",
          "hold",
          "gold",
          "calls",
          "sure",
          "didn",
          "updated",
          "countries",
          "deal",
          "buying",
          "chinese",
          "pretty",
          "worse",
          "tariff",
          "reddit",
          "come",
          "ago",
          "50",
          "target",
          "power",
          "puts",
          "went",
          "happening",
          "lot",
          "currently",
          "far",
          "lower",
          "work",
          "usd",
          "great",
          "plan",
          "won",
          "said",
          "real",
          "spy",
          "cash",
          "called",
          "believe",
          "actually",
          "getting",
          "moving",
          "gonna",
          "fed",
          "investment",
          "free",
          "probably",
          "seen",
          "risk",
          "making",
          "life",
          "happen",
          "rest",
          "markets",
          "love",
          "haven",
          "days",
          "maybe",
          "support",
          "thanks"
         ],
         "xaxis": "x",
         "y": {
          "bdata": "b19cU0g0MzMyLi4nJCQkIyIgHh0dHBsbGhoaGRkYGBgYGBcXFxYWFhYWFRUVFRQUFBQTExMTEhISEhISEhISEhEREREREBAQEBAQEBAQEBAPDw8PDw8PDw8PDg4ODg0NDQ0NDQ0NDQ0MDAwMDAwMDAwMDAwMDAwMDAwMCwsLCwsLCwsLCwsLCwsLCwsKCgoKCgoK",
          "dtype": "i1"
         },
         "yaxis": "y"
        }
       ],
       "layout": {
        "barmode": "relative",
        "legend": {
         "tracegroupgap": 0
        },
        "template": {
         "data": {
          "bar": [
           {
            "error_x": {
             "color": "#2a3f5f"
            },
            "error_y": {
             "color": "#2a3f5f"
            },
            "marker": {
             "line": {
              "color": "#E5ECF6",
              "width": 0.5
             },
             "pattern": {
              "fillmode": "overlay",
              "size": 10,
              "solidity": 0.2
             }
            },
            "type": "bar"
           }
          ],
          "barpolar": [
           {
            "marker": {
             "line": {
              "color": "#E5ECF6",
              "width": 0.5
             },
             "pattern": {
              "fillmode": "overlay",
              "size": 10,
              "solidity": 0.2
             }
            },
            "type": "barpolar"
           }
          ],
          "carpet": [
           {
            "aaxis": {
             "endlinecolor": "#2a3f5f",
             "gridcolor": "white",
             "linecolor": "white",
             "minorgridcolor": "white",
             "startlinecolor": "#2a3f5f"
            },
            "baxis": {
             "endlinecolor": "#2a3f5f",
             "gridcolor": "white",
             "linecolor": "white",
             "minorgridcolor": "white",
             "startlinecolor": "#2a3f5f"
            },
            "type": "carpet"
           }
          ],
          "choropleth": [
           {
            "colorbar": {
             "outlinewidth": 0,
             "ticks": ""
            },
            "type": "choropleth"
           }
          ],
          "contour": [
           {
            "colorbar": {
             "outlinewidth": 0,
             "ticks": ""
            },
            "colorscale": [
             [
              0,
              "#0d0887"
             ],
             [
              0.1111111111111111,
              "#46039f"
             ],
             [
              0.2222222222222222,
              "#7201a8"
             ],
             [
              0.3333333333333333,
              "#9c179e"
             ],
             [
              0.4444444444444444,
              "#bd3786"
             ],
             [
              0.5555555555555556,
              "#d8576b"
             ],
             [
              0.6666666666666666,
              "#ed7953"
             ],
             [
              0.7777777777777778,
              "#fb9f3a"
             ],
             [
              0.8888888888888888,
              "#fdca26"
             ],
             [
              1,
              "#f0f921"
             ]
            ],
            "type": "contour"
           }
          ],
          "contourcarpet": [
           {
            "colorbar": {
             "outlinewidth": 0,
             "ticks": ""
            },
            "type": "contourcarpet"
           }
          ],
          "heatmap": [
           {
            "colorbar": {
             "outlinewidth": 0,
             "ticks": ""
            },
            "colorscale": [
             [
              0,
              "#0d0887"
             ],
             [
              0.1111111111111111,
              "#46039f"
             ],
             [
              0.2222222222222222,
              "#7201a8"
             ],
             [
              0.3333333333333333,
              "#9c179e"
             ],
             [
              0.4444444444444444,
              "#bd3786"
             ],
             [
              0.5555555555555556,
              "#d8576b"
             ],
             [
              0.6666666666666666,
              "#ed7953"
             ],
             [
              0.7777777777777778,
              "#fb9f3a"
             ],
             [
              0.8888888888888888,
              "#fdca26"
             ],
             [
              1,
              "#f0f921"
             ]
            ],
            "type": "heatmap"
           }
          ],
          "histogram": [
           {
            "marker": {
             "pattern": {
              "fillmode": "overlay",
              "size": 10,
              "solidity": 0.2
             }
            },
            "type": "histogram"
           }
          ],
          "histogram2d": [
           {
            "colorbar": {
             "outlinewidth": 0,
             "ticks": ""
            },
            "colorscale": [
             [
              0,
              "#0d0887"
             ],
             [
              0.1111111111111111,
              "#46039f"
             ],
             [
              0.2222222222222222,
              "#7201a8"
             ],
             [
              0.3333333333333333,
              "#9c179e"
             ],
             [
              0.4444444444444444,
              "#bd3786"
             ],
             [
              0.5555555555555556,
              "#d8576b"
             ],
             [
              0.6666666666666666,
              "#ed7953"
             ],
             [
              0.7777777777777778,
              "#fb9f3a"
             ],
             [
              0.8888888888888888,
              "#fdca26"
             ],
             [
              1,
              "#f0f921"
             ]
            ],
            "type": "histogram2d"
           }
          ],
          "histogram2dcontour": [
           {
            "colorbar": {
             "outlinewidth": 0,
             "ticks": ""
            },
            "colorscale": [
             [
              0,
              "#0d0887"
             ],
             [
              0.1111111111111111,
              "#46039f"
             ],
             [
              0.2222222222222222,
              "#7201a8"
             ],
             [
              0.3333333333333333,
              "#9c179e"
             ],
             [
              0.4444444444444444,
              "#bd3786"
             ],
             [
              0.5555555555555556,
              "#d8576b"
             ],
             [
              0.6666666666666666,
              "#ed7953"
             ],
             [
              0.7777777777777778,
              "#fb9f3a"
             ],
             [
              0.8888888888888888,
              "#fdca26"
             ],
             [
              1,
              "#f0f921"
             ]
            ],
            "type": "histogram2dcontour"
           }
          ],
          "mesh3d": [
           {
            "colorbar": {
             "outlinewidth": 0,
             "ticks": ""
            },
            "type": "mesh3d"
           }
          ],
          "parcoords": [
           {
            "line": {
             "colorbar": {
              "outlinewidth": 0,
              "ticks": ""
             }
            },
            "type": "parcoords"
           }
          ],
          "pie": [
           {
            "automargin": true,
            "type": "pie"
           }
          ],
          "scatter": [
           {
            "fillpattern": {
             "fillmode": "overlay",
             "size": 10,
             "solidity": 0.2
            },
            "type": "scatter"
           }
          ],
          "scatter3d": [
           {
            "line": {
             "colorbar": {
              "outlinewidth": 0,
              "ticks": ""
             }
            },
            "marker": {
             "colorbar": {
              "outlinewidth": 0,
              "ticks": ""
             }
            },
            "type": "scatter3d"
           }
          ],
          "scattercarpet": [
           {
            "marker": {
             "colorbar": {
              "outlinewidth": 0,
              "ticks": ""
             }
            },
            "type": "scattercarpet"
           }
          ],
          "scattergeo": [
           {
            "marker": {
             "colorbar": {
              "outlinewidth": 0,
              "ticks": ""
             }
            },
            "type": "scattergeo"
           }
          ],
          "scattergl": [
           {
            "marker": {
             "colorbar": {
              "outlinewidth": 0,
              "ticks": ""
             }
            },
            "type": "scattergl"
           }
          ],
          "scattermap": [
           {
            "marker": {
             "colorbar": {
              "outlinewidth": 0,
              "ticks": ""
             }
            },
            "type": "scattermap"
           }
          ],
          "scattermapbox": [
           {
            "marker": {
             "colorbar": {
              "outlinewidth": 0,
              "ticks": ""
             }
            },
            "type": "scattermapbox"
           }
          ],
          "scatterpolar": [
           {
            "marker": {
             "colorbar": {
              "outlinewidth": 0,
              "ticks": ""
             }
            },
            "type": "scatterpolar"
           }
          ],
          "scatterpolargl": [
           {
            "marker": {
             "colorbar": {
              "outlinewidth": 0,
              "ticks": ""
             }
            },
            "type": "scatterpolargl"
           }
          ],
          "scatterternary": [
           {
            "marker": {
             "colorbar": {
              "outlinewidth": 0,
              "ticks": ""
             }
            },
            "type": "scatterternary"
           }
          ],
          "surface": [
           {
            "colorbar": {
             "outlinewidth": 0,
             "ticks": ""
            },
            "colorscale": [
             [
              0,
              "#0d0887"
             ],
             [
              0.1111111111111111,
              "#46039f"
             ],
             [
              0.2222222222222222,
              "#7201a8"
             ],
             [
              0.3333333333333333,
              "#9c179e"
             ],
             [
              0.4444444444444444,
              "#bd3786"
             ],
             [
              0.5555555555555556,
              "#d8576b"
             ],
             [
              0.6666666666666666,
              "#ed7953"
             ],
             [
              0.7777777777777778,
              "#fb9f3a"
             ],
             [
              0.8888888888888888,
              "#fdca26"
             ],
             [
              1,
              "#f0f921"
             ]
            ],
            "type": "surface"
           }
          ],
          "table": [
           {
            "cells": {
             "fill": {
              "color": "#EBF0F8"
             },
             "line": {
              "color": "white"
             }
            },
            "header": {
             "fill": {
              "color": "#C8D4E3"
             },
             "line": {
              "color": "white"
             }
            },
            "type": "table"
           }
          ]
         },
         "layout": {
          "annotationdefaults": {
           "arrowcolor": "#2a3f5f",
           "arrowhead": 0,
           "arrowwidth": 1
          },
          "autotypenumbers": "strict",
          "coloraxis": {
           "colorbar": {
            "outlinewidth": 0,
            "ticks": ""
           }
          },
          "colorscale": {
           "diverging": [
            [
             0,
             "#8e0152"
            ],
            [
             0.1,
             "#c51b7d"
            ],
            [
             0.2,
             "#de77ae"
            ],
            [
             0.3,
             "#f1b6da"
            ],
            [
             0.4,
             "#fde0ef"
            ],
            [
             0.5,
             "#f7f7f7"
            ],
            [
             0.6,
             "#e6f5d0"
            ],
            [
             0.7,
             "#b8e186"
            ],
            [
             0.8,
             "#7fbc41"
            ],
            [
             0.9,
             "#4d9221"
            ],
            [
             1,
             "#276419"
            ]
           ],
           "sequential": [
            [
             0,
             "#0d0887"
            ],
            [
             0.1111111111111111,
             "#46039f"
            ],
            [
             0.2222222222222222,
             "#7201a8"
            ],
            [
             0.3333333333333333,
             "#9c179e"
            ],
            [
             0.4444444444444444,
             "#bd3786"
            ],
            [
             0.5555555555555556,
             "#d8576b"
            ],
            [
             0.6666666666666666,
             "#ed7953"
            ],
            [
             0.7777777777777778,
             "#fb9f3a"
            ],
            [
             0.8888888888888888,
             "#fdca26"
            ],
            [
             1,
             "#f0f921"
            ]
           ],
           "sequentialminus": [
            [
             0,
             "#0d0887"
            ],
            [
             0.1111111111111111,
             "#46039f"
            ],
            [
             0.2222222222222222,
             "#7201a8"
            ],
            [
             0.3333333333333333,
             "#9c179e"
            ],
            [
             0.4444444444444444,
             "#bd3786"
            ],
            [
             0.5555555555555556,
             "#d8576b"
            ],
            [
             0.6666666666666666,
             "#ed7953"
            ],
            [
             0.7777777777777778,
             "#fb9f3a"
            ],
            [
             0.8888888888888888,
             "#fdca26"
            ],
            [
             1,
             "#f0f921"
            ]
           ]
          },
          "colorway": [
           "#636efa",
           "#EF553B",
           "#00cc96",
           "#ab63fa",
           "#FFA15A",
           "#19d3f3",
           "#FF6692",
           "#B6E880",
           "#FF97FF",
           "#FECB52"
          ],
          "font": {
           "color": "#2a3f5f"
          },
          "geo": {
           "bgcolor": "white",
           "lakecolor": "white",
           "landcolor": "#E5ECF6",
           "showlakes": true,
           "showland": true,
           "subunitcolor": "white"
          },
          "hoverlabel": {
           "align": "left"
          },
          "hovermode": "closest",
          "mapbox": {
           "style": "light"
          },
          "paper_bgcolor": "white",
          "plot_bgcolor": "#E5ECF6",
          "polar": {
           "angularaxis": {
            "gridcolor": "white",
            "linecolor": "white",
            "ticks": ""
           },
           "bgcolor": "#E5ECF6",
           "radialaxis": {
            "gridcolor": "white",
            "linecolor": "white",
            "ticks": ""
           }
          },
          "scene": {
           "xaxis": {
            "backgroundcolor": "#E5ECF6",
            "gridcolor": "white",
            "gridwidth": 2,
            "linecolor": "white",
            "showbackground": true,
            "ticks": "",
            "zerolinecolor": "white"
           },
           "yaxis": {
            "backgroundcolor": "#E5ECF6",
            "gridcolor": "white",
            "gridwidth": 2,
            "linecolor": "white",
            "showbackground": true,
            "ticks": "",
            "zerolinecolor": "white"
           },
           "zaxis": {
            "backgroundcolor": "#E5ECF6",
            "gridcolor": "white",
            "gridwidth": 2,
            "linecolor": "white",
            "showbackground": true,
            "ticks": "",
            "zerolinecolor": "white"
           }
          },
          "shapedefaults": {
           "line": {
            "color": "#2a3f5f"
           }
          },
          "ternary": {
           "aaxis": {
            "gridcolor": "white",
            "linecolor": "white",
            "ticks": ""
           },
           "baxis": {
            "gridcolor": "white",
            "linecolor": "white",
            "ticks": ""
           },
           "bgcolor": "#E5ECF6",
           "caxis": {
            "gridcolor": "white",
            "linecolor": "white",
            "ticks": ""
           }
          },
          "title": {
           "x": 0.05
          },
          "xaxis": {
           "automargin": true,
           "gridcolor": "white",
           "linecolor": "white",
           "ticks": "",
           "title": {
            "standoff": 15
           },
           "zerolinecolor": "white",
           "zerolinewidth": 2
          },
          "yaxis": {
           "automargin": true,
           "gridcolor": "white",
           "linecolor": "white",
           "ticks": "",
           "title": {
            "standoff": 15
           },
           "zerolinecolor": "white",
           "zerolinewidth": 2
          }
         }
        },
        "title": {
         "text": "Cleaned Token Frequencies of all 147"
        },
        "xaxis": {
         "anchor": "y",
         "domain": [
          0,
          1
         ],
         "title": {
          "text": "Cleaned Tokens"
         }
        },
        "yaxis": {
         "anchor": "x",
         "domain": [
          0,
          1
         ],
         "title": {
          "text": "Frequencies"
         }
        }
       }
      }
     },
     "metadata": {},
     "output_type": "display_data"
    }
   ],
   "source": [
    "# Long tail analysis of cleaned data set\n",
    "\n",
    "new_data_set_dense_matrix = new_data_set_counts_clean.toarray()\n",
    "# sum each col which will be used to sort the columns\n",
    "cols_sum =  new_data_set_dense_matrix.sum(axis=0) \n",
    "updated_new_data_set_df = pd.DataFrame(new_data_set_dense_matrix, columns = count_vect_cleaned.get_feature_names_out()\n",
    "                                  , index = new_data_set_df.index)\n",
    "# Add a row with the sum of each col\n",
    "updated_new_data_set_df.loc[\"cols_sum\"] = cols_sum\n",
    "#Short the columns based on the sum of each col, so the most frequent tokens will appear first\n",
    "updated_new_data_set_df = updated_new_data_set_df.loc[:,(updated_new_data_set_df.loc[\"cols_sum\"]).sort_values(ascending=False).index]\n",
    "#Now using plotly I plot the shorted columns based on the sum of each col, so most frequent ones will appear first\n",
    "grahph_plot = px.bar(x=updated_new_data_set_df.columns, \n",
    "            y=updated_new_data_set_df.loc[\"cols_sum\"],title=f\"Cleaned Token Frequencies of all {len(updated_new_data_set_df.columns)}\",labels = {\"x\":\"Cleaned Tokens\",\"y\":\"Frequencies\"})\n",
    "grahph_plot.show()\n"
   ]
  },
  {
   "cell_type": "markdown",
   "metadata": {},
   "source": [
    "##### **Comment**:\n",
    "From the long tail, words like Market, Just and Like came on top but I think is more important to notice the 3 most relevant words that are actually related to actual macro economics are Trump, China and Tariffs, this three are the real ones I need to soon into"
   ]
  },
  {
   "cell_type": "code",
   "execution_count": 21,
   "metadata": {},
   "outputs": [
    {
     "data": {
      "application/vnd.plotly.v1+json": {
       "config": {
        "plotlyServerURL": "https://plot.ly"
       },
       "data": [
        {
         "hovertemplate": "Cleaned Tokens=%{x}<br> Log Frequencies=%{y}<extra></extra>",
         "legendgroup": "",
         "marker": {
          "color": "#636efa",
          "pattern": {
           "shape": ""
          }
         },
         "name": "",
         "orientation": "v",
         "showlegend": false,
         "textposition": "auto",
         "type": "bar",
         "x": [
          "00",
          "000",
          "01378",
          "02",
          "027",
          "03",
          "06",
          "08",
          "10",
          "100",
          "1000",
          "10000",
          "100k",
          "100x",
          "10k",
          "10ks",
          "10yr",
          "11",
          "116",
          "118",
          "12",
          "1242",
          "125",
          "12855584",
          "13",
          "14",
          "140",
          "145",
          "14th",
          "15",
          "150",
          "153",
          "15m",
          "16",
          "160",
          "17",
          "1700",
          "1728",
          "17th",
          "18",
          "186",
          "18630",
          "1870",
          "1934",
          "1945",
          "1947",
          "1953",
          "1961",
          "1969",
          "1973",
          "1974",
          "1981",
          "1992",
          "1999",
          "1k",
          "1m",
          "20",
          "200",
          "2007",
          "200k",
          "2011",
          "2012",
          "2017",
          "2021",
          "20211209",
          "2024",
          "2025",
          "2028",
          "2045",
          "208",
          "21",
          "22",
          "22rate",
          "23",
          "234",
          "235",
          "24",
          "25",
          "250",
          "25bps",
          "25k",
          "27",
          "28",
          "296895",
          "2c_books",
          "2c_wiki_recommendations",
          "2fapps",
          "2k",
          "2nd",
          "2s",
          "30",
          "300",
          "3000",
          "31",
          "31224",
          "31225",
          "31f",
          "33",
          "3306",
          "34",
          "35",
          "350",
          "36",
          "3a",
          "3d",
          "3f",
          "3k",
          "3oz8xzgfhartvh99yi",
          "40",
          "401k",
          "404",
          "41",
          "42",
          "4260",
          "4267",
          "4271",
          "4359",
          "45",
          "4500",
          "456",
          "46",
          "4675",
          "47",
          "4900",
          "4d",
          "4m",
          "4th",
          "4x",
          "50",
          "500",
          "5000",
          "50k",
          "50x",
          "52",
          "522",
          "540",
          "55",
          "58",
          "60",
          "600k",
          "6026762",
          "64",
          "65",
          "66",
          "6969",
          "6k",
          "6th",
          "70",
          "75",
          "7500",
          "77",
          "7k",
          "7s",
          "80",
          "81",
          "83",
          "87",
          "8882",
          "8883",
          "89",
          "90",
          "9000",
          "90k",
          "95",
          "97",
          "98",
          "98th",
          "99",
          "9k",
          "_are",
          "_so",
          "aapl",
          "ability",
          "able",
          "abolish",
          "about",
          "above",
          "absolute",
          "absolutely",
          "abuse",
          "abusing",
          "abysmal",
          "accelerate",
          "accept",
          "acceptable",
          "accepted",
          "access",
          "according",
          "account",
          "accretive",
          "acct",
          "accurate",
          "accurately",
          "aces",
          "acgl",
          "achieved",
          "achievement",
          "achieves",
          "achilles",
          "acn",
          "acquires",
          "acquisition",
          "acquisitions",
          "across",
          "act",
          "action",
          "actionable",
          "actions",
          "actively",
          "activity",
          "actors",
          "acts",
          "actual",
          "actually",
          "ad",
          "adausd",
          "add",
          "added",
          "addicted",
          "addicts",
          "adding",
          "addition",
          "additional",
          "addressed",
          "adjacent",
          "adjust",
          "admin",
          "administration",
          "administrations",
          "admins",
          "admit",
          "admitted",
          "adobe",
          "adp",
          "adult",
          "advanced",
          "advantage",
          "adversaries",
          "advertisements",
          "advice",
          "advise",
          "advised",
          "advisor",
          "advisors",
          "advocating",
          "aerc",
          "aerocontractors",
          "affect",
          "affected",
          "affects",
          "afford",
          "afraid",
          "africa",
          "after",
          "afternoon",
          "afterwards",
          "again",
          "against",
          "agane",
          "age",
          "aged",
          "agencies",
          "agenda",
          "agentnlp",
          "aggressively",
          "aggressor",
          "agnew",
          "ago",
          "agolf",
          "agree",
          "agreed",
          "agreement",
          "agriculture",
          "ahead",
          "ai",
          "aid",
          "aimed",
          "aiming",
          "ain",
          "air",
          "aircraft",
          "airline",
          "airlines",
          "airplane",
          "airplanes",
          "aka",
          "aladeen",
          "albeit",
          "alerts",
          "all",
          "allies",
          "allocating",
          "allocation",
          "allowed",
          "allowing",
          "allows",
          "ally",
          "almasria",
          "almost",
          "alone"
         ],
         "xaxis": "x",
         "y": {
          "bdata": "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",
          "dtype": "f8"
         },
         "yaxis": "y"
        }
       ],
       "layout": {
        "barmode": "relative",
        "legend": {
         "tracegroupgap": 0
        },
        "template": {
         "data": {
          "bar": [
           {
            "error_x": {
             "color": "#2a3f5f"
            },
            "error_y": {
             "color": "#2a3f5f"
            },
            "marker": {
             "line": {
              "color": "#E5ECF6",
              "width": 0.5
             },
             "pattern": {
              "fillmode": "overlay",
              "size": 10,
              "solidity": 0.2
             }
            },
            "type": "bar"
           }
          ],
          "barpolar": [
           {
            "marker": {
             "line": {
              "color": "#E5ECF6",
              "width": 0.5
             },
             "pattern": {
              "fillmode": "overlay",
              "size": 10,
              "solidity": 0.2
             }
            },
            "type": "barpolar"
           }
          ],
          "carpet": [
           {
            "aaxis": {
             "endlinecolor": "#2a3f5f",
             "gridcolor": "white",
             "linecolor": "white",
             "minorgridcolor": "white",
             "startlinecolor": "#2a3f5f"
            },
            "baxis": {
             "endlinecolor": "#2a3f5f",
             "gridcolor": "white",
             "linecolor": "white",
             "minorgridcolor": "white",
             "startlinecolor": "#2a3f5f"
            },
            "type": "carpet"
           }
          ],
          "choropleth": [
           {
            "colorbar": {
             "outlinewidth": 0,
             "ticks": ""
            },
            "type": "choropleth"
           }
          ],
          "contour": [
           {
            "colorbar": {
             "outlinewidth": 0,
             "ticks": ""
            },
            "colorscale": [
             [
              0,
              "#0d0887"
             ],
             [
              0.1111111111111111,
              "#46039f"
             ],
             [
              0.2222222222222222,
              "#7201a8"
             ],
             [
              0.3333333333333333,
              "#9c179e"
             ],
             [
              0.4444444444444444,
              "#bd3786"
             ],
             [
              0.5555555555555556,
              "#d8576b"
             ],
             [
              0.6666666666666666,
              "#ed7953"
             ],
             [
              0.7777777777777778,
              "#fb9f3a"
             ],
             [
              0.8888888888888888,
              "#fdca26"
             ],
             [
              1,
              "#f0f921"
             ]
            ],
            "type": "contour"
           }
          ],
          "contourcarpet": [
           {
            "colorbar": {
             "outlinewidth": 0,
             "ticks": ""
            },
            "type": "contourcarpet"
           }
          ],
          "heatmap": [
           {
            "colorbar": {
             "outlinewidth": 0,
             "ticks": ""
            },
            "colorscale": [
             [
              0,
              "#0d0887"
             ],
             [
              0.1111111111111111,
              "#46039f"
             ],
             [
              0.2222222222222222,
              "#7201a8"
             ],
             [
              0.3333333333333333,
              "#9c179e"
             ],
             [
              0.4444444444444444,
              "#bd3786"
             ],
             [
              0.5555555555555556,
              "#d8576b"
             ],
             [
              0.6666666666666666,
              "#ed7953"
             ],
             [
              0.7777777777777778,
              "#fb9f3a"
             ],
             [
              0.8888888888888888,
              "#fdca26"
             ],
             [
              1,
              "#f0f921"
             ]
            ],
            "type": "heatmap"
           }
          ],
          "histogram": [
           {
            "marker": {
             "pattern": {
              "fillmode": "overlay",
              "size": 10,
              "solidity": 0.2
             }
            },
            "type": "histogram"
           }
          ],
          "histogram2d": [
           {
            "colorbar": {
             "outlinewidth": 0,
             "ticks": ""
            },
            "colorscale": [
             [
              0,
              "#0d0887"
             ],
             [
              0.1111111111111111,
              "#46039f"
             ],
             [
              0.2222222222222222,
              "#7201a8"
             ],
             [
              0.3333333333333333,
              "#9c179e"
             ],
             [
              0.4444444444444444,
              "#bd3786"
             ],
             [
              0.5555555555555556,
              "#d8576b"
             ],
             [
              0.6666666666666666,
              "#ed7953"
             ],
             [
              0.7777777777777778,
              "#fb9f3a"
             ],
             [
              0.8888888888888888,
              "#fdca26"
             ],
             [
              1,
              "#f0f921"
             ]
            ],
            "type": "histogram2d"
           }
          ],
          "histogram2dcontour": [
           {
            "colorbar": {
             "outlinewidth": 0,
             "ticks": ""
            },
            "colorscale": [
             [
              0,
              "#0d0887"
             ],
             [
              0.1111111111111111,
              "#46039f"
             ],
             [
              0.2222222222222222,
              "#7201a8"
             ],
             [
              0.3333333333333333,
              "#9c179e"
             ],
             [
              0.4444444444444444,
              "#bd3786"
             ],
             [
              0.5555555555555556,
              "#d8576b"
             ],
             [
              0.6666666666666666,
              "#ed7953"
             ],
             [
              0.7777777777777778,
              "#fb9f3a"
             ],
             [
              0.8888888888888888,
              "#fdca26"
             ],
             [
              1,
              "#f0f921"
             ]
            ],
            "type": "histogram2dcontour"
           }
          ],
          "mesh3d": [
           {
            "colorbar": {
             "outlinewidth": 0,
             "ticks": ""
            },
            "type": "mesh3d"
           }
          ],
          "parcoords": [
           {
            "line": {
             "colorbar": {
              "outlinewidth": 0,
              "ticks": ""
             }
            },
            "type": "parcoords"
           }
          ],
          "pie": [
           {
            "automargin": true,
            "type": "pie"
           }
          ],
          "scatter": [
           {
            "fillpattern": {
             "fillmode": "overlay",
             "size": 10,
             "solidity": 0.2
            },
            "type": "scatter"
           }
          ],
          "scatter3d": [
           {
            "line": {
             "colorbar": {
              "outlinewidth": 0,
              "ticks": ""
             }
            },
            "marker": {
             "colorbar": {
              "outlinewidth": 0,
              "ticks": ""
             }
            },
            "type": "scatter3d"
           }
          ],
          "scattercarpet": [
           {
            "marker": {
             "colorbar": {
              "outlinewidth": 0,
              "ticks": ""
             }
            },
            "type": "scattercarpet"
           }
          ],
          "scattergeo": [
           {
            "marker": {
             "colorbar": {
              "outlinewidth": 0,
              "ticks": ""
             }
            },
            "type": "scattergeo"
           }
          ],
          "scattergl": [
           {
            "marker": {
             "colorbar": {
              "outlinewidth": 0,
              "ticks": ""
             }
            },
            "type": "scattergl"
           }
          ],
          "scattermap": [
           {
            "marker": {
             "colorbar": {
              "outlinewidth": 0,
              "ticks": ""
             }
            },
            "type": "scattermap"
           }
          ],
          "scattermapbox": [
           {
            "marker": {
             "colorbar": {
              "outlinewidth": 0,
              "ticks": ""
             }
            },
            "type": "scattermapbox"
           }
          ],
          "scatterpolar": [
           {
            "marker": {
             "colorbar": {
              "outlinewidth": 0,
              "ticks": ""
             }
            },
            "type": "scatterpolar"
           }
          ],
          "scatterpolargl": [
           {
            "marker": {
             "colorbar": {
              "outlinewidth": 0,
              "ticks": ""
             }
            },
            "type": "scatterpolargl"
           }
          ],
          "scatterternary": [
           {
            "marker": {
             "colorbar": {
              "outlinewidth": 0,
              "ticks": ""
             }
            },
            "type": "scatterternary"
           }
          ],
          "surface": [
           {
            "colorbar": {
             "outlinewidth": 0,
             "ticks": ""
            },
            "colorscale": [
             [
              0,
              "#0d0887"
             ],
             [
              0.1111111111111111,
              "#46039f"
             ],
             [
              0.2222222222222222,
              "#7201a8"
             ],
             [
              0.3333333333333333,
              "#9c179e"
             ],
             [
              0.4444444444444444,
              "#bd3786"
             ],
             [
              0.5555555555555556,
              "#d8576b"
             ],
             [
              0.6666666666666666,
              "#ed7953"
             ],
             [
              0.7777777777777778,
              "#fb9f3a"
             ],
             [
              0.8888888888888888,
              "#fdca26"
             ],
             [
              1,
              "#f0f921"
             ]
            ],
            "type": "surface"
           }
          ],
          "table": [
           {
            "cells": {
             "fill": {
              "color": "#EBF0F8"
             },
             "line": {
              "color": "white"
             }
            },
            "header": {
             "fill": {
              "color": "#C8D4E3"
             },
             "line": {
              "color": "white"
             }
            },
            "type": "table"
           }
          ]
         },
         "layout": {
          "annotationdefaults": {
           "arrowcolor": "#2a3f5f",
           "arrowhead": 0,
           "arrowwidth": 1
          },
          "autotypenumbers": "strict",
          "coloraxis": {
           "colorbar": {
            "outlinewidth": 0,
            "ticks": ""
           }
          },
          "colorscale": {
           "diverging": [
            [
             0,
             "#8e0152"
            ],
            [
             0.1,
             "#c51b7d"
            ],
            [
             0.2,
             "#de77ae"
            ],
            [
             0.3,
             "#f1b6da"
            ],
            [
             0.4,
             "#fde0ef"
            ],
            [
             0.5,
             "#f7f7f7"
            ],
            [
             0.6,
             "#e6f5d0"
            ],
            [
             0.7,
             "#b8e186"
            ],
            [
             0.8,
             "#7fbc41"
            ],
            [
             0.9,
             "#4d9221"
            ],
            [
             1,
             "#276419"
            ]
           ],
           "sequential": [
            [
             0,
             "#0d0887"
            ],
            [
             0.1111111111111111,
             "#46039f"
            ],
            [
             0.2222222222222222,
             "#7201a8"
            ],
            [
             0.3333333333333333,
             "#9c179e"
            ],
            [
             0.4444444444444444,
             "#bd3786"
            ],
            [
             0.5555555555555556,
             "#d8576b"
            ],
            [
             0.6666666666666666,
             "#ed7953"
            ],
            [
             0.7777777777777778,
             "#fb9f3a"
            ],
            [
             0.8888888888888888,
             "#fdca26"
            ],
            [
             1,
             "#f0f921"
            ]
           ],
           "sequentialminus": [
            [
             0,
             "#0d0887"
            ],
            [
             0.1111111111111111,
             "#46039f"
            ],
            [
             0.2222222222222222,
             "#7201a8"
            ],
            [
             0.3333333333333333,
             "#9c179e"
            ],
            [
             0.4444444444444444,
             "#bd3786"
            ],
            [
             0.5555555555555556,
             "#d8576b"
            ],
            [
             0.6666666666666666,
             "#ed7953"
            ],
            [
             0.7777777777777778,
             "#fb9f3a"
            ],
            [
             0.8888888888888888,
             "#fdca26"
            ],
            [
             1,
             "#f0f921"
            ]
           ]
          },
          "colorway": [
           "#636efa",
           "#EF553B",
           "#00cc96",
           "#ab63fa",
           "#FFA15A",
           "#19d3f3",
           "#FF6692",
           "#B6E880",
           "#FF97FF",
           "#FECB52"
          ],
          "font": {
           "color": "#2a3f5f"
          },
          "geo": {
           "bgcolor": "white",
           "lakecolor": "white",
           "landcolor": "#E5ECF6",
           "showlakes": true,
           "showland": true,
           "subunitcolor": "white"
          },
          "hoverlabel": {
           "align": "left"
          },
          "hovermode": "closest",
          "mapbox": {
           "style": "light"
          },
          "paper_bgcolor": "white",
          "plot_bgcolor": "#E5ECF6",
          "polar": {
           "angularaxis": {
            "gridcolor": "white",
            "linecolor": "white",
            "ticks": ""
           },
           "bgcolor": "#E5ECF6",
           "radialaxis": {
            "gridcolor": "white",
            "linecolor": "white",
            "ticks": ""
           }
          },
          "scene": {
           "xaxis": {
            "backgroundcolor": "#E5ECF6",
            "gridcolor": "white",
            "gridwidth": 2,
            "linecolor": "white",
            "showbackground": true,
            "ticks": "",
            "zerolinecolor": "white"
           },
           "yaxis": {
            "backgroundcolor": "#E5ECF6",
            "gridcolor": "white",
            "gridwidth": 2,
            "linecolor": "white",
            "showbackground": true,
            "ticks": "",
            "zerolinecolor": "white"
           },
           "zaxis": {
            "backgroundcolor": "#E5ECF6",
            "gridcolor": "white",
            "gridwidth": 2,
            "linecolor": "white",
            "showbackground": true,
            "ticks": "",
            "zerolinecolor": "white"
           }
          },
          "shapedefaults": {
           "line": {
            "color": "#2a3f5f"
           }
          },
          "ternary": {
           "aaxis": {
            "gridcolor": "white",
            "linecolor": "white",
            "ticks": ""
           },
           "baxis": {
            "gridcolor": "white",
            "linecolor": "white",
            "ticks": ""
           },
           "bgcolor": "#E5ECF6",
           "caxis": {
            "gridcolor": "white",
            "linecolor": "white",
            "ticks": ""
           }
          },
          "title": {
           "x": 0.05
          },
          "xaxis": {
           "automargin": true,
           "gridcolor": "white",
           "linecolor": "white",
           "ticks": "",
           "title": {
            "standoff": 15
           },
           "zerolinecolor": "white",
           "zerolinewidth": 2
          },
          "yaxis": {
           "automargin": true,
           "gridcolor": "white",
           "linecolor": "white",
           "ticks": "",
           "title": {
            "standoff": 15
           },
           "zerolinecolor": "white",
           "zerolinewidth": 2
          }
         }
        },
        "title": {
         "text": "Log Token Frequencies"
        },
        "xaxis": {
         "anchor": "y",
         "domain": [
          0,
          1
         ],
         "title": {
          "text": "Cleaned Tokens"
         }
        },
        "yaxis": {
         "anchor": "x",
         "domain": [
          0,
          1
         ],
         "title": {
          "text": " Log Frequencies"
         }
        }
       }
      }
     },
     "metadata": {},
     "output_type": "display_data"
    },
    {
     "data": {
      "application/vnd.plotly.v1+json": {
       "config": {
        "plotlyServerURL": "https://plot.ly"
       },
       "data": [
        {
         "hovertemplate": "Cleaned Tokens=%{x}<br> Log Frequencies=%{y}<extra></extra>",
         "legendgroup": "",
         "marker": {
          "color": "#636efa",
          "pattern": {
           "shape": ""
          }
         },
         "name": "",
         "orientation": "v",
         "showlegend": false,
         "textposition": "auto",
         "type": "bar",
         "x": [
          "10",
          "50",
          "actually",
          "ago",
          "america",
          "american",
          "bad",
          "believe",
          "better",
          "big",
          "bond",
          "bonds",
          "buy",
          "buying",
          "called",
          "calls",
          "cash",
          "china",
          "chinese",
          "com",
          "come",
          "companies",
          "company",
          "countries",
          "country",
          "currently",
          "daily",
          "day",
          "days",
          "deal",
          "did",
          "didn",
          "does",
          "doesn",
          "doing",
          "dollar",
          "don",
          "economy",
          "emote",
          "end",
          "far",
          "fed",
          "feel",
          "free",
          "fuck",
          "getting",
          "going",
          "gold",
          "gonna",
          "good",
          "got",
          "great",
          "happen",
          "happening",
          "haven",
          "high",
          "higher",
          "hold",
          "img",
          "invest",
          "investment",
          "investors",
          "isn",
          "just",
          "know",
          "let",
          "life",
          "like",
          "literally",
          "ll",
          "long",
          "look",
          "looking",
          "lot",
          "love",
          "lower",
          "make",
          "making",
          "market",
          "markets",
          "maybe",
          "money",
          "moving",
          "need",
          "new",
          "news",
          "people",
          "plan",
          "point",
          "power",
          "president",
          "pretty",
          "price",
          "probably",
          "puts",
          "real",
          "really",
          "reason",
          "reddit",
          "rest",
          "right",
          "risk",
          "said",
          "say",
          "seen",
          "sell",
          "selling",
          "shit",
          "silver",
          "spy",
          "stock",
          "stockbuyvest",
          "stocks",
          "support",
          "sure",
          "t5_2th52",
          "target",
          "tariff",
          "tariffs",
          "term",
          "thanks",
          "thing",
          "things",
          "think",
          "time",
          "today",
          "trade",
          "trading",
          "trump",
          "updated",
          "usa",
          "usd",
          "ve",
          "want",
          "wants",
          "war",
          "way",
          "week",
          "went",
          "won",
          "work",
          "world",
          "worse",
          "x200b",
          "xi",
          "year",
          "years"
         ],
         "xaxis": "x",
         "y": {
          "bdata": "sa5vlC5bCEB9ntO8FuEDQEw3f7fjLgNAfZ7TvBbhA0DvOfr+Qi4GQCyzBAY2jgdAkeNze0L3B0BMN3+34y4DQJHjc3tC9wdA7zn6/kIuBkDvOfr+Qi4GQO85+v5CLgZA+SySfKdsCUBRjDErBIUEQEw3f7fjLgNAp7vXFsocBUBMN3+34y4DQD9X9FxOGxFAUYwxKwSFBEDIxT13dLoIQFGMMSsEhQRA8LPR/X0VCUAf/s3LOPAKQFGMMSsEhQRAH0hNORaqBUB9ntO8FuEDQB9ITTkWqgVAkIQDuN9dCkAWVbW7sWsCQFGMMSsEhQRAM43t90HACUCnu9cWyhwFQMjFPXd0ughA+SySfKdsCUBryLi+07kLQPksknynbAlA9g25gfw1DEDNGvDqlBAKQIaRazp7HwdAH0hNORaqBUB9ntO8FuEDQEw3f7fjLgNAH0hNORaqBUBMN3+34y4DQIaRazp7HwdATDd/t+MuA0CvG6y30ksPQKe71xbKHAVATDd/t+MuA0BsQpC9DqEOQO85+v5CLgZAfZ7TvBbhA0BMN3+34y4DQH2e07wW4QNAFlW1u7FrAkCGkWs6ex8HQB9ITTkWqgVAH0hNORaqBUCGkWs6ex8HQB9ITTkWqgVATDd/t+MuA0DvOfr+Qi4GQHp/+sFrqgZA47z9gCs3EkDws9H9fRUJQHp/+sFrqgZATDd/t+MuA0CC5GKN5KwRQO85+v5CLgZAkeNze0L3B0Dws9H9fRUJQCyzBAY2jgdALLMEBjaOB0B9ntO8FuEDQBZVtbuxawJAfZ7TvBbhA0ACICr6C6sMQEw3f7fjLgNAoaTIFY/WEkAWVbW7sWsCQBZVtbuxawJAbEKQvQ6hDkBMN3+34y4DQIaRazp7HwdAyMU9d3S6CEDvOfr+Qi4GQP8AUf9gdA9AfZ7TvBbhA0B6f/rBa6oGQH2e07wW4QNA7zn6/kIuBkBRjDErBIUEQAIgKvoLqwxATDd/t+MuA0B9ntO8FuEDQH2e07wW4QNA+SySfKdsCUAfSE05FqoFQFGMMSsEhQRATDd/t+MuA0Af/s3LOPAKQEw3f7fjLgNAfZ7TvBbhA0CGkWs6ex8HQEw3f7fjLgNAsa5vlC5bCEDvOfr+Qi4GQO85+v5CLgZAm9YL+aY1C0B9ntO8FuEDQP8AUf9gdA9AyMU9d3S6CEAzje33QcAJQBZVtbuxawJAp7vXFsocBUCGkWs6ex8HQH2e07wW4QNAUYwxKwSFBEDWDYho+U4NQIaRazp7HwdAFlW1u7FrAkB6f/rBa6oGQIaRazp7HwdASamuqiWcD0ACICr6C6sMQM0a8OqUEApAsa5vlC5bCEB6f/rBa6oGQHRop75PFhJAUYwxKwSFBEAfSE05FqoFQH2e07wW4QNAkeNze0L3B0DF8w9TWnEMQIaRazp7HwdAH0hNORaqBUD5LJJ8p2wJQMjFPXd0ughAfZ7TvBbhA0B9ntO8FuEDQH2e07wW4QNAzRrw6pQQCkBRjDErBIUEQCNKltZaqApALLMEBjaOB0Cxrm+ULlsIQJCEA7jfXQpA",
          "dtype": "f8"
         },
         "yaxis": "y"
        }
       ],
       "layout": {
        "barmode": "relative",
        "legend": {
         "tracegroupgap": 0
        },
        "template": {
         "data": {
          "bar": [
           {
            "error_x": {
             "color": "#2a3f5f"
            },
            "error_y": {
             "color": "#2a3f5f"
            },
            "marker": {
             "line": {
              "color": "#E5ECF6",
              "width": 0.5
             },
             "pattern": {
              "fillmode": "overlay",
              "size": 10,
              "solidity": 0.2
             }
            },
            "type": "bar"
           }
          ],
          "barpolar": [
           {
            "marker": {
             "line": {
              "color": "#E5ECF6",
              "width": 0.5
             },
             "pattern": {
              "fillmode": "overlay",
              "size": 10,
              "solidity": 0.2
             }
            },
            "type": "barpolar"
           }
          ],
          "carpet": [
           {
            "aaxis": {
             "endlinecolor": "#2a3f5f",
             "gridcolor": "white",
             "linecolor": "white",
             "minorgridcolor": "white",
             "startlinecolor": "#2a3f5f"
            },
            "baxis": {
             "endlinecolor": "#2a3f5f",
             "gridcolor": "white",
             "linecolor": "white",
             "minorgridcolor": "white",
             "startlinecolor": "#2a3f5f"
            },
            "type": "carpet"
           }
          ],
          "choropleth": [
           {
            "colorbar": {
             "outlinewidth": 0,
             "ticks": ""
            },
            "type": "choropleth"
           }
          ],
          "contour": [
           {
            "colorbar": {
             "outlinewidth": 0,
             "ticks": ""
            },
            "colorscale": [
             [
              0,
              "#0d0887"
             ],
             [
              0.1111111111111111,
              "#46039f"
             ],
             [
              0.2222222222222222,
              "#7201a8"
             ],
             [
              0.3333333333333333,
              "#9c179e"
             ],
             [
              0.4444444444444444,
              "#bd3786"
             ],
             [
              0.5555555555555556,
              "#d8576b"
             ],
             [
              0.6666666666666666,
              "#ed7953"
             ],
             [
              0.7777777777777778,
              "#fb9f3a"
             ],
             [
              0.8888888888888888,
              "#fdca26"
             ],
             [
              1,
              "#f0f921"
             ]
            ],
            "type": "contour"
           }
          ],
          "contourcarpet": [
           {
            "colorbar": {
             "outlinewidth": 0,
             "ticks": ""
            },
            "type": "contourcarpet"
           }
          ],
          "heatmap": [
           {
            "colorbar": {
             "outlinewidth": 0,
             "ticks": ""
            },
            "colorscale": [
             [
              0,
              "#0d0887"
             ],
             [
              0.1111111111111111,
              "#46039f"
             ],
             [
              0.2222222222222222,
              "#7201a8"
             ],
             [
              0.3333333333333333,
              "#9c179e"
             ],
             [
              0.4444444444444444,
              "#bd3786"
             ],
             [
              0.5555555555555556,
              "#d8576b"
             ],
             [
              0.6666666666666666,
              "#ed7953"
             ],
             [
              0.7777777777777778,
              "#fb9f3a"
             ],
             [
              0.8888888888888888,
              "#fdca26"
             ],
             [
              1,
              "#f0f921"
             ]
            ],
            "type": "heatmap"
           }
          ],
          "histogram": [
           {
            "marker": {
             "pattern": {
              "fillmode": "overlay",
              "size": 10,
              "solidity": 0.2
             }
            },
            "type": "histogram"
           }
          ],
          "histogram2d": [
           {
            "colorbar": {
             "outlinewidth": 0,
             "ticks": ""
            },
            "colorscale": [
             [
              0,
              "#0d0887"
             ],
             [
              0.1111111111111111,
              "#46039f"
             ],
             [
              0.2222222222222222,
              "#7201a8"
             ],
             [
              0.3333333333333333,
              "#9c179e"
             ],
             [
              0.4444444444444444,
              "#bd3786"
             ],
             [
              0.5555555555555556,
              "#d8576b"
             ],
             [
              0.6666666666666666,
              "#ed7953"
             ],
             [
              0.7777777777777778,
              "#fb9f3a"
             ],
             [
              0.8888888888888888,
              "#fdca26"
             ],
             [
              1,
              "#f0f921"
             ]
            ],
            "type": "histogram2d"
           }
          ],
          "histogram2dcontour": [
           {
            "colorbar": {
             "outlinewidth": 0,
             "ticks": ""
            },
            "colorscale": [
             [
              0,
              "#0d0887"
             ],
             [
              0.1111111111111111,
              "#46039f"
             ],
             [
              0.2222222222222222,
              "#7201a8"
             ],
             [
              0.3333333333333333,
              "#9c179e"
             ],
             [
              0.4444444444444444,
              "#bd3786"
             ],
             [
              0.5555555555555556,
              "#d8576b"
             ],
             [
              0.6666666666666666,
              "#ed7953"
             ],
             [
              0.7777777777777778,
              "#fb9f3a"
             ],
             [
              0.8888888888888888,
              "#fdca26"
             ],
             [
              1,
              "#f0f921"
             ]
            ],
            "type": "histogram2dcontour"
           }
          ],
          "mesh3d": [
           {
            "colorbar": {
             "outlinewidth": 0,
             "ticks": ""
            },
            "type": "mesh3d"
           }
          ],
          "parcoords": [
           {
            "line": {
             "colorbar": {
              "outlinewidth": 0,
              "ticks": ""
             }
            },
            "type": "parcoords"
           }
          ],
          "pie": [
           {
            "automargin": true,
            "type": "pie"
           }
          ],
          "scatter": [
           {
            "fillpattern": {
             "fillmode": "overlay",
             "size": 10,
             "solidity": 0.2
            },
            "type": "scatter"
           }
          ],
          "scatter3d": [
           {
            "line": {
             "colorbar": {
              "outlinewidth": 0,
              "ticks": ""
             }
            },
            "marker": {
             "colorbar": {
              "outlinewidth": 0,
              "ticks": ""
             }
            },
            "type": "scatter3d"
           }
          ],
          "scattercarpet": [
           {
            "marker": {
             "colorbar": {
              "outlinewidth": 0,
              "ticks": ""
             }
            },
            "type": "scattercarpet"
           }
          ],
          "scattergeo": [
           {
            "marker": {
             "colorbar": {
              "outlinewidth": 0,
              "ticks": ""
             }
            },
            "type": "scattergeo"
           }
          ],
          "scattergl": [
           {
            "marker": {
             "colorbar": {
              "outlinewidth": 0,
              "ticks": ""
             }
            },
            "type": "scattergl"
           }
          ],
          "scattermap": [
           {
            "marker": {
             "colorbar": {
              "outlinewidth": 0,
              "ticks": ""
             }
            },
            "type": "scattermap"
           }
          ],
          "scattermapbox": [
           {
            "marker": {
             "colorbar": {
              "outlinewidth": 0,
              "ticks": ""
             }
            },
            "type": "scattermapbox"
           }
          ],
          "scatterpolar": [
           {
            "marker": {
             "colorbar": {
              "outlinewidth": 0,
              "ticks": ""
             }
            },
            "type": "scatterpolar"
           }
          ],
          "scatterpolargl": [
           {
            "marker": {
             "colorbar": {
              "outlinewidth": 0,
              "ticks": ""
             }
            },
            "type": "scatterpolargl"
           }
          ],
          "scatterternary": [
           {
            "marker": {
             "colorbar": {
              "outlinewidth": 0,
              "ticks": ""
             }
            },
            "type": "scatterternary"
           }
          ],
          "surface": [
           {
            "colorbar": {
             "outlinewidth": 0,
             "ticks": ""
            },
            "colorscale": [
             [
              0,
              "#0d0887"
             ],
             [
              0.1111111111111111,
              "#46039f"
             ],
             [
              0.2222222222222222,
              "#7201a8"
             ],
             [
              0.3333333333333333,
              "#9c179e"
             ],
             [
              0.4444444444444444,
              "#bd3786"
             ],
             [
              0.5555555555555556,
              "#d8576b"
             ],
             [
              0.6666666666666666,
              "#ed7953"
             ],
             [
              0.7777777777777778,
              "#fb9f3a"
             ],
             [
              0.8888888888888888,
              "#fdca26"
             ],
             [
              1,
              "#f0f921"
             ]
            ],
            "type": "surface"
           }
          ],
          "table": [
           {
            "cells": {
             "fill": {
              "color": "#EBF0F8"
             },
             "line": {
              "color": "white"
             }
            },
            "header": {
             "fill": {
              "color": "#C8D4E3"
             },
             "line": {
              "color": "white"
             }
            },
            "type": "table"
           }
          ]
         },
         "layout": {
          "annotationdefaults": {
           "arrowcolor": "#2a3f5f",
           "arrowhead": 0,
           "arrowwidth": 1
          },
          "autotypenumbers": "strict",
          "coloraxis": {
           "colorbar": {
            "outlinewidth": 0,
            "ticks": ""
           }
          },
          "colorscale": {
           "diverging": [
            [
             0,
             "#8e0152"
            ],
            [
             0.1,
             "#c51b7d"
            ],
            [
             0.2,
             "#de77ae"
            ],
            [
             0.3,
             "#f1b6da"
            ],
            [
             0.4,
             "#fde0ef"
            ],
            [
             0.5,
             "#f7f7f7"
            ],
            [
             0.6,
             "#e6f5d0"
            ],
            [
             0.7,
             "#b8e186"
            ],
            [
             0.8,
             "#7fbc41"
            ],
            [
             0.9,
             "#4d9221"
            ],
            [
             1,
             "#276419"
            ]
           ],
           "sequential": [
            [
             0,
             "#0d0887"
            ],
            [
             0.1111111111111111,
             "#46039f"
            ],
            [
             0.2222222222222222,
             "#7201a8"
            ],
            [
             0.3333333333333333,
             "#9c179e"
            ],
            [
             0.4444444444444444,
             "#bd3786"
            ],
            [
             0.5555555555555556,
             "#d8576b"
            ],
            [
             0.6666666666666666,
             "#ed7953"
            ],
            [
             0.7777777777777778,
             "#fb9f3a"
            ],
            [
             0.8888888888888888,
             "#fdca26"
            ],
            [
             1,
             "#f0f921"
            ]
           ],
           "sequentialminus": [
            [
             0,
             "#0d0887"
            ],
            [
             0.1111111111111111,
             "#46039f"
            ],
            [
             0.2222222222222222,
             "#7201a8"
            ],
            [
             0.3333333333333333,
             "#9c179e"
            ],
            [
             0.4444444444444444,
             "#bd3786"
            ],
            [
             0.5555555555555556,
             "#d8576b"
            ],
            [
             0.6666666666666666,
             "#ed7953"
            ],
            [
             0.7777777777777778,
             "#fb9f3a"
            ],
            [
             0.8888888888888888,
             "#fdca26"
            ],
            [
             1,
             "#f0f921"
            ]
           ]
          },
          "colorway": [
           "#636efa",
           "#EF553B",
           "#00cc96",
           "#ab63fa",
           "#FFA15A",
           "#19d3f3",
           "#FF6692",
           "#B6E880",
           "#FF97FF",
           "#FECB52"
          ],
          "font": {
           "color": "#2a3f5f"
          },
          "geo": {
           "bgcolor": "white",
           "lakecolor": "white",
           "landcolor": "#E5ECF6",
           "showlakes": true,
           "showland": true,
           "subunitcolor": "white"
          },
          "hoverlabel": {
           "align": "left"
          },
          "hovermode": "closest",
          "mapbox": {
           "style": "light"
          },
          "paper_bgcolor": "white",
          "plot_bgcolor": "#E5ECF6",
          "polar": {
           "angularaxis": {
            "gridcolor": "white",
            "linecolor": "white",
            "ticks": ""
           },
           "bgcolor": "#E5ECF6",
           "radialaxis": {
            "gridcolor": "white",
            "linecolor": "white",
            "ticks": ""
           }
          },
          "scene": {
           "xaxis": {
            "backgroundcolor": "#E5ECF6",
            "gridcolor": "white",
            "gridwidth": 2,
            "linecolor": "white",
            "showbackground": true,
            "ticks": "",
            "zerolinecolor": "white"
           },
           "yaxis": {
            "backgroundcolor": "#E5ECF6",
            "gridcolor": "white",
            "gridwidth": 2,
            "linecolor": "white",
            "showbackground": true,
            "ticks": "",
            "zerolinecolor": "white"
           },
           "zaxis": {
            "backgroundcolor": "#E5ECF6",
            "gridcolor": "white",
            "gridwidth": 2,
            "linecolor": "white",
            "showbackground": true,
            "ticks": "",
            "zerolinecolor": "white"
           }
          },
          "shapedefaults": {
           "line": {
            "color": "#2a3f5f"
           }
          },
          "ternary": {
           "aaxis": {
            "gridcolor": "white",
            "linecolor": "white",
            "ticks": ""
           },
           "baxis": {
            "gridcolor": "white",
            "linecolor": "white",
            "ticks": ""
           },
           "bgcolor": "#E5ECF6",
           "caxis": {
            "gridcolor": "white",
            "linecolor": "white",
            "ticks": ""
           }
          },
          "title": {
           "x": 0.05
          },
          "xaxis": {
           "automargin": true,
           "gridcolor": "white",
           "linecolor": "white",
           "ticks": "",
           "title": {
            "standoff": 15
           },
           "zerolinecolor": "white",
           "zerolinewidth": 2
          },
          "yaxis": {
           "automargin": true,
           "gridcolor": "white",
           "linecolor": "white",
           "ticks": "",
           "title": {
            "standoff": 15
           },
           "zerolinecolor": "white",
           "zerolinewidth": 2
          }
         }
        },
        "title": {
         "text": "Log Clean Token Frequencies"
        },
        "xaxis": {
         "anchor": "y",
         "domain": [
          0,
          1
         ],
         "title": {
          "text": "Cleaned Tokens"
         }
        },
        "yaxis": {
         "anchor": "x",
         "domain": [
          0,
          1
         ],
         "title": {
          "text": " Log Frequencies"
         }
        }
       }
      }
     },
     "metadata": {},
     "output_type": "display_data"
    },
    {
     "data": {
      "application/vnd.plotly.v1+json": {
       "config": {
        "plotlyServerURL": "https://plot.ly"
       },
       "data": [
        {
         "hovertemplate": "Cleaned Tokens=%{x}<br>Log Frequencies=%{y}<extra></extra>",
         "legendgroup": "",
         "marker": {
          "color": "#636efa",
          "pattern": {
           "shape": ""
          }
         },
         "name": "",
         "orientation": "v",
         "showlegend": false,
         "textposition": "auto",
         "type": "bar",
         "x": [
          "market",
          "just",
          "trump",
          "like",
          "china",
          "think",
          "people",
          "stock",
          "going",
          "good",
          "money",
          "tariffs",
          "time",
          "price",
          "make",
          "want",
          "don",
          "doing",
          "silver",
          "right",
          "company",
          "x200b",
          "years",
          "day",
          "economy",
          "world",
          "today",
          "did",
          "stocks",
          "really",
          "buy",
          "dollar",
          "doesn",
          "way",
          "know",
          "companies",
          "long",
          "new",
          "does",
          "week",
          "stockbuyvest",
          "com",
          "10",
          "sell",
          "trade",
          "year",
          "ve",
          "ll",
          "bad",
          "better",
          "american",
          "looking",
          "look",
          "xi",
          "high",
          "say",
          "t5_2th52",
          "term",
          "wants",
          "emote",
          "fuck",
          "things",
          "img",
          "need",
          "isn",
          "point",
          "let",
          "trading",
          "thing",
          "got",
          "news",
          "president",
          "literally",
          "selling",
          "investors",
          "big",
          "bond",
          "america",
          "bonds",
          "shit",
          "reason",
          "war",
          "usa",
          "feel",
          "end",
          "daily",
          "country",
          "higher",
          "invest",
          "hold",
          "gold",
          "calls",
          "sure",
          "didn",
          "updated",
          "countries",
          "deal",
          "buying",
          "chinese",
          "pretty",
          "worse",
          "tariff",
          "reddit",
          "come",
          "ago",
          "50",
          "target",
          "power",
          "puts",
          "went",
          "happening",
          "lot",
          "currently",
          "far",
          "lower",
          "work",
          "usd",
          "great",
          "plan",
          "won",
          "said",
          "real",
          "spy",
          "cash",
          "called",
          "believe",
          "actually",
          "getting",
          "moving",
          "gonna",
          "fed",
          "investment",
          "free",
          "probably",
          "seen",
          "risk",
          "making",
          "life",
          "happen",
          "rest",
          "markets",
          "love",
          "haven",
          "days",
          "maybe",
          "support",
          "thanks"
         ],
         "xaxis": "x",
         "y": {
          "bdata": "oaTIFY/WEkDjvP2AKzcSQHRop75PFhJAguRijeSsEUA/V/RcThsRQEmprqolnA9A/wBR/2B0D0D/AFH/YHQPQK8brLfSSw9AbEKQvQ6hDkBsQpC9DqEOQNYNiGj5Tg1AAiAq+gurDEACICr6C6sMQAIgKvoLqwxAxfMPU1pxDED2DbmB/DUMQGvIuL7TuQtAm9YL+aY1C0Af/s3LOPAKQB/+zcs48ApAI0qW1lqoCkCQhAO4310KQJCEA7jfXQpAzRrw6pQQCkDNGvDqlBAKQM0a8OqUEApAM43t90HACUAzje33QcAJQPksknynbAlA+SySfKdsCUD5LJJ8p2wJQPksknynbAlA+SySfKdsCUDws9H9fRUJQPCz0f19FQlA8LPR/X0VCUDIxT13dLoIQMjFPXd0ughAyMU9d3S6CEDIxT13dLoIQMjFPXd0ughAsa5vlC5bCECxrm+ULlsIQLGub5QuWwhAsa5vlC5bCECR43N7QvcHQJHjc3tC9wdAkeNze0L3B0CR43N7QvcHQCyzBAY2jgdALLMEBjaOB0AsswQGNo4HQCyzBAY2jgdAhpFrOnsfB0CGkWs6ex8HQIaRazp7HwdAhpFrOnsfB0CGkWs6ex8HQIaRazp7HwdAhpFrOnsfB0CGkWs6ex8HQIaRazp7HwdAhpFrOnsfB0B6f/rBa6oGQHp/+sFrqgZAen/6wWuqBkB6f/rBa6oGQHp/+sFrqgZA7zn6/kIuBkDvOfr+Qi4GQO85+v5CLgZA7zn6/kIuBkDvOfr+Qi4GQO85+v5CLgZA7zn6/kIuBkDvOfr+Qi4GQO85+v5CLgZA7zn6/kIuBkDvOfr+Qi4GQB9ITTkWqgVAH0hNORaqBUAfSE05FqoFQB9ITTkWqgVAH0hNORaqBUAfSE05FqoFQB9ITTkWqgVAH0hNORaqBUAfSE05FqoFQB9ITTkWqgVAp7vXFsocBUCnu9cWyhwFQKe71xbKHAVAp7vXFsocBUBRjDErBIUEQFGMMSsEhQRAUYwxKwSFBEBRjDErBIUEQFGMMSsEhQRAUYwxKwSFBEBRjDErBIUEQFGMMSsEhQRAUYwxKwSFBEBRjDErBIUEQH2e07wW4QNAfZ7TvBbhA0B9ntO8FuEDQH2e07wW4QNAfZ7TvBbhA0B9ntO8FuEDQH2e07wW4QNAfZ7TvBbhA0B9ntO8FuEDQH2e07wW4QNAfZ7TvBbhA0B9ntO8FuEDQH2e07wW4QNAfZ7TvBbhA0B9ntO8FuEDQH2e07wW4QNAfZ7TvBbhA0B9ntO8FuEDQH2e07wW4QNATDd/t+MuA0BMN3+34y4DQEw3f7fjLgNATDd/t+MuA0BMN3+34y4DQEw3f7fjLgNATDd/t+MuA0BMN3+34y4DQEw3f7fjLgNATDd/t+MuA0BMN3+34y4DQEw3f7fjLgNATDd/t+MuA0BMN3+34y4DQEw3f7fjLgNATDd/t+MuA0BMN3+34y4DQBZVtbuxawJAFlW1u7FrAkAWVbW7sWsCQBZVtbuxawJAFlW1u7FrAkAWVbW7sWsCQBZVtbuxawJA",
          "dtype": "f8"
         },
         "yaxis": "y"
        }
       ],
       "layout": {
        "barmode": "relative",
        "legend": {
         "tracegroupgap": 0
        },
        "template": {
         "data": {
          "bar": [
           {
            "error_x": {
             "color": "#2a3f5f"
            },
            "error_y": {
             "color": "#2a3f5f"
            },
            "marker": {
             "line": {
              "color": "#E5ECF6",
              "width": 0.5
             },
             "pattern": {
              "fillmode": "overlay",
              "size": 10,
              "solidity": 0.2
             }
            },
            "type": "bar"
           }
          ],
          "barpolar": [
           {
            "marker": {
             "line": {
              "color": "#E5ECF6",
              "width": 0.5
             },
             "pattern": {
              "fillmode": "overlay",
              "size": 10,
              "solidity": 0.2
             }
            },
            "type": "barpolar"
           }
          ],
          "carpet": [
           {
            "aaxis": {
             "endlinecolor": "#2a3f5f",
             "gridcolor": "white",
             "linecolor": "white",
             "minorgridcolor": "white",
             "startlinecolor": "#2a3f5f"
            },
            "baxis": {
             "endlinecolor": "#2a3f5f",
             "gridcolor": "white",
             "linecolor": "white",
             "minorgridcolor": "white",
             "startlinecolor": "#2a3f5f"
            },
            "type": "carpet"
           }
          ],
          "choropleth": [
           {
            "colorbar": {
             "outlinewidth": 0,
             "ticks": ""
            },
            "type": "choropleth"
           }
          ],
          "contour": [
           {
            "colorbar": {
             "outlinewidth": 0,
             "ticks": ""
            },
            "colorscale": [
             [
              0,
              "#0d0887"
             ],
             [
              0.1111111111111111,
              "#46039f"
             ],
             [
              0.2222222222222222,
              "#7201a8"
             ],
             [
              0.3333333333333333,
              "#9c179e"
             ],
             [
              0.4444444444444444,
              "#bd3786"
             ],
             [
              0.5555555555555556,
              "#d8576b"
             ],
             [
              0.6666666666666666,
              "#ed7953"
             ],
             [
              0.7777777777777778,
              "#fb9f3a"
             ],
             [
              0.8888888888888888,
              "#fdca26"
             ],
             [
              1,
              "#f0f921"
             ]
            ],
            "type": "contour"
           }
          ],
          "contourcarpet": [
           {
            "colorbar": {
             "outlinewidth": 0,
             "ticks": ""
            },
            "type": "contourcarpet"
           }
          ],
          "heatmap": [
           {
            "colorbar": {
             "outlinewidth": 0,
             "ticks": ""
            },
            "colorscale": [
             [
              0,
              "#0d0887"
             ],
             [
              0.1111111111111111,
              "#46039f"
             ],
             [
              0.2222222222222222,
              "#7201a8"
             ],
             [
              0.3333333333333333,
              "#9c179e"
             ],
             [
              0.4444444444444444,
              "#bd3786"
             ],
             [
              0.5555555555555556,
              "#d8576b"
             ],
             [
              0.6666666666666666,
              "#ed7953"
             ],
             [
              0.7777777777777778,
              "#fb9f3a"
             ],
             [
              0.8888888888888888,
              "#fdca26"
             ],
             [
              1,
              "#f0f921"
             ]
            ],
            "type": "heatmap"
           }
          ],
          "histogram": [
           {
            "marker": {
             "pattern": {
              "fillmode": "overlay",
              "size": 10,
              "solidity": 0.2
             }
            },
            "type": "histogram"
           }
          ],
          "histogram2d": [
           {
            "colorbar": {
             "outlinewidth": 0,
             "ticks": ""
            },
            "colorscale": [
             [
              0,
              "#0d0887"
             ],
             [
              0.1111111111111111,
              "#46039f"
             ],
             [
              0.2222222222222222,
              "#7201a8"
             ],
             [
              0.3333333333333333,
              "#9c179e"
             ],
             [
              0.4444444444444444,
              "#bd3786"
             ],
             [
              0.5555555555555556,
              "#d8576b"
             ],
             [
              0.6666666666666666,
              "#ed7953"
             ],
             [
              0.7777777777777778,
              "#fb9f3a"
             ],
             [
              0.8888888888888888,
              "#fdca26"
             ],
             [
              1,
              "#f0f921"
             ]
            ],
            "type": "histogram2d"
           }
          ],
          "histogram2dcontour": [
           {
            "colorbar": {
             "outlinewidth": 0,
             "ticks": ""
            },
            "colorscale": [
             [
              0,
              "#0d0887"
             ],
             [
              0.1111111111111111,
              "#46039f"
             ],
             [
              0.2222222222222222,
              "#7201a8"
             ],
             [
              0.3333333333333333,
              "#9c179e"
             ],
             [
              0.4444444444444444,
              "#bd3786"
             ],
             [
              0.5555555555555556,
              "#d8576b"
             ],
             [
              0.6666666666666666,
              "#ed7953"
             ],
             [
              0.7777777777777778,
              "#fb9f3a"
             ],
             [
              0.8888888888888888,
              "#fdca26"
             ],
             [
              1,
              "#f0f921"
             ]
            ],
            "type": "histogram2dcontour"
           }
          ],
          "mesh3d": [
           {
            "colorbar": {
             "outlinewidth": 0,
             "ticks": ""
            },
            "type": "mesh3d"
           }
          ],
          "parcoords": [
           {
            "line": {
             "colorbar": {
              "outlinewidth": 0,
              "ticks": ""
             }
            },
            "type": "parcoords"
           }
          ],
          "pie": [
           {
            "automargin": true,
            "type": "pie"
           }
          ],
          "scatter": [
           {
            "fillpattern": {
             "fillmode": "overlay",
             "size": 10,
             "solidity": 0.2
            },
            "type": "scatter"
           }
          ],
          "scatter3d": [
           {
            "line": {
             "colorbar": {
              "outlinewidth": 0,
              "ticks": ""
             }
            },
            "marker": {
             "colorbar": {
              "outlinewidth": 0,
              "ticks": ""
             }
            },
            "type": "scatter3d"
           }
          ],
          "scattercarpet": [
           {
            "marker": {
             "colorbar": {
              "outlinewidth": 0,
              "ticks": ""
             }
            },
            "type": "scattercarpet"
           }
          ],
          "scattergeo": [
           {
            "marker": {
             "colorbar": {
              "outlinewidth": 0,
              "ticks": ""
             }
            },
            "type": "scattergeo"
           }
          ],
          "scattergl": [
           {
            "marker": {
             "colorbar": {
              "outlinewidth": 0,
              "ticks": ""
             }
            },
            "type": "scattergl"
           }
          ],
          "scattermap": [
           {
            "marker": {
             "colorbar": {
              "outlinewidth": 0,
              "ticks": ""
             }
            },
            "type": "scattermap"
           }
          ],
          "scattermapbox": [
           {
            "marker": {
             "colorbar": {
              "outlinewidth": 0,
              "ticks": ""
             }
            },
            "type": "scattermapbox"
           }
          ],
          "scatterpolar": [
           {
            "marker": {
             "colorbar": {
              "outlinewidth": 0,
              "ticks": ""
             }
            },
            "type": "scatterpolar"
           }
          ],
          "scatterpolargl": [
           {
            "marker": {
             "colorbar": {
              "outlinewidth": 0,
              "ticks": ""
             }
            },
            "type": "scatterpolargl"
           }
          ],
          "scatterternary": [
           {
            "marker": {
             "colorbar": {
              "outlinewidth": 0,
              "ticks": ""
             }
            },
            "type": "scatterternary"
           }
          ],
          "surface": [
           {
            "colorbar": {
             "outlinewidth": 0,
             "ticks": ""
            },
            "colorscale": [
             [
              0,
              "#0d0887"
             ],
             [
              0.1111111111111111,
              "#46039f"
             ],
             [
              0.2222222222222222,
              "#7201a8"
             ],
             [
              0.3333333333333333,
              "#9c179e"
             ],
             [
              0.4444444444444444,
              "#bd3786"
             ],
             [
              0.5555555555555556,
              "#d8576b"
             ],
             [
              0.6666666666666666,
              "#ed7953"
             ],
             [
              0.7777777777777778,
              "#fb9f3a"
             ],
             [
              0.8888888888888888,
              "#fdca26"
             ],
             [
              1,
              "#f0f921"
             ]
            ],
            "type": "surface"
           }
          ],
          "table": [
           {
            "cells": {
             "fill": {
              "color": "#EBF0F8"
             },
             "line": {
              "color": "white"
             }
            },
            "header": {
             "fill": {
              "color": "#C8D4E3"
             },
             "line": {
              "color": "white"
             }
            },
            "type": "table"
           }
          ]
         },
         "layout": {
          "annotationdefaults": {
           "arrowcolor": "#2a3f5f",
           "arrowhead": 0,
           "arrowwidth": 1
          },
          "autotypenumbers": "strict",
          "coloraxis": {
           "colorbar": {
            "outlinewidth": 0,
            "ticks": ""
           }
          },
          "colorscale": {
           "diverging": [
            [
             0,
             "#8e0152"
            ],
            [
             0.1,
             "#c51b7d"
            ],
            [
             0.2,
             "#de77ae"
            ],
            [
             0.3,
             "#f1b6da"
            ],
            [
             0.4,
             "#fde0ef"
            ],
            [
             0.5,
             "#f7f7f7"
            ],
            [
             0.6,
             "#e6f5d0"
            ],
            [
             0.7,
             "#b8e186"
            ],
            [
             0.8,
             "#7fbc41"
            ],
            [
             0.9,
             "#4d9221"
            ],
            [
             1,
             "#276419"
            ]
           ],
           "sequential": [
            [
             0,
             "#0d0887"
            ],
            [
             0.1111111111111111,
             "#46039f"
            ],
            [
             0.2222222222222222,
             "#7201a8"
            ],
            [
             0.3333333333333333,
             "#9c179e"
            ],
            [
             0.4444444444444444,
             "#bd3786"
            ],
            [
             0.5555555555555556,
             "#d8576b"
            ],
            [
             0.6666666666666666,
             "#ed7953"
            ],
            [
             0.7777777777777778,
             "#fb9f3a"
            ],
            [
             0.8888888888888888,
             "#fdca26"
            ],
            [
             1,
             "#f0f921"
            ]
           ],
           "sequentialminus": [
            [
             0,
             "#0d0887"
            ],
            [
             0.1111111111111111,
             "#46039f"
            ],
            [
             0.2222222222222222,
             "#7201a8"
            ],
            [
             0.3333333333333333,
             "#9c179e"
            ],
            [
             0.4444444444444444,
             "#bd3786"
            ],
            [
             0.5555555555555556,
             "#d8576b"
            ],
            [
             0.6666666666666666,
             "#ed7953"
            ],
            [
             0.7777777777777778,
             "#fb9f3a"
            ],
            [
             0.8888888888888888,
             "#fdca26"
            ],
            [
             1,
             "#f0f921"
            ]
           ]
          },
          "colorway": [
           "#636efa",
           "#EF553B",
           "#00cc96",
           "#ab63fa",
           "#FFA15A",
           "#19d3f3",
           "#FF6692",
           "#B6E880",
           "#FF97FF",
           "#FECB52"
          ],
          "font": {
           "color": "#2a3f5f"
          },
          "geo": {
           "bgcolor": "white",
           "lakecolor": "white",
           "landcolor": "#E5ECF6",
           "showlakes": true,
           "showland": true,
           "subunitcolor": "white"
          },
          "hoverlabel": {
           "align": "left"
          },
          "hovermode": "closest",
          "mapbox": {
           "style": "light"
          },
          "paper_bgcolor": "white",
          "plot_bgcolor": "#E5ECF6",
          "polar": {
           "angularaxis": {
            "gridcolor": "white",
            "linecolor": "white",
            "ticks": ""
           },
           "bgcolor": "#E5ECF6",
           "radialaxis": {
            "gridcolor": "white",
            "linecolor": "white",
            "ticks": ""
           }
          },
          "scene": {
           "xaxis": {
            "backgroundcolor": "#E5ECF6",
            "gridcolor": "white",
            "gridwidth": 2,
            "linecolor": "white",
            "showbackground": true,
            "ticks": "",
            "zerolinecolor": "white"
           },
           "yaxis": {
            "backgroundcolor": "#E5ECF6",
            "gridcolor": "white",
            "gridwidth": 2,
            "linecolor": "white",
            "showbackground": true,
            "ticks": "",
            "zerolinecolor": "white"
           },
           "zaxis": {
            "backgroundcolor": "#E5ECF6",
            "gridcolor": "white",
            "gridwidth": 2,
            "linecolor": "white",
            "showbackground": true,
            "ticks": "",
            "zerolinecolor": "white"
           }
          },
          "shapedefaults": {
           "line": {
            "color": "#2a3f5f"
           }
          },
          "ternary": {
           "aaxis": {
            "gridcolor": "white",
            "linecolor": "white",
            "ticks": ""
           },
           "baxis": {
            "gridcolor": "white",
            "linecolor": "white",
            "ticks": ""
           },
           "bgcolor": "#E5ECF6",
           "caxis": {
            "gridcolor": "white",
            "linecolor": "white",
            "ticks": ""
           }
          },
          "title": {
           "x": 0.05
          },
          "xaxis": {
           "automargin": true,
           "gridcolor": "white",
           "linecolor": "white",
           "ticks": "",
           "title": {
            "standoff": 15
           },
           "zerolinecolor": "white",
           "zerolinewidth": 2
          },
          "yaxis": {
           "automargin": true,
           "gridcolor": "white",
           "linecolor": "white",
           "ticks": "",
           "title": {
            "standoff": 15
           },
           "zerolinecolor": "white",
           "zerolinewidth": 2
          }
         }
        },
        "title": {
         "text": "Log Cleaned Token Frequencies"
        },
        "xaxis": {
         "anchor": "y",
         "domain": [
          0,
          1
         ],
         "title": {
          "text": "Cleaned Tokens"
         }
        },
        "yaxis": {
         "anchor": "x",
         "domain": [
          0,
          1
         ],
         "title": {
          "text": "Log Frequencies"
         }
        }
       }
      }
     },
     "metadata": {},
     "output_type": "display_data"
    }
   ],
   "source": [
    "# Log Transformation of data\n",
    "term_frequencies_log = [math.log(i) for i in new_data_set_term_frequencies]\n",
    "graph_plot = px.bar(x=count_vect_new_data_set.get_feature_names_out()[:300], \n",
    "                y=term_frequencies_log[:300],title=\"Log Token Frequencies\",labels = {\"x\":\"Cleaned Tokens\",\"y\":\" Log Frequencies\"})\n",
    "graph_plot.show()\n",
    "\n",
    "\n",
    "# Cleaned log frequencies plot\n",
    "cleaned_term_frequencies_log = [math.log(i) for i in term_frequencies_clean]\n",
    "graph_plot = px.bar(x=count_vect_cleaned.get_feature_names_out()[:300], \n",
    "                y=cleaned_term_frequencies_log[:300],title=\"Log Clean Token Frequencies\",labels = {\"x\":\"Cleaned Tokens\",\"y\":\" Log Frequencies\"})\n",
    "graph_plot.show()\n",
    "\n",
    "\n",
    "# Cleaned log long tail plot\n",
    "new_data_set_dense_matrix = new_data_set_counts_clean.toarray()\n",
    "# sum each col which will be used to sort the columns\n",
    "cols_sum =  new_data_set_dense_matrix.sum(axis=0) \n",
    "log_cols_sum = [math.log(i) for i in cols_sum]\n",
    "log_updated_new_data_set_df = pd.DataFrame(new_data_set_dense_matrix, columns = count_vect_cleaned.get_feature_names_out()\n",
    "                                  , index = new_data_set_df.index)\n",
    "# Add a row with the sum of each col\n",
    "log_updated_new_data_set_df.loc[\"cols_sum\"] = log_cols_sum\n",
    "#Short the columns based on the sum of each col, so the most frequent tokens will appear first\n",
    "log_updated_new_data_set_df = log_updated_new_data_set_df.loc[:,(log_updated_new_data_set_df.loc[\"cols_sum\"]).sort_values(ascending=False).index]\n",
    "#Now using plotly I plot the shorted columns based on the sum of each col, so most frequent ones will appear first\n",
    "grahph_plot = px.bar(x=log_updated_new_data_set_df.columns, \n",
    "            y=log_updated_new_data_set_df.loc[\"cols_sum\"],title=\"Log Cleaned Token Frequencies\",labels = {\"x\":\"Cleaned Tokens\",\"y\":\"Log Frequencies\"})\n",
    "grahph_plot.show()\n",
    "\n"
   ]
  },
  {
   "cell_type": "markdown",
   "metadata": {},
   "source": [
    "##### **Comment**:\n",
    "Log and Cleaned graphs give a more organized view of the features, After eliminating stop and too frequent words, can see some words Log dominance is not very big, the distribution is more uniform but words based on my intuition about markets and geo politics as top \"recurring\" like Market , Trump and China"
   ]
  },
  {
   "cell_type": "markdown",
   "metadata": {},
   "source": [
    "### New Visualizations"
   ]
  },
  {
   "cell_type": "code",
   "execution_count": 22,
   "metadata": {},
   "outputs": [
    {
     "name": "stdout",
     "output_type": "stream",
     "text": [
      "Lists are capturing all information\n"
     ]
    }
   ],
   "source": [
    "# Creation of lists for Recollecting data for 3D visualization \n",
    "sentiment_list =[]\n",
    "polarity_list = []\n",
    "subjectivity_list = []\n",
    "word_list =[]\n",
    "frequency_list = []\n",
    "\n",
    "\n",
    "count_x= 0\n",
    "for token in range(new_data_set_counts.shape[1]):\n",
    "    mask =(new_data_set_counts[:,token].toarray().ravel()>0)\n",
    "    freq_sum = new_data_set_counts[:,token].toarray().ravel().sum()\n",
    "    count_x += 1\n",
    "    if mask.any():\n",
    "        sentiment_list.append((new_data_set_df.sentiment[mask].values.sum())/len(new_data_set_df.sentiment[mask].values))\n",
    "        subjectivity_list.append((new_data_set_df.subjectivity[mask].values.sum())/len(new_data_set_df.subjectivity[mask].values))\n",
    "        polarity_list.append((new_data_set_df.polarity[mask].values.sum())/len(new_data_set_df.polarity[mask].values))\n",
    "        word_list.append(count_vect_new_data_set.get_feature_names_out()[token])\n",
    "        frequency_list.append(freq_sum)\n",
    "        \n",
    "\n",
    "# Creation of new DF that contains the frequency, mean Sentiment,  mean subjetivity and mean polarity per token\n",
    "macro_data_frame = pd.DataFrame({\"Frequency\":frequency_list,\"Polarity\":polarity_list,\"Sentiment\":sentiment_list,\"Objetivity\":subjectivity_list},index=word_list)\n",
    "\n",
    "# My list is actually capturing all the columns \n",
    "if len(sentiment_list) == new_data_set_counts.shape[1]:\n",
    "    print(\"Lists are capturing all information\")\n",
    "else:\n",
    "    print(\"List are not capturing all information\")"
   ]
  },
  {
   "cell_type": "code",
   "execution_count": 23,
   "metadata": {},
   "outputs": [
    {
     "name": "stdout",
     "output_type": "stream",
     "text": [
      "1) ---- Shape ----\n",
      " (147, 4)\n",
      "2) ---- DF ----\n",
      "          Frequency  Polarity  Sentiment  Objetivity\n",
      "market         111 -0.001957   0.283582    0.379658\n",
      "just            95  0.058646   0.250000    0.371004\n",
      "trump           92 -0.007972   0.041667    0.475279\n",
      "like            83  0.044377   0.289855    0.417180\n",
      "china           72  0.103210   0.413793    0.411776\n",
      "...            ...       ...        ...         ...\n",
      "haven           10  0.107777   0.600000    0.415806\n",
      "days            10  0.065863   0.200000    0.387186\n",
      "maybe           10  0.081523   0.200000    0.473383\n",
      "support         10 -0.041372   0.200000    0.399679\n",
      "thanks          10  0.201996   1.000000    0.317226\n",
      "\n",
      "[147 rows x 4 columns]\n"
     ]
    }
   ],
   "source": [
    "# Inspection of new DF for plot\n",
    "Cleaned_macro_data_frame = macro_data_frame.loc[(list(log_updated_new_data_set_df.columns))]\n",
    "print(\"1) ---- Shape ----\\n\",Cleaned_macro_data_frame.shape)\n",
    "print(\"2) ---- DF ----\\n\",Cleaned_macro_data_frame)"
   ]
  },
  {
   "cell_type": "code",
   "execution_count": 24,
   "metadata": {},
   "outputs": [
    {
     "data": {
      "application/vnd.plotly.v1+json": {
       "config": {
        "plotlyServerURL": "https://plot.ly"
       },
       "data": [
        {
         "hovertemplate": "<b>%{hovertext}</b><br><br>Frequency=%{x:.3f}<br>Polarity=%{y:.3f}<br>Objetivity=%{z}<extra></extra>",
         "hovertext": [
          "market",
          "just",
          "trump",
          "like",
          "china",
          "think",
          "people",
          "stock",
          "going",
          "good",
          "money",
          "tariffs",
          "time",
          "price",
          "make",
          "want",
          "don",
          "doing",
          "silver",
          "right",
          "company",
          "x200b",
          "years",
          "day",
          "economy",
          "world",
          "today",
          "did",
          "stocks",
          "really",
          "buy",
          "dollar",
          "doesn",
          "way",
          "know",
          "companies",
          "long",
          "new",
          "does",
          "week",
          "stockbuyvest",
          "com",
          "10",
          "sell",
          "trade",
          "year",
          "ve",
          "ll",
          "bad",
          "better",
          "american",
          "looking",
          "look",
          "xi",
          "high",
          "say",
          "t5_2th52",
          "term",
          "wants",
          "emote",
          "fuck",
          "things",
          "img",
          "need",
          "isn",
          "point",
          "let",
          "trading",
          "thing",
          "got",
          "news",
          "president",
          "literally",
          "selling",
          "investors",
          "big",
          "bond",
          "america",
          "bonds",
          "shit",
          "reason",
          "war",
          "usa",
          "feel",
          "end",
          "daily",
          "country",
          "higher",
          "invest",
          "hold",
          "gold",
          "calls",
          "sure",
          "didn",
          "updated",
          "countries",
          "deal",
          "buying",
          "chinese",
          "pretty",
          "worse",
          "tariff",
          "reddit",
          "come",
          "ago",
          "50",
          "target",
          "power",
          "puts",
          "went",
          "happening",
          "lot",
          "currently",
          "far",
          "lower",
          "work",
          "usd",
          "great",
          "plan",
          "won",
          "said",
          "real",
          "spy",
          "cash",
          "called",
          "believe",
          "actually",
          "getting",
          "moving",
          "gonna",
          "fed",
          "investment",
          "free",
          "probably",
          "seen",
          "risk",
          "making",
          "life",
          "happen",
          "rest",
          "markets",
          "love",
          "haven",
          "days",
          "maybe",
          "support",
          "thanks"
         ],
         "legendgroup": "",
         "marker": {
          "color": "#636efa",
          "symbol": "circle"
         },
         "mode": "markers",
         "name": "",
         "scene": "scene",
         "showlegend": false,
         "type": "scatter3d",
         "x": {
          "bdata": "b19cU0g0MzMyLi4nJCQkIyIgHh0dHBsbGhoaGRkYGBgYGBcXFxYWFhYWFRUVFRQUFBQTExMTEhISEhISEhISEhEREREREBAQEBAQEBAQEBAPDw8PDw8PDw8PDg4ODg0NDQ0NDQ0NDQ0MDAwMDAwMDAwMDAwMDAwMDAwMCwsLCwsLCwsLCwsLCwsLCwsKCgoKCgoK",
          "dtype": "i1"
         },
         "y": {
          "bdata": "DyCPHDcIYL/URZt0zgauP4A+MOPaU4C/IXhO75m4pj/Snm1qAGy6P9nmyEI1P6M/jCzZ7sRIiT+EG1Mw1YWvPwNa29uO9I+/CzFxj0mK1T8Lzd2jQ7eTv9C8Qq7Thqk/BSYGeuWQsT+OAko3hVixP6fv8TzThbg/+jGpmARPqT9BAHIWYtuiPyHCieHIi42/UTwrGgn4kj9UGe1XeqLAP2hMwOqdb8E/69vBtRRTqj97wsraCbWYP28NV17ZqrM/hSEP1VFxlD/Cu8pyusG0P8FEvd2AyZE/eiSe6lPahz9Jv8tQ/mjBP4rYhLv7frE/0i9u5zcewz+RBus4DaGgP79xtD0gCpQ/FtBY6gQEoz949PPYbx62P+sdpoE1+rY/CFJrmRRhiD8bJAk7Og+/PypEPUAh3pY/YwbjwO6vtz9pVhHAq2aVP2lWEcCrZpU/U9yU0h0qkD9EoA/be9SYP4noaoMmIqg/ovFZig4VaD82DNguNTS+P6HhNEJ8sLk/lqlqyKrU17/azMRMzbfDP0Crk9AOS1K/A6gzL81Gsj9FA5Vbb1awPxF0tSjRKao/2Tmh3DdBvz/r79wz/r+/P5AxGZMxGas/NMIryRi9rj+Ix39xaI6rv5AxGZMxGas/vLu7u7un0L+pwmSykfCrv5AxGZMxGas/pE88EuCWvz/mlXW224yxPxaZBxW0eLY/SY6tnfj0wT/J7gRE6j67P+kXJmbbALu/O3dKUhEftT91nwwPv0+lPx2EB4lHE6o/007mKkFykL8wiX3HfZi8PyYv0USC1L8/uPAMMwFBkb8pWADJauSyP8IQRO1Ror8/eilCyh6XwT/mUSOloRq2vx/zg/eW9KQ/U+OiCVF+qD+mnvVGT3+3P/dO53dTJq2/g1+rjf0Ke78rFLdCcSukP7npQCaDeaY/ldW/Y6KMzD9V87xL4mWyP5rgLra27a8/U4Nou+nOsz+PhCCaHOe2v6DgW4wigcs/1jVd0zVdkz/MSvmhC9iTP3tF5kEFLa4/H8lkUS3xvT8lq2GF0nS2v8TEWtwUNKw/WeDx4n3KxD8g0h66cRjEv9jX8uOTpbQ/s/GiFsJQqL/U981IlszBPxObM38TkIU/QpZD6pq8xD/vkIe4+kXDP+jiWNphPae/tY3yhdMJw7/9xByZXra2vzmjKSk8RL2/fRtw2ZRnoj8l3mC2T8OxPxudsH4YOrA/N3tp/kOrkD/75Dv1Gh6dv4MkbGmQYa4/xff5Ygre4T8JbOTt19mkP+cCrIMVkMY/ewBnpUpAxD/iK4ULQ4e/P8aPtlG+cLo/gaz39o+GuD+0XZVA5a7HP+AwFDkgrYO/dageRjpNoL+p83NIqma/v5il3tWvNcM/8oslv1jyqz9WfMVXfMWHv/2tJXJ/a7G/KxDkUNg3sz/pIhr0+b3Cv61t92IqIqK/0wvcRUnmuj/lByIo+3OjvwkFSe3NIMW/fBRVPfOGpr8pZ1JF27aiv2BAbCoNOZe/sZis/fJWxj+z7Di7QZe7PyUOppxr3LA/oGTq46netD8AEecUvy6lvwPgMX792sk/",
          "dtype": "f8"
         },
         "z": {
          "bdata": "de9dMFFM2D8MaTZLhr7XPzw/Dy36at4/yvFmohKz2j8kYv4qiFraPxegc6Vsqds/GHF1kxbO3j9yVW60cXrTP1wdw8J8+ds/a7Q0ipOp4T83MWisSBjaP0B4py7EaNo/k3ZxFJ+s2z+0l2HAa3vZP4GrSnzijds/m95gPuD42D+KNfFg5CzUP+4h78scydw/xePE1vSV3T+sChm8eGffP7OYcapRFN0/9kGcYQZcxD/AcrujnJzZPyJPtnUHHtY/iNwRhQv24T9OEbs/0lfbPwyhb4UfZc4/y0P36j1a1z9zoaHemnXYP9Z2XIrVj90/EjPBsEjM2j8Ty2XpXl3ZP/KJh7R06to/bkUHkaYn3T9C67ka6DnWP4nZxI+da9g/1gY8wlj02z+ytaEy5sXfP5MPgTQIutc/aHNmxsfs1T8oH518dPLBPygfnXx08sE/3LlhD6K43T9P0GiFxWrgP3dEqt51R9Q/5h55aosJ3T8WnuuQstnaP7qVHtO23to/QxOwQLnz4T+Je9XgeJzfPzdKR+WR+Nc/QKDwnTUR2T+n+tdXADPaP+YkjeJ+W9o/B+arzMUF4D+evs6Kad3dPxRFURRFUcQ/DbbZMpeR3D/0zbXF6GLbPxRFURRFUcQ/chzHcRwn4T8XQ222cJfZPxRFURRFUcQ/0F6fGiOs2z+ApeHLMwzcP/wHbTlGqds/DmqMVaKG4D/m33VEB+7YP5a7La0YAtc/JU9vj7RF2T9kq0ZTVajVP2zoMg8oQ9g/NoCIc4pf2T+WrcitxdXXP8Zp6SLcPdo/tCnog4bL2T+HqveDMa3XP4LdOYvPbts/+9k5QC1u2T+brOBwfTjiP9TvLGVPWd4/u5fk1kS21z89Du63IpzUP7THOIN3tds/oe/DqRU+1T/pNAHd9gi8Pzfh3efs6do/1s9jo5ww3D9f0PGCdwbZP32LTeEb8tY/w4wyj1l/3D9xby+Uc7fcP5g4gQcEjeM/NGJWmci81z9uXDF2UsC3P/6Mg94iidg/WXigN60N0z/nZtrZpabdP4QJ8vahJNY/V44cO9WK5T928dbFPbPhP3Nfll3MP9o/vRna/ys22j9XBAqNKDbhPxAugpevjNg/KptHmvNC2T9LUlrBnVnUPyksBkP3pt0/sdhz4JJc0z9DwqxU073aP8M263Ssut0/UO31WZqS3D9J589blxTdP67E7Sm5BuI/Q+WD1ETw2T9wcsdKsy7YP23xTE/6M9g/w5XCj2KP5D/tBgIVJ0bcP3EJpbuZTOQ/ZH1sxKkl2D9e0LCUIlPcP75/h6YiE9U/GitS9fMI3D9Qb4yjb7HaP1n0PFzwQtc/kQAi4Vbt2T8B5tu3OkPgP9s4eeUPHds/zczMzMzM0D+7Tq7a05ncP2C0tbM28t4/YoobPLDR2z9lL5oTd3vcP1cShQf+dOI/w/rKNDhV2z/+sICk3PXkP4h1+HL2MeA/sTVkgpTv4D8RZuqhkWXePwrXo3A9CtU/w0Y2gsMU2z+NI9Vtj5zaP5/dG4mox9g/HUJoyOdL3j9Zp0xuVZTZP53yaz9vTdQ/",
          "dtype": "f8"
         }
        }
       ],
       "layout": {
        "legend": {
         "tracegroupgap": 0
        },
        "scene": {
         "domain": {
          "x": [
           0,
           1
          ],
          "y": [
           0,
           1
          ]
         },
         "xaxis": {
          "title": {
           "text": "Frequency"
          }
         },
         "yaxis": {
          "title": {
           "text": "Polarity"
          }
         },
         "zaxis": {
          "title": {
           "text": "Objetivity"
          }
         }
        },
        "template": {
         "data": {
          "bar": [
           {
            "error_x": {
             "color": "#2a3f5f"
            },
            "error_y": {
             "color": "#2a3f5f"
            },
            "marker": {
             "line": {
              "color": "#E5ECF6",
              "width": 0.5
             },
             "pattern": {
              "fillmode": "overlay",
              "size": 10,
              "solidity": 0.2
             }
            },
            "type": "bar"
           }
          ],
          "barpolar": [
           {
            "marker": {
             "line": {
              "color": "#E5ECF6",
              "width": 0.5
             },
             "pattern": {
              "fillmode": "overlay",
              "size": 10,
              "solidity": 0.2
             }
            },
            "type": "barpolar"
           }
          ],
          "carpet": [
           {
            "aaxis": {
             "endlinecolor": "#2a3f5f",
             "gridcolor": "white",
             "linecolor": "white",
             "minorgridcolor": "white",
             "startlinecolor": "#2a3f5f"
            },
            "baxis": {
             "endlinecolor": "#2a3f5f",
             "gridcolor": "white",
             "linecolor": "white",
             "minorgridcolor": "white",
             "startlinecolor": "#2a3f5f"
            },
            "type": "carpet"
           }
          ],
          "choropleth": [
           {
            "colorbar": {
             "outlinewidth": 0,
             "ticks": ""
            },
            "type": "choropleth"
           }
          ],
          "contour": [
           {
            "colorbar": {
             "outlinewidth": 0,
             "ticks": ""
            },
            "colorscale": [
             [
              0,
              "#0d0887"
             ],
             [
              0.1111111111111111,
              "#46039f"
             ],
             [
              0.2222222222222222,
              "#7201a8"
             ],
             [
              0.3333333333333333,
              "#9c179e"
             ],
             [
              0.4444444444444444,
              "#bd3786"
             ],
             [
              0.5555555555555556,
              "#d8576b"
             ],
             [
              0.6666666666666666,
              "#ed7953"
             ],
             [
              0.7777777777777778,
              "#fb9f3a"
             ],
             [
              0.8888888888888888,
              "#fdca26"
             ],
             [
              1,
              "#f0f921"
             ]
            ],
            "type": "contour"
           }
          ],
          "contourcarpet": [
           {
            "colorbar": {
             "outlinewidth": 0,
             "ticks": ""
            },
            "type": "contourcarpet"
           }
          ],
          "heatmap": [
           {
            "colorbar": {
             "outlinewidth": 0,
             "ticks": ""
            },
            "colorscale": [
             [
              0,
              "#0d0887"
             ],
             [
              0.1111111111111111,
              "#46039f"
             ],
             [
              0.2222222222222222,
              "#7201a8"
             ],
             [
              0.3333333333333333,
              "#9c179e"
             ],
             [
              0.4444444444444444,
              "#bd3786"
             ],
             [
              0.5555555555555556,
              "#d8576b"
             ],
             [
              0.6666666666666666,
              "#ed7953"
             ],
             [
              0.7777777777777778,
              "#fb9f3a"
             ],
             [
              0.8888888888888888,
              "#fdca26"
             ],
             [
              1,
              "#f0f921"
             ]
            ],
            "type": "heatmap"
           }
          ],
          "histogram": [
           {
            "marker": {
             "pattern": {
              "fillmode": "overlay",
              "size": 10,
              "solidity": 0.2
             }
            },
            "type": "histogram"
           }
          ],
          "histogram2d": [
           {
            "colorbar": {
             "outlinewidth": 0,
             "ticks": ""
            },
            "colorscale": [
             [
              0,
              "#0d0887"
             ],
             [
              0.1111111111111111,
              "#46039f"
             ],
             [
              0.2222222222222222,
              "#7201a8"
             ],
             [
              0.3333333333333333,
              "#9c179e"
             ],
             [
              0.4444444444444444,
              "#bd3786"
             ],
             [
              0.5555555555555556,
              "#d8576b"
             ],
             [
              0.6666666666666666,
              "#ed7953"
             ],
             [
              0.7777777777777778,
              "#fb9f3a"
             ],
             [
              0.8888888888888888,
              "#fdca26"
             ],
             [
              1,
              "#f0f921"
             ]
            ],
            "type": "histogram2d"
           }
          ],
          "histogram2dcontour": [
           {
            "colorbar": {
             "outlinewidth": 0,
             "ticks": ""
            },
            "colorscale": [
             [
              0,
              "#0d0887"
             ],
             [
              0.1111111111111111,
              "#46039f"
             ],
             [
              0.2222222222222222,
              "#7201a8"
             ],
             [
              0.3333333333333333,
              "#9c179e"
             ],
             [
              0.4444444444444444,
              "#bd3786"
             ],
             [
              0.5555555555555556,
              "#d8576b"
             ],
             [
              0.6666666666666666,
              "#ed7953"
             ],
             [
              0.7777777777777778,
              "#fb9f3a"
             ],
             [
              0.8888888888888888,
              "#fdca26"
             ],
             [
              1,
              "#f0f921"
             ]
            ],
            "type": "histogram2dcontour"
           }
          ],
          "mesh3d": [
           {
            "colorbar": {
             "outlinewidth": 0,
             "ticks": ""
            },
            "type": "mesh3d"
           }
          ],
          "parcoords": [
           {
            "line": {
             "colorbar": {
              "outlinewidth": 0,
              "ticks": ""
             }
            },
            "type": "parcoords"
           }
          ],
          "pie": [
           {
            "automargin": true,
            "type": "pie"
           }
          ],
          "scatter": [
           {
            "fillpattern": {
             "fillmode": "overlay",
             "size": 10,
             "solidity": 0.2
            },
            "type": "scatter"
           }
          ],
          "scatter3d": [
           {
            "line": {
             "colorbar": {
              "outlinewidth": 0,
              "ticks": ""
             }
            },
            "marker": {
             "colorbar": {
              "outlinewidth": 0,
              "ticks": ""
             }
            },
            "type": "scatter3d"
           }
          ],
          "scattercarpet": [
           {
            "marker": {
             "colorbar": {
              "outlinewidth": 0,
              "ticks": ""
             }
            },
            "type": "scattercarpet"
           }
          ],
          "scattergeo": [
           {
            "marker": {
             "colorbar": {
              "outlinewidth": 0,
              "ticks": ""
             }
            },
            "type": "scattergeo"
           }
          ],
          "scattergl": [
           {
            "marker": {
             "colorbar": {
              "outlinewidth": 0,
              "ticks": ""
             }
            },
            "type": "scattergl"
           }
          ],
          "scattermap": [
           {
            "marker": {
             "colorbar": {
              "outlinewidth": 0,
              "ticks": ""
             }
            },
            "type": "scattermap"
           }
          ],
          "scattermapbox": [
           {
            "marker": {
             "colorbar": {
              "outlinewidth": 0,
              "ticks": ""
             }
            },
            "type": "scattermapbox"
           }
          ],
          "scatterpolar": [
           {
            "marker": {
             "colorbar": {
              "outlinewidth": 0,
              "ticks": ""
             }
            },
            "type": "scatterpolar"
           }
          ],
          "scatterpolargl": [
           {
            "marker": {
             "colorbar": {
              "outlinewidth": 0,
              "ticks": ""
             }
            },
            "type": "scatterpolargl"
           }
          ],
          "scatterternary": [
           {
            "marker": {
             "colorbar": {
              "outlinewidth": 0,
              "ticks": ""
             }
            },
            "type": "scatterternary"
           }
          ],
          "surface": [
           {
            "colorbar": {
             "outlinewidth": 0,
             "ticks": ""
            },
            "colorscale": [
             [
              0,
              "#0d0887"
             ],
             [
              0.1111111111111111,
              "#46039f"
             ],
             [
              0.2222222222222222,
              "#7201a8"
             ],
             [
              0.3333333333333333,
              "#9c179e"
             ],
             [
              0.4444444444444444,
              "#bd3786"
             ],
             [
              0.5555555555555556,
              "#d8576b"
             ],
             [
              0.6666666666666666,
              "#ed7953"
             ],
             [
              0.7777777777777778,
              "#fb9f3a"
             ],
             [
              0.8888888888888888,
              "#fdca26"
             ],
             [
              1,
              "#f0f921"
             ]
            ],
            "type": "surface"
           }
          ],
          "table": [
           {
            "cells": {
             "fill": {
              "color": "#EBF0F8"
             },
             "line": {
              "color": "white"
             }
            },
            "header": {
             "fill": {
              "color": "#C8D4E3"
             },
             "line": {
              "color": "white"
             }
            },
            "type": "table"
           }
          ]
         },
         "layout": {
          "annotationdefaults": {
           "arrowcolor": "#2a3f5f",
           "arrowhead": 0,
           "arrowwidth": 1
          },
          "autotypenumbers": "strict",
          "coloraxis": {
           "colorbar": {
            "outlinewidth": 0,
            "ticks": ""
           }
          },
          "colorscale": {
           "diverging": [
            [
             0,
             "#8e0152"
            ],
            [
             0.1,
             "#c51b7d"
            ],
            [
             0.2,
             "#de77ae"
            ],
            [
             0.3,
             "#f1b6da"
            ],
            [
             0.4,
             "#fde0ef"
            ],
            [
             0.5,
             "#f7f7f7"
            ],
            [
             0.6,
             "#e6f5d0"
            ],
            [
             0.7,
             "#b8e186"
            ],
            [
             0.8,
             "#7fbc41"
            ],
            [
             0.9,
             "#4d9221"
            ],
            [
             1,
             "#276419"
            ]
           ],
           "sequential": [
            [
             0,
             "#0d0887"
            ],
            [
             0.1111111111111111,
             "#46039f"
            ],
            [
             0.2222222222222222,
             "#7201a8"
            ],
            [
             0.3333333333333333,
             "#9c179e"
            ],
            [
             0.4444444444444444,
             "#bd3786"
            ],
            [
             0.5555555555555556,
             "#d8576b"
            ],
            [
             0.6666666666666666,
             "#ed7953"
            ],
            [
             0.7777777777777778,
             "#fb9f3a"
            ],
            [
             0.8888888888888888,
             "#fdca26"
            ],
            [
             1,
             "#f0f921"
            ]
           ],
           "sequentialminus": [
            [
             0,
             "#0d0887"
            ],
            [
             0.1111111111111111,
             "#46039f"
            ],
            [
             0.2222222222222222,
             "#7201a8"
            ],
            [
             0.3333333333333333,
             "#9c179e"
            ],
            [
             0.4444444444444444,
             "#bd3786"
            ],
            [
             0.5555555555555556,
             "#d8576b"
            ],
            [
             0.6666666666666666,
             "#ed7953"
            ],
            [
             0.7777777777777778,
             "#fb9f3a"
            ],
            [
             0.8888888888888888,
             "#fdca26"
            ],
            [
             1,
             "#f0f921"
            ]
           ]
          },
          "colorway": [
           "#636efa",
           "#EF553B",
           "#00cc96",
           "#ab63fa",
           "#FFA15A",
           "#19d3f3",
           "#FF6692",
           "#B6E880",
           "#FF97FF",
           "#FECB52"
          ],
          "font": {
           "color": "#2a3f5f"
          },
          "geo": {
           "bgcolor": "white",
           "lakecolor": "white",
           "landcolor": "#E5ECF6",
           "showlakes": true,
           "showland": true,
           "subunitcolor": "white"
          },
          "hoverlabel": {
           "align": "left"
          },
          "hovermode": "closest",
          "mapbox": {
           "style": "light"
          },
          "paper_bgcolor": "white",
          "plot_bgcolor": "#E5ECF6",
          "polar": {
           "angularaxis": {
            "gridcolor": "white",
            "linecolor": "white",
            "ticks": ""
           },
           "bgcolor": "#E5ECF6",
           "radialaxis": {
            "gridcolor": "white",
            "linecolor": "white",
            "ticks": ""
           }
          },
          "scene": {
           "xaxis": {
            "backgroundcolor": "#E5ECF6",
            "gridcolor": "white",
            "gridwidth": 2,
            "linecolor": "white",
            "showbackground": true,
            "ticks": "",
            "zerolinecolor": "white"
           },
           "yaxis": {
            "backgroundcolor": "#E5ECF6",
            "gridcolor": "white",
            "gridwidth": 2,
            "linecolor": "white",
            "showbackground": true,
            "ticks": "",
            "zerolinecolor": "white"
           },
           "zaxis": {
            "backgroundcolor": "#E5ECF6",
            "gridcolor": "white",
            "gridwidth": 2,
            "linecolor": "white",
            "showbackground": true,
            "ticks": "",
            "zerolinecolor": "white"
           }
          },
          "shapedefaults": {
           "line": {
            "color": "#2a3f5f"
           }
          },
          "ternary": {
           "aaxis": {
            "gridcolor": "white",
            "linecolor": "white",
            "ticks": ""
           },
           "baxis": {
            "gridcolor": "white",
            "linecolor": "white",
            "ticks": ""
           },
           "bgcolor": "#E5ECF6",
           "caxis": {
            "gridcolor": "white",
            "linecolor": "white",
            "ticks": ""
           }
          },
          "title": {
           "x": 0.05
          },
          "xaxis": {
           "automargin": true,
           "gridcolor": "white",
           "linecolor": "white",
           "ticks": "",
           "title": {
            "standoff": 15
           },
           "zerolinecolor": "white",
           "zerolinewidth": 2
          },
          "yaxis": {
           "automargin": true,
           "gridcolor": "white",
           "linecolor": "white",
           "ticks": "",
           "title": {
            "standoff": 15
           },
           "zerolinecolor": "white",
           "zerolinewidth": 2
          }
         }
        },
        "title": {
         "text": "Tokens Polarity vs Subjectivity vs Frequency"
        }
       }
      }
     },
     "metadata": {},
     "output_type": "display_data"
    }
   ],
   "source": [
    "fig3d = px.scatter_3d(\n",
    "    macro_data_frame.loc[(list(log_updated_new_data_set_df.columns))],\n",
    "    x=\"Frequency\",\n",
    "    y=\"Polarity\",\n",
    "    z=\"Objetivity\",\n",
    "    hover_name=macro_data_frame.loc[(list(log_updated_new_data_set_df.columns))].index.astype(str),\n",
    "    hover_data={\"Frequency\":\":.3f\", \"Polarity\":\":.3f\", \"Objetivity\":True},\n",
    "    title=f\"Tokens Polarity vs Subjectivity vs Frequency\"\n",
    ")\n",
    "fig3d.show()"
   ]
  },
  {
   "cell_type": "markdown",
   "metadata": {},
   "source": [
    "##### **Comment**:\n",
    "As previously percieved, Raw numbers make the few words with high distribution dominate the visual, so cant appreate that well, Next plot will use LOG values"
   ]
  },
  {
   "cell_type": "code",
   "execution_count": 25,
   "metadata": {},
   "outputs": [],
   "source": [
    "# Log transformation\n",
    "log_Cleaned_macro_data_frame = Cleaned_macro_data_frame.copy()\n",
    "log_Cleaned_macro_data_frame.Frequency = Cleaned_macro_data_frame.Frequency.apply(lambda x : math.log(x))\n"
   ]
  },
  {
   "cell_type": "code",
   "execution_count": 26,
   "metadata": {},
   "outputs": [
    {
     "data": {
      "application/vnd.plotly.v1+json": {
       "config": {
        "plotlyServerURL": "https://plot.ly"
       },
       "data": [
        {
         "hovertemplate": "<b>%{hovertext}</b><br><br>Frequency=%{x:.3f}<br>Polarity=%{y:.3f}<br>Objetivity=%{z}<extra></extra>",
         "hovertext": [
          "market",
          "just",
          "trump",
          "like",
          "china",
          "think",
          "people",
          "stock",
          "going",
          "good",
          "money",
          "tariffs",
          "time",
          "price",
          "make",
          "want",
          "don",
          "doing",
          "silver",
          "right",
          "company",
          "x200b",
          "years",
          "day",
          "economy",
          "world",
          "today",
          "did",
          "stocks",
          "really",
          "buy",
          "dollar",
          "doesn",
          "way",
          "know",
          "companies",
          "long",
          "new",
          "does",
          "week",
          "stockbuyvest",
          "com",
          "10",
          "sell",
          "trade",
          "year",
          "ve",
          "ll",
          "bad",
          "better",
          "american",
          "looking",
          "look",
          "xi",
          "high",
          "say",
          "t5_2th52",
          "term",
          "wants",
          "emote",
          "fuck",
          "things",
          "img",
          "need",
          "isn",
          "point",
          "let",
          "trading",
          "thing",
          "got",
          "news",
          "president",
          "literally",
          "selling",
          "investors",
          "big",
          "bond",
          "america",
          "bonds",
          "shit",
          "reason",
          "war",
          "usa",
          "feel",
          "end",
          "daily",
          "country",
          "higher",
          "invest",
          "hold",
          "gold",
          "calls",
          "sure",
          "didn",
          "updated",
          "countries",
          "deal",
          "buying",
          "chinese",
          "pretty",
          "worse",
          "tariff",
          "reddit",
          "come",
          "ago",
          "50",
          "target",
          "power",
          "puts",
          "went",
          "happening",
          "lot",
          "currently",
          "far",
          "lower",
          "work",
          "usd",
          "great",
          "plan",
          "won",
          "said",
          "real",
          "spy",
          "cash",
          "called",
          "believe",
          "actually",
          "getting",
          "moving",
          "gonna",
          "fed",
          "investment",
          "free",
          "probably",
          "seen",
          "risk",
          "making",
          "life",
          "happen",
          "rest",
          "markets",
          "love",
          "haven",
          "days",
          "maybe",
          "support",
          "thanks"
         ],
         "legendgroup": "",
         "marker": {
          "color": "#636efa",
          "symbol": "circle"
         },
         "mode": "markers",
         "name": "",
         "scene": "scene",
         "showlegend": false,
         "type": "scatter3d",
         "x": {
          "bdata": "oaTIFY/WEkDjvP2AKzcSQHRop75PFhJAguRijeSsEUA/V/RcThsRQEmprqolnA9A/wBR/2B0D0D/AFH/YHQPQK8brLfSSw9AbEKQvQ6hDkBsQpC9DqEOQNYNiGj5Tg1AAiAq+gurDEACICr6C6sMQAIgKvoLqwxAxfMPU1pxDED2DbmB/DUMQGvIuL7TuQtAm9YL+aY1C0Af/s3LOPAKQB/+zcs48ApAI0qW1lqoCkCQhAO4310KQJCEA7jfXQpAzRrw6pQQCkDNGvDqlBAKQM0a8OqUEApAM43t90HACUAzje33QcAJQPksknynbAlA+SySfKdsCUD5LJJ8p2wJQPksknynbAlA+SySfKdsCUDws9H9fRUJQPCz0f19FQlA8LPR/X0VCUDIxT13dLoIQMjFPXd0ughAyMU9d3S6CEDIxT13dLoIQMjFPXd0ughAsa5vlC5bCECxrm+ULlsIQLGub5QuWwhAsa5vlC5bCECR43N7QvcHQJHjc3tC9wdAkeNze0L3B0CR43N7QvcHQCyzBAY2jgdALLMEBjaOB0AsswQGNo4HQCyzBAY2jgdAhpFrOnsfB0CGkWs6ex8HQIaRazp7HwdAhpFrOnsfB0CGkWs6ex8HQIaRazp7HwdAhpFrOnsfB0CGkWs6ex8HQIaRazp7HwdAhpFrOnsfB0B6f/rBa6oGQHp/+sFrqgZAen/6wWuqBkB6f/rBa6oGQHp/+sFrqgZA7zn6/kIuBkDvOfr+Qi4GQO85+v5CLgZA7zn6/kIuBkDvOfr+Qi4GQO85+v5CLgZA7zn6/kIuBkDvOfr+Qi4GQO85+v5CLgZA7zn6/kIuBkDvOfr+Qi4GQB9ITTkWqgVAH0hNORaqBUAfSE05FqoFQB9ITTkWqgVAH0hNORaqBUAfSE05FqoFQB9ITTkWqgVAH0hNORaqBUAfSE05FqoFQB9ITTkWqgVAp7vXFsocBUCnu9cWyhwFQKe71xbKHAVAp7vXFsocBUBRjDErBIUEQFGMMSsEhQRAUYwxKwSFBEBRjDErBIUEQFGMMSsEhQRAUYwxKwSFBEBRjDErBIUEQFGMMSsEhQRAUYwxKwSFBEBRjDErBIUEQH2e07wW4QNAfZ7TvBbhA0B9ntO8FuEDQH2e07wW4QNAfZ7TvBbhA0B9ntO8FuEDQH2e07wW4QNAfZ7TvBbhA0B9ntO8FuEDQH2e07wW4QNAfZ7TvBbhA0B9ntO8FuEDQH2e07wW4QNAfZ7TvBbhA0B9ntO8FuEDQH2e07wW4QNAfZ7TvBbhA0B9ntO8FuEDQH2e07wW4QNATDd/t+MuA0BMN3+34y4DQEw3f7fjLgNATDd/t+MuA0BMN3+34y4DQEw3f7fjLgNATDd/t+MuA0BMN3+34y4DQEw3f7fjLgNATDd/t+MuA0BMN3+34y4DQEw3f7fjLgNATDd/t+MuA0BMN3+34y4DQEw3f7fjLgNATDd/t+MuA0BMN3+34y4DQBZVtbuxawJAFlW1u7FrAkAWVbW7sWsCQBZVtbuxawJAFlW1u7FrAkAWVbW7sWsCQBZVtbuxawJA",
          "dtype": "f8"
         },
         "y": {
          "bdata": "DyCPHDcIYL/URZt0zgauP4A+MOPaU4C/IXhO75m4pj/Snm1qAGy6P9nmyEI1P6M/jCzZ7sRIiT+EG1Mw1YWvPwNa29uO9I+/CzFxj0mK1T8Lzd2jQ7eTv9C8Qq7Thqk/BSYGeuWQsT+OAko3hVixP6fv8TzThbg/+jGpmARPqT9BAHIWYtuiPyHCieHIi42/UTwrGgn4kj9UGe1XeqLAP2hMwOqdb8E/69vBtRRTqj97wsraCbWYP28NV17ZqrM/hSEP1VFxlD/Cu8pyusG0P8FEvd2AyZE/eiSe6lPahz9Jv8tQ/mjBP4rYhLv7frE/0i9u5zcewz+RBus4DaGgP79xtD0gCpQ/FtBY6gQEoz949PPYbx62P+sdpoE1+rY/CFJrmRRhiD8bJAk7Og+/PypEPUAh3pY/YwbjwO6vtz9pVhHAq2aVP2lWEcCrZpU/U9yU0h0qkD9EoA/be9SYP4noaoMmIqg/ovFZig4VaD82DNguNTS+P6HhNEJ8sLk/lqlqyKrU17/azMRMzbfDP0Crk9AOS1K/A6gzL81Gsj9FA5Vbb1awPxF0tSjRKao/2Tmh3DdBvz/r79wz/r+/P5AxGZMxGas/NMIryRi9rj+Ix39xaI6rv5AxGZMxGas/vLu7u7un0L+pwmSykfCrv5AxGZMxGas/pE88EuCWvz/mlXW224yxPxaZBxW0eLY/SY6tnfj0wT/J7gRE6j67P+kXJmbbALu/O3dKUhEftT91nwwPv0+lPx2EB4lHE6o/007mKkFykL8wiX3HfZi8PyYv0USC1L8/uPAMMwFBkb8pWADJauSyP8IQRO1Ror8/eilCyh6XwT/mUSOloRq2vx/zg/eW9KQ/U+OiCVF+qD+mnvVGT3+3P/dO53dTJq2/g1+rjf0Ke78rFLdCcSukP7npQCaDeaY/ldW/Y6KMzD9V87xL4mWyP5rgLra27a8/U4Nou+nOsz+PhCCaHOe2v6DgW4wigcs/1jVd0zVdkz/MSvmhC9iTP3tF5kEFLa4/H8lkUS3xvT8lq2GF0nS2v8TEWtwUNKw/WeDx4n3KxD8g0h66cRjEv9jX8uOTpbQ/s/GiFsJQqL/U981IlszBPxObM38TkIU/QpZD6pq8xD/vkIe4+kXDP+jiWNphPae/tY3yhdMJw7/9xByZXra2vzmjKSk8RL2/fRtw2ZRnoj8l3mC2T8OxPxudsH4YOrA/N3tp/kOrkD/75Dv1Gh6dv4MkbGmQYa4/xff5Ygre4T8JbOTt19mkP+cCrIMVkMY/ewBnpUpAxD/iK4ULQ4e/P8aPtlG+cLo/gaz39o+GuD+0XZVA5a7HP+AwFDkgrYO/dageRjpNoL+p83NIqma/v5il3tWvNcM/8oslv1jyqz9WfMVXfMWHv/2tJXJ/a7G/KxDkUNg3sz/pIhr0+b3Cv61t92IqIqK/0wvcRUnmuj/lByIo+3OjvwkFSe3NIMW/fBRVPfOGpr8pZ1JF27aiv2BAbCoNOZe/sZis/fJWxj+z7Di7QZe7PyUOppxr3LA/oGTq46netD8AEecUvy6lvwPgMX792sk/",
          "dtype": "f8"
         },
         "z": {
          "bdata": "de9dMFFM2D8MaTZLhr7XPzw/Dy36at4/yvFmohKz2j8kYv4qiFraPxegc6Vsqds/GHF1kxbO3j9yVW60cXrTP1wdw8J8+ds/a7Q0ipOp4T83MWisSBjaP0B4py7EaNo/k3ZxFJ+s2z+0l2HAa3vZP4GrSnzijds/m95gPuD42D+KNfFg5CzUP+4h78scydw/xePE1vSV3T+sChm8eGffP7OYcapRFN0/9kGcYQZcxD/AcrujnJzZPyJPtnUHHtY/iNwRhQv24T9OEbs/0lfbPwyhb4UfZc4/y0P36j1a1z9zoaHemnXYP9Z2XIrVj90/EjPBsEjM2j8Ty2XpXl3ZP/KJh7R06to/bkUHkaYn3T9C67ka6DnWP4nZxI+da9g/1gY8wlj02z+ytaEy5sXfP5MPgTQIutc/aHNmxsfs1T8oH518dPLBPygfnXx08sE/3LlhD6K43T9P0GiFxWrgP3dEqt51R9Q/5h55aosJ3T8WnuuQstnaP7qVHtO23to/QxOwQLnz4T+Je9XgeJzfPzdKR+WR+Nc/QKDwnTUR2T+n+tdXADPaP+YkjeJ+W9o/B+arzMUF4D+evs6Kad3dPxRFURRFUcQ/DbbZMpeR3D/0zbXF6GLbPxRFURRFUcQ/chzHcRwn4T8XQ222cJfZPxRFURRFUcQ/0F6fGiOs2z+ApeHLMwzcP/wHbTlGqds/DmqMVaKG4D/m33VEB+7YP5a7La0YAtc/JU9vj7RF2T9kq0ZTVajVP2zoMg8oQ9g/NoCIc4pf2T+WrcitxdXXP8Zp6SLcPdo/tCnog4bL2T+HqveDMa3XP4LdOYvPbts/+9k5QC1u2T+brOBwfTjiP9TvLGVPWd4/u5fk1kS21z89Du63IpzUP7THOIN3tds/oe/DqRU+1T/pNAHd9gi8Pzfh3efs6do/1s9jo5ww3D9f0PGCdwbZP32LTeEb8tY/w4wyj1l/3D9xby+Uc7fcP5g4gQcEjeM/NGJWmci81z9uXDF2UsC3P/6Mg94iidg/WXigN60N0z/nZtrZpabdP4QJ8vahJNY/V44cO9WK5T928dbFPbPhP3Nfll3MP9o/vRna/ys22j9XBAqNKDbhPxAugpevjNg/KptHmvNC2T9LUlrBnVnUPyksBkP3pt0/sdhz4JJc0z9DwqxU073aP8M263Ssut0/UO31WZqS3D9J589blxTdP67E7Sm5BuI/Q+WD1ETw2T9wcsdKsy7YP23xTE/6M9g/w5XCj2KP5D/tBgIVJ0bcP3EJpbuZTOQ/ZH1sxKkl2D9e0LCUIlPcP75/h6YiE9U/GitS9fMI3D9Qb4yjb7HaP1n0PFzwQtc/kQAi4Vbt2T8B5tu3OkPgP9s4eeUPHds/zczMzMzM0D+7Tq7a05ncP2C0tbM28t4/YoobPLDR2z9lL5oTd3vcP1cShQf+dOI/w/rKNDhV2z/+sICk3PXkP4h1+HL2MeA/sTVkgpTv4D8RZuqhkWXePwrXo3A9CtU/w0Y2gsMU2z+NI9Vtj5zaP5/dG4mox9g/HUJoyOdL3j9Zp0xuVZTZP53yaz9vTdQ/",
          "dtype": "f8"
         }
        }
       ],
       "layout": {
        "legend": {
         "tracegroupgap": 0
        },
        "scene": {
         "domain": {
          "x": [
           0,
           1
          ],
          "y": [
           0,
           1
          ]
         },
         "xaxis": {
          "title": {
           "text": "Frequency"
          }
         },
         "yaxis": {
          "title": {
           "text": "Polarity"
          }
         },
         "zaxis": {
          "title": {
           "text": "Objetivity"
          }
         }
        },
        "template": {
         "data": {
          "bar": [
           {
            "error_x": {
             "color": "#2a3f5f"
            },
            "error_y": {
             "color": "#2a3f5f"
            },
            "marker": {
             "line": {
              "color": "#E5ECF6",
              "width": 0.5
             },
             "pattern": {
              "fillmode": "overlay",
              "size": 10,
              "solidity": 0.2
             }
            },
            "type": "bar"
           }
          ],
          "barpolar": [
           {
            "marker": {
             "line": {
              "color": "#E5ECF6",
              "width": 0.5
             },
             "pattern": {
              "fillmode": "overlay",
              "size": 10,
              "solidity": 0.2
             }
            },
            "type": "barpolar"
           }
          ],
          "carpet": [
           {
            "aaxis": {
             "endlinecolor": "#2a3f5f",
             "gridcolor": "white",
             "linecolor": "white",
             "minorgridcolor": "white",
             "startlinecolor": "#2a3f5f"
            },
            "baxis": {
             "endlinecolor": "#2a3f5f",
             "gridcolor": "white",
             "linecolor": "white",
             "minorgridcolor": "white",
             "startlinecolor": "#2a3f5f"
            },
            "type": "carpet"
           }
          ],
          "choropleth": [
           {
            "colorbar": {
             "outlinewidth": 0,
             "ticks": ""
            },
            "type": "choropleth"
           }
          ],
          "contour": [
           {
            "colorbar": {
             "outlinewidth": 0,
             "ticks": ""
            },
            "colorscale": [
             [
              0,
              "#0d0887"
             ],
             [
              0.1111111111111111,
              "#46039f"
             ],
             [
              0.2222222222222222,
              "#7201a8"
             ],
             [
              0.3333333333333333,
              "#9c179e"
             ],
             [
              0.4444444444444444,
              "#bd3786"
             ],
             [
              0.5555555555555556,
              "#d8576b"
             ],
             [
              0.6666666666666666,
              "#ed7953"
             ],
             [
              0.7777777777777778,
              "#fb9f3a"
             ],
             [
              0.8888888888888888,
              "#fdca26"
             ],
             [
              1,
              "#f0f921"
             ]
            ],
            "type": "contour"
           }
          ],
          "contourcarpet": [
           {
            "colorbar": {
             "outlinewidth": 0,
             "ticks": ""
            },
            "type": "contourcarpet"
           }
          ],
          "heatmap": [
           {
            "colorbar": {
             "outlinewidth": 0,
             "ticks": ""
            },
            "colorscale": [
             [
              0,
              "#0d0887"
             ],
             [
              0.1111111111111111,
              "#46039f"
             ],
             [
              0.2222222222222222,
              "#7201a8"
             ],
             [
              0.3333333333333333,
              "#9c179e"
             ],
             [
              0.4444444444444444,
              "#bd3786"
             ],
             [
              0.5555555555555556,
              "#d8576b"
             ],
             [
              0.6666666666666666,
              "#ed7953"
             ],
             [
              0.7777777777777778,
              "#fb9f3a"
             ],
             [
              0.8888888888888888,
              "#fdca26"
             ],
             [
              1,
              "#f0f921"
             ]
            ],
            "type": "heatmap"
           }
          ],
          "histogram": [
           {
            "marker": {
             "pattern": {
              "fillmode": "overlay",
              "size": 10,
              "solidity": 0.2
             }
            },
            "type": "histogram"
           }
          ],
          "histogram2d": [
           {
            "colorbar": {
             "outlinewidth": 0,
             "ticks": ""
            },
            "colorscale": [
             [
              0,
              "#0d0887"
             ],
             [
              0.1111111111111111,
              "#46039f"
             ],
             [
              0.2222222222222222,
              "#7201a8"
             ],
             [
              0.3333333333333333,
              "#9c179e"
             ],
             [
              0.4444444444444444,
              "#bd3786"
             ],
             [
              0.5555555555555556,
              "#d8576b"
             ],
             [
              0.6666666666666666,
              "#ed7953"
             ],
             [
              0.7777777777777778,
              "#fb9f3a"
             ],
             [
              0.8888888888888888,
              "#fdca26"
             ],
             [
              1,
              "#f0f921"
             ]
            ],
            "type": "histogram2d"
           }
          ],
          "histogram2dcontour": [
           {
            "colorbar": {
             "outlinewidth": 0,
             "ticks": ""
            },
            "colorscale": [
             [
              0,
              "#0d0887"
             ],
             [
              0.1111111111111111,
              "#46039f"
             ],
             [
              0.2222222222222222,
              "#7201a8"
             ],
             [
              0.3333333333333333,
              "#9c179e"
             ],
             [
              0.4444444444444444,
              "#bd3786"
             ],
             [
              0.5555555555555556,
              "#d8576b"
             ],
             [
              0.6666666666666666,
              "#ed7953"
             ],
             [
              0.7777777777777778,
              "#fb9f3a"
             ],
             [
              0.8888888888888888,
              "#fdca26"
             ],
             [
              1,
              "#f0f921"
             ]
            ],
            "type": "histogram2dcontour"
           }
          ],
          "mesh3d": [
           {
            "colorbar": {
             "outlinewidth": 0,
             "ticks": ""
            },
            "type": "mesh3d"
           }
          ],
          "parcoords": [
           {
            "line": {
             "colorbar": {
              "outlinewidth": 0,
              "ticks": ""
             }
            },
            "type": "parcoords"
           }
          ],
          "pie": [
           {
            "automargin": true,
            "type": "pie"
           }
          ],
          "scatter": [
           {
            "fillpattern": {
             "fillmode": "overlay",
             "size": 10,
             "solidity": 0.2
            },
            "type": "scatter"
           }
          ],
          "scatter3d": [
           {
            "line": {
             "colorbar": {
              "outlinewidth": 0,
              "ticks": ""
             }
            },
            "marker": {
             "colorbar": {
              "outlinewidth": 0,
              "ticks": ""
             }
            },
            "type": "scatter3d"
           }
          ],
          "scattercarpet": [
           {
            "marker": {
             "colorbar": {
              "outlinewidth": 0,
              "ticks": ""
             }
            },
            "type": "scattercarpet"
           }
          ],
          "scattergeo": [
           {
            "marker": {
             "colorbar": {
              "outlinewidth": 0,
              "ticks": ""
             }
            },
            "type": "scattergeo"
           }
          ],
          "scattergl": [
           {
            "marker": {
             "colorbar": {
              "outlinewidth": 0,
              "ticks": ""
             }
            },
            "type": "scattergl"
           }
          ],
          "scattermap": [
           {
            "marker": {
             "colorbar": {
              "outlinewidth": 0,
              "ticks": ""
             }
            },
            "type": "scattermap"
           }
          ],
          "scattermapbox": [
           {
            "marker": {
             "colorbar": {
              "outlinewidth": 0,
              "ticks": ""
             }
            },
            "type": "scattermapbox"
           }
          ],
          "scatterpolar": [
           {
            "marker": {
             "colorbar": {
              "outlinewidth": 0,
              "ticks": ""
             }
            },
            "type": "scatterpolar"
           }
          ],
          "scatterpolargl": [
           {
            "marker": {
             "colorbar": {
              "outlinewidth": 0,
              "ticks": ""
             }
            },
            "type": "scatterpolargl"
           }
          ],
          "scatterternary": [
           {
            "marker": {
             "colorbar": {
              "outlinewidth": 0,
              "ticks": ""
             }
            },
            "type": "scatterternary"
           }
          ],
          "surface": [
           {
            "colorbar": {
             "outlinewidth": 0,
             "ticks": ""
            },
            "colorscale": [
             [
              0,
              "#0d0887"
             ],
             [
              0.1111111111111111,
              "#46039f"
             ],
             [
              0.2222222222222222,
              "#7201a8"
             ],
             [
              0.3333333333333333,
              "#9c179e"
             ],
             [
              0.4444444444444444,
              "#bd3786"
             ],
             [
              0.5555555555555556,
              "#d8576b"
             ],
             [
              0.6666666666666666,
              "#ed7953"
             ],
             [
              0.7777777777777778,
              "#fb9f3a"
             ],
             [
              0.8888888888888888,
              "#fdca26"
             ],
             [
              1,
              "#f0f921"
             ]
            ],
            "type": "surface"
           }
          ],
          "table": [
           {
            "cells": {
             "fill": {
              "color": "#EBF0F8"
             },
             "line": {
              "color": "white"
             }
            },
            "header": {
             "fill": {
              "color": "#C8D4E3"
             },
             "line": {
              "color": "white"
             }
            },
            "type": "table"
           }
          ]
         },
         "layout": {
          "annotationdefaults": {
           "arrowcolor": "#2a3f5f",
           "arrowhead": 0,
           "arrowwidth": 1
          },
          "autotypenumbers": "strict",
          "coloraxis": {
           "colorbar": {
            "outlinewidth": 0,
            "ticks": ""
           }
          },
          "colorscale": {
           "diverging": [
            [
             0,
             "#8e0152"
            ],
            [
             0.1,
             "#c51b7d"
            ],
            [
             0.2,
             "#de77ae"
            ],
            [
             0.3,
             "#f1b6da"
            ],
            [
             0.4,
             "#fde0ef"
            ],
            [
             0.5,
             "#f7f7f7"
            ],
            [
             0.6,
             "#e6f5d0"
            ],
            [
             0.7,
             "#b8e186"
            ],
            [
             0.8,
             "#7fbc41"
            ],
            [
             0.9,
             "#4d9221"
            ],
            [
             1,
             "#276419"
            ]
           ],
           "sequential": [
            [
             0,
             "#0d0887"
            ],
            [
             0.1111111111111111,
             "#46039f"
            ],
            [
             0.2222222222222222,
             "#7201a8"
            ],
            [
             0.3333333333333333,
             "#9c179e"
            ],
            [
             0.4444444444444444,
             "#bd3786"
            ],
            [
             0.5555555555555556,
             "#d8576b"
            ],
            [
             0.6666666666666666,
             "#ed7953"
            ],
            [
             0.7777777777777778,
             "#fb9f3a"
            ],
            [
             0.8888888888888888,
             "#fdca26"
            ],
            [
             1,
             "#f0f921"
            ]
           ],
           "sequentialminus": [
            [
             0,
             "#0d0887"
            ],
            [
             0.1111111111111111,
             "#46039f"
            ],
            [
             0.2222222222222222,
             "#7201a8"
            ],
            [
             0.3333333333333333,
             "#9c179e"
            ],
            [
             0.4444444444444444,
             "#bd3786"
            ],
            [
             0.5555555555555556,
             "#d8576b"
            ],
            [
             0.6666666666666666,
             "#ed7953"
            ],
            [
             0.7777777777777778,
             "#fb9f3a"
            ],
            [
             0.8888888888888888,
             "#fdca26"
            ],
            [
             1,
             "#f0f921"
            ]
           ]
          },
          "colorway": [
           "#636efa",
           "#EF553B",
           "#00cc96",
           "#ab63fa",
           "#FFA15A",
           "#19d3f3",
           "#FF6692",
           "#B6E880",
           "#FF97FF",
           "#FECB52"
          ],
          "font": {
           "color": "#2a3f5f"
          },
          "geo": {
           "bgcolor": "white",
           "lakecolor": "white",
           "landcolor": "#E5ECF6",
           "showlakes": true,
           "showland": true,
           "subunitcolor": "white"
          },
          "hoverlabel": {
           "align": "left"
          },
          "hovermode": "closest",
          "mapbox": {
           "style": "light"
          },
          "paper_bgcolor": "white",
          "plot_bgcolor": "#E5ECF6",
          "polar": {
           "angularaxis": {
            "gridcolor": "white",
            "linecolor": "white",
            "ticks": ""
           },
           "bgcolor": "#E5ECF6",
           "radialaxis": {
            "gridcolor": "white",
            "linecolor": "white",
            "ticks": ""
           }
          },
          "scene": {
           "xaxis": {
            "backgroundcolor": "#E5ECF6",
            "gridcolor": "white",
            "gridwidth": 2,
            "linecolor": "white",
            "showbackground": true,
            "ticks": "",
            "zerolinecolor": "white"
           },
           "yaxis": {
            "backgroundcolor": "#E5ECF6",
            "gridcolor": "white",
            "gridwidth": 2,
            "linecolor": "white",
            "showbackground": true,
            "ticks": "",
            "zerolinecolor": "white"
           },
           "zaxis": {
            "backgroundcolor": "#E5ECF6",
            "gridcolor": "white",
            "gridwidth": 2,
            "linecolor": "white",
            "showbackground": true,
            "ticks": "",
            "zerolinecolor": "white"
           }
          },
          "shapedefaults": {
           "line": {
            "color": "#2a3f5f"
           }
          },
          "ternary": {
           "aaxis": {
            "gridcolor": "white",
            "linecolor": "white",
            "ticks": ""
           },
           "baxis": {
            "gridcolor": "white",
            "linecolor": "white",
            "ticks": ""
           },
           "bgcolor": "#E5ECF6",
           "caxis": {
            "gridcolor": "white",
            "linecolor": "white",
            "ticks": ""
           }
          },
          "title": {
           "x": 0.05
          },
          "xaxis": {
           "automargin": true,
           "gridcolor": "white",
           "linecolor": "white",
           "ticks": "",
           "title": {
            "standoff": 15
           },
           "zerolinecolor": "white",
           "zerolinewidth": 2
          },
          "yaxis": {
           "automargin": true,
           "gridcolor": "white",
           "linecolor": "white",
           "ticks": "",
           "title": {
            "standoff": 15
           },
           "zerolinecolor": "white",
           "zerolinewidth": 2
          }
         }
        },
        "title": {
         "text": "Tokens Polarity vs Subjectivity vs Frequency"
        }
       }
      }
     },
     "metadata": {},
     "output_type": "display_data"
    }
   ],
   "source": [
    "fig3d = px.scatter_3d(\n",
    "    log_Cleaned_macro_data_frame,\n",
    "    x=\"Frequency\",\n",
    "    y=\"Polarity\",\n",
    "    z=\"Objetivity\",\n",
    "    hover_name=macro_data_frame.loc[(list(log_updated_new_data_set_df.columns))].index.astype(str),\n",
    "    hover_data={\"Frequency\":\":.3f\", \"Polarity\":\":.3f\", \"Objetivity\":True},\n",
    "    title=f\"Tokens Polarity vs Subjectivity vs Frequency\"\n",
    ")\n",
    "\n",
    "\n",
    "fig3d.show()"
   ]
  },
  {
   "cell_type": "markdown",
   "metadata": {},
   "source": [
    "##### **Comment**:\n",
    "I see in the visualization that polarity AVG seems to be close to 0 while some words to deviate but this words are words that denote positive or negative things in its meaning like bad or great, So perhaps further cleaning for this wwords would help have a better look. Objectivity seems to have more variance.\n",
    "\n",
    "This analysis tries to see if the mean value of each token appeareance in their documents but  the Objectivity and Polarity ratings are NOT initally computed per WORD/TOKEN but per document, something important to take into account. "
   ]
  },
  {
   "cell_type": "code",
   "execution_count": 27,
   "metadata": {},
   "outputs": [
    {
     "data": {
      "image/png": "[encoded data removed]",
      "text/plain": [
       "<Figure size 1200x600 with 1 Axes>"
      ]
     },
     "metadata": {},
     "output_type": "display_data"
    }
   ],
   "source": [
    "# CLOUD WORD plot\n",
    "\n",
    "if wordcloud_toggle :\n",
    "      word_freq_dic = log_Cleaned_macro_data_frame.Frequency.to_dict()\n",
    "\n",
    "      wc = (WordCloud(width=1200, height=600, background_color=\"white\", max_words=300)\n",
    "            .generate_from_frequencies(word_freq_dic))\n",
    "\n",
    "      plt.figure(figsize=(12, 6))\n",
    "      plt.imshow(wc, interpolation=\"bilinear\")\n",
    "      plt.axis(\"off\")\n",
    "      plt.tight_layout()\n",
    "      plt.show()\n",
    "else:\n",
    "      print (\"~~~~~~~~~~~~~~~~~~~~~~~~~~~~~~~~~~~~~~~~~~~~~~~~~~~~~~~~~~~~~~~~~~~~~~~~~~~~~~~~~~~~~~~~~~~~~~~~~~~~~~\")\n",
    "      print (\"                                              ERROR                                                   \")\n",
    "      print (\"---------------- Must Install wordcloud library to display this visualization ------------------------\")\n",
    "      print (\"~~~~~~~~~~~~~~~~~~~~~~~~~~~~~~~~~~~~~~~~~~~~~~~~~~~~~~~~~~~~~~~~~~~~~~~~~~~~~~~~~~~~~~~~~~~~~~~~~~~~~~\")"
   ]
  },
  {
   "cell_type": "markdown",
   "metadata": {},
   "source": [
    "##### **Comment**:\n",
    "As a intitive visualization, this word cloud is pretty good but my opinion is that is not adding any extra layer of analysis compared to the frequency graphs, is good way to present it to non technical shareholders  "
   ]
  },
  {
   "cell_type": "code",
   "execution_count": 28,
   "metadata": {},
   "outputs": [
    {
     "data": {
      "application/vnd.plotly.v1+json": {
       "config": {
        "plotlyServerURL": "https://plot.ly"
       },
       "data": [
        {
         "hovertemplate": "Cleaned Bigram Tokens=%{x}<br> Frequencies=%{y}<extra></extra>",
         "legendgroup": "",
         "marker": {
          "color": "#636efa",
          "pattern": {
           "shape": ""
          }
         },
         "name": "",
         "orientation": "h",
         "showlegend": false,
         "textposition": "auto",
         "type": "bar",
         "x": {
          "bdata": "HRYSEhAJBwcGBgYGBgYGBQUFBQU=",
          "dtype": "i1"
         },
         "xaxis": "x",
         "y": [
          "stock market",
          "stockbuyvest com",
          "emote t5_2th52",
          "img emote",
          "futures price",
          "bond market",
          "t5_2th52 4271",
          "updated weekly",
          "don think",
          "long term",
          "upgrades downgrades",
          "insider trading",
          "looks like",
          "trade war",
          "btcusd ethusd",
          "daily trends",
          "china doesn",
          "cap highlights",
          "x200b btcusd",
          "x200b cryptocurrency"
         ],
         "yaxis": "y"
        }
       ],
       "layout": {
        "barmode": "relative",
        "legend": {
         "tracegroupgap": 0
        },
        "template": {
         "data": {
          "bar": [
           {
            "error_x": {
             "color": "#2a3f5f"
            },
            "error_y": {
             "color": "#2a3f5f"
            },
            "marker": {
             "line": {
              "color": "#E5ECF6",
              "width": 0.5
             },
             "pattern": {
              "fillmode": "overlay",
              "size": 10,
              "solidity": 0.2
             }
            },
            "type": "bar"
           }
          ],
          "barpolar": [
           {
            "marker": {
             "line": {
              "color": "#E5ECF6",
              "width": 0.5
             },
             "pattern": {
              "fillmode": "overlay",
              "size": 10,
              "solidity": 0.2
             }
            },
            "type": "barpolar"
           }
          ],
          "carpet": [
           {
            "aaxis": {
             "endlinecolor": "#2a3f5f",
             "gridcolor": "white",
             "linecolor": "white",
             "minorgridcolor": "white",
             "startlinecolor": "#2a3f5f"
            },
            "baxis": {
             "endlinecolor": "#2a3f5f",
             "gridcolor": "white",
             "linecolor": "white",
             "minorgridcolor": "white",
             "startlinecolor": "#2a3f5f"
            },
            "type": "carpet"
           }
          ],
          "choropleth": [
           {
            "colorbar": {
             "outlinewidth": 0,
             "ticks": ""
            },
            "type": "choropleth"
           }
          ],
          "contour": [
           {
            "colorbar": {
             "outlinewidth": 0,
             "ticks": ""
            },
            "colorscale": [
             [
              0,
              "#0d0887"
             ],
             [
              0.1111111111111111,
              "#46039f"
             ],
             [
              0.2222222222222222,
              "#7201a8"
             ],
             [
              0.3333333333333333,
              "#9c179e"
             ],
             [
              0.4444444444444444,
              "#bd3786"
             ],
             [
              0.5555555555555556,
              "#d8576b"
             ],
             [
              0.6666666666666666,
              "#ed7953"
             ],
             [
              0.7777777777777778,
              "#fb9f3a"
             ],
             [
              0.8888888888888888,
              "#fdca26"
             ],
             [
              1,
              "#f0f921"
             ]
            ],
            "type": "contour"
           }
          ],
          "contourcarpet": [
           {
            "colorbar": {
             "outlinewidth": 0,
             "ticks": ""
            },
            "type": "contourcarpet"
           }
          ],
          "heatmap": [
           {
            "colorbar": {
             "outlinewidth": 0,
             "ticks": ""
            },
            "colorscale": [
             [
              0,
              "#0d0887"
             ],
             [
              0.1111111111111111,
              "#46039f"
             ],
             [
              0.2222222222222222,
              "#7201a8"
             ],
             [
              0.3333333333333333,
              "#9c179e"
             ],
             [
              0.4444444444444444,
              "#bd3786"
             ],
             [
              0.5555555555555556,
              "#d8576b"
             ],
             [
              0.6666666666666666,
              "#ed7953"
             ],
             [
              0.7777777777777778,
              "#fb9f3a"
             ],
             [
              0.8888888888888888,
              "#fdca26"
             ],
             [
              1,
              "#f0f921"
             ]
            ],
            "type": "heatmap"
           }
          ],
          "histogram": [
           {
            "marker": {
             "pattern": {
              "fillmode": "overlay",
              "size": 10,
              "solidity": 0.2
             }
            },
            "type": "histogram"
           }
          ],
          "histogram2d": [
           {
            "colorbar": {
             "outlinewidth": 0,
             "ticks": ""
            },
            "colorscale": [
             [
              0,
              "#0d0887"
             ],
             [
              0.1111111111111111,
              "#46039f"
             ],
             [
              0.2222222222222222,
              "#7201a8"
             ],
             [
              0.3333333333333333,
              "#9c179e"
             ],
             [
              0.4444444444444444,
              "#bd3786"
             ],
             [
              0.5555555555555556,
              "#d8576b"
             ],
             [
              0.6666666666666666,
              "#ed7953"
             ],
             [
              0.7777777777777778,
              "#fb9f3a"
             ],
             [
              0.8888888888888888,
              "#fdca26"
             ],
             [
              1,
              "#f0f921"
             ]
            ],
            "type": "histogram2d"
           }
          ],
          "histogram2dcontour": [
           {
            "colorbar": {
             "outlinewidth": 0,
             "ticks": ""
            },
            "colorscale": [
             [
              0,
              "#0d0887"
             ],
             [
              0.1111111111111111,
              "#46039f"
             ],
             [
              0.2222222222222222,
              "#7201a8"
             ],
             [
              0.3333333333333333,
              "#9c179e"
             ],
             [
              0.4444444444444444,
              "#bd3786"
             ],
             [
              0.5555555555555556,
              "#d8576b"
             ],
             [
              0.6666666666666666,
              "#ed7953"
             ],
             [
              0.7777777777777778,
              "#fb9f3a"
             ],
             [
              0.8888888888888888,
              "#fdca26"
             ],
             [
              1,
              "#f0f921"
             ]
            ],
            "type": "histogram2dcontour"
           }
          ],
          "mesh3d": [
           {
            "colorbar": {
             "outlinewidth": 0,
             "ticks": ""
            },
            "type": "mesh3d"
           }
          ],
          "parcoords": [
           {
            "line": {
             "colorbar": {
              "outlinewidth": 0,
              "ticks": ""
             }
            },
            "type": "parcoords"
           }
          ],
          "pie": [
           {
            "automargin": true,
            "type": "pie"
           }
          ],
          "scatter": [
           {
            "fillpattern": {
             "fillmode": "overlay",
             "size": 10,
             "solidity": 0.2
            },
            "type": "scatter"
           }
          ],
          "scatter3d": [
           {
            "line": {
             "colorbar": {
              "outlinewidth": 0,
              "ticks": ""
             }
            },
            "marker": {
             "colorbar": {
              "outlinewidth": 0,
              "ticks": ""
             }
            },
            "type": "scatter3d"
           }
          ],
          "scattercarpet": [
           {
            "marker": {
             "colorbar": {
              "outlinewidth": 0,
              "ticks": ""
             }
            },
            "type": "scattercarpet"
           }
          ],
          "scattergeo": [
           {
            "marker": {
             "colorbar": {
              "outlinewidth": 0,
              "ticks": ""
             }
            },
            "type": "scattergeo"
           }
          ],
          "scattergl": [
           {
            "marker": {
             "colorbar": {
              "outlinewidth": 0,
              "ticks": ""
             }
            },
            "type": "scattergl"
           }
          ],
          "scattermap": [
           {
            "marker": {
             "colorbar": {
              "outlinewidth": 0,
              "ticks": ""
             }
            },
            "type": "scattermap"
           }
          ],
          "scattermapbox": [
           {
            "marker": {
             "colorbar": {
              "outlinewidth": 0,
              "ticks": ""
             }
            },
            "type": "scattermapbox"
           }
          ],
          "scatterpolar": [
           {
            "marker": {
             "colorbar": {
              "outlinewidth": 0,
              "ticks": ""
             }
            },
            "type": "scatterpolar"
           }
          ],
          "scatterpolargl": [
           {
            "marker": {
             "colorbar": {
              "outlinewidth": 0,
              "ticks": ""
             }
            },
            "type": "scatterpolargl"
           }
          ],
          "scatterternary": [
           {
            "marker": {
             "colorbar": {
              "outlinewidth": 0,
              "ticks": ""
             }
            },
            "type": "scatterternary"
           }
          ],
          "surface": [
           {
            "colorbar": {
             "outlinewidth": 0,
             "ticks": ""
            },
            "colorscale": [
             [
              0,
              "#0d0887"
             ],
             [
              0.1111111111111111,
              "#46039f"
             ],
             [
              0.2222222222222222,
              "#7201a8"
             ],
             [
              0.3333333333333333,
              "#9c179e"
             ],
             [
              0.4444444444444444,
              "#bd3786"
             ],
             [
              0.5555555555555556,
              "#d8576b"
             ],
             [
              0.6666666666666666,
              "#ed7953"
             ],
             [
              0.7777777777777778,
              "#fb9f3a"
             ],
             [
              0.8888888888888888,
              "#fdca26"
             ],
             [
              1,
              "#f0f921"
             ]
            ],
            "type": "surface"
           }
          ],
          "table": [
           {
            "cells": {
             "fill": {
              "color": "#EBF0F8"
             },
             "line": {
              "color": "white"
             }
            },
            "header": {
             "fill": {
              "color": "#C8D4E3"
             },
             "line": {
              "color": "white"
             }
            },
            "type": "table"
           }
          ]
         },
         "layout": {
          "annotationdefaults": {
           "arrowcolor": "#2a3f5f",
           "arrowhead": 0,
           "arrowwidth": 1
          },
          "autotypenumbers": "strict",
          "coloraxis": {
           "colorbar": {
            "outlinewidth": 0,
            "ticks": ""
           }
          },
          "colorscale": {
           "diverging": [
            [
             0,
             "#8e0152"
            ],
            [
             0.1,
             "#c51b7d"
            ],
            [
             0.2,
             "#de77ae"
            ],
            [
             0.3,
             "#f1b6da"
            ],
            [
             0.4,
             "#fde0ef"
            ],
            [
             0.5,
             "#f7f7f7"
            ],
            [
             0.6,
             "#e6f5d0"
            ],
            [
             0.7,
             "#b8e186"
            ],
            [
             0.8,
             "#7fbc41"
            ],
            [
             0.9,
             "#4d9221"
            ],
            [
             1,
             "#276419"
            ]
           ],
           "sequential": [
            [
             0,
             "#0d0887"
            ],
            [
             0.1111111111111111,
             "#46039f"
            ],
            [
             0.2222222222222222,
             "#7201a8"
            ],
            [
             0.3333333333333333,
             "#9c179e"
            ],
            [
             0.4444444444444444,
             "#bd3786"
            ],
            [
             0.5555555555555556,
             "#d8576b"
            ],
            [
             0.6666666666666666,
             "#ed7953"
            ],
            [
             0.7777777777777778,
             "#fb9f3a"
            ],
            [
             0.8888888888888888,
             "#fdca26"
            ],
            [
             1,
             "#f0f921"
            ]
           ],
           "sequentialminus": [
            [
             0,
             "#0d0887"
            ],
            [
             0.1111111111111111,
             "#46039f"
            ],
            [
             0.2222222222222222,
             "#7201a8"
            ],
            [
             0.3333333333333333,
             "#9c179e"
            ],
            [
             0.4444444444444444,
             "#bd3786"
            ],
            [
             0.5555555555555556,
             "#d8576b"
            ],
            [
             0.6666666666666666,
             "#ed7953"
            ],
            [
             0.7777777777777778,
             "#fb9f3a"
            ],
            [
             0.8888888888888888,
             "#fdca26"
            ],
            [
             1,
             "#f0f921"
            ]
           ]
          },
          "colorway": [
           "#636efa",
           "#EF553B",
           "#00cc96",
           "#ab63fa",
           "#FFA15A",
           "#19d3f3",
           "#FF6692",
           "#B6E880",
           "#FF97FF",
           "#FECB52"
          ],
          "font": {
           "color": "#2a3f5f"
          },
          "geo": {
           "bgcolor": "white",
           "lakecolor": "white",
           "landcolor": "#E5ECF6",
           "showlakes": true,
           "showland": true,
           "subunitcolor": "white"
          },
          "hoverlabel": {
           "align": "left"
          },
          "hovermode": "closest",
          "mapbox": {
           "style": "light"
          },
          "paper_bgcolor": "white",
          "plot_bgcolor": "#E5ECF6",
          "polar": {
           "angularaxis": {
            "gridcolor": "white",
            "linecolor": "white",
            "ticks": ""
           },
           "bgcolor": "#E5ECF6",
           "radialaxis": {
            "gridcolor": "white",
            "linecolor": "white",
            "ticks": ""
           }
          },
          "scene": {
           "xaxis": {
            "backgroundcolor": "#E5ECF6",
            "gridcolor": "white",
            "gridwidth": 2,
            "linecolor": "white",
            "showbackground": true,
            "ticks": "",
            "zerolinecolor": "white"
           },
           "yaxis": {
            "backgroundcolor": "#E5ECF6",
            "gridcolor": "white",
            "gridwidth": 2,
            "linecolor": "white",
            "showbackground": true,
            "ticks": "",
            "zerolinecolor": "white"
           },
           "zaxis": {
            "backgroundcolor": "#E5ECF6",
            "gridcolor": "white",
            "gridwidth": 2,
            "linecolor": "white",
            "showbackground": true,
            "ticks": "",
            "zerolinecolor": "white"
           }
          },
          "shapedefaults": {
           "line": {
            "color": "#2a3f5f"
           }
          },
          "ternary": {
           "aaxis": {
            "gridcolor": "white",
            "linecolor": "white",
            "ticks": ""
           },
           "baxis": {
            "gridcolor": "white",
            "linecolor": "white",
            "ticks": ""
           },
           "bgcolor": "#E5ECF6",
           "caxis": {
            "gridcolor": "white",
            "linecolor": "white",
            "ticks": ""
           }
          },
          "title": {
           "x": 0.05
          },
          "xaxis": {
           "automargin": true,
           "gridcolor": "white",
           "linecolor": "white",
           "ticks": "",
           "title": {
            "standoff": 15
           },
           "zerolinecolor": "white",
           "zerolinewidth": 2
          },
          "yaxis": {
           "automargin": true,
           "gridcolor": "white",
           "linecolor": "white",
           "ticks": "",
           "title": {
            "standoff": 15
           },
           "zerolinecolor": "white",
           "zerolinewidth": 2
          }
         }
        },
        "title": {
         "text": "Bigram Frequency Top 20 most important"
        },
        "xaxis": {
         "anchor": "y",
         "domain": [
          0,
          1
         ],
         "title": {
          "text": "Cleaned Bigram Tokens"
         }
        },
        "yaxis": {
         "anchor": "x",
         "domain": [
          0,
          1
         ],
         "title": {
          "text": " Frequencies"
         }
        }
       }
      }
     },
     "metadata": {},
     "output_type": "display_data"
    }
   ],
   "source": [
    "# Bigram Analysis and plot\n",
    "count_vect_cleaned_bigram = CountVectorizer(stop_words=\"english\",  # remove built-in English stopwords\n",
    "    ngram_range=(2, 2),     # bigram argument <----\n",
    "    min_df=2,              # keep words in >=2\n",
    "    max_df=0.95             # remove words that are too often\n",
    ")\n",
    "\n",
    "new_data_set_counts_clean_bigram = count_vect_cleaned_bigram.fit_transform(new_data_set_df.text) \n",
    "\n",
    "term_frequencies_clean_bigram = np.asarray(new_data_set_counts_clean_bigram.sum(axis=0))[0]\n",
    "bigrams_series = pd.Series(term_frequencies_clean_bigram,index=count_vect_cleaned_bigram.get_feature_names_out())\n",
    "sorted_bigrams_series= bigrams_series.sort_values(ascending=False)\n",
    "\n",
    "grahph_plot = px.bar(x=sorted_bigrams_series.values[:20], \n",
    "            y= sorted_bigrams_series.index[:20] ,title=\"Bigram Frequency Top 20 most important\",labels = {\"x\":\"Cleaned Bigram Tokens\",\"y\":\" Frequencies\"},orientation=\"h\")\n",
    "grahph_plot.show()"
   ]
  },
  {
   "cell_type": "markdown",
   "metadata": {},
   "source": [
    "# Phase 2"
   ]
  },
  {
   "cell_type": "markdown",
   "metadata": {},
   "source": [
    "##### **Comment**:\n",
    "So far witht the actual bigram constructions, it does not seem to display any significant insites yet, perhaps with try and error of different regex patterns, something better could be found."
   ]
  },
  {
   "cell_type": "code",
   "execution_count": 29,
   "metadata": {},
   "outputs": [],
   "source": [
    "### Begin Assignment Here\n"
   ]
  },
  {
   "cell_type": "code",
   "execution_count": null,
   "metadata": {},
   "outputs": [],
   "source": []
  }
 ],
 "metadata": {
  "kernelspec": {
   "display_name": "Lab1",
   "language": "python",
   "name": "python3"
  },
  "language_info": {
   "codemirror_mode": {
    "name": "ipython",
    "version": 3
   },
   "file_extension": ".py",
   "mimetype": "text/x-python",
   "name": "python",
   "nbconvert_exporter": "python",
   "pygments_lexer": "ipython3",
   "version": "3.11.13"
  }
 },
 "nbformat": 4,
 "nbformat_minor": 4
}
